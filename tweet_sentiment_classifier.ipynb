{
 "cells": [
  {
   "cell_type": "markdown",
   "metadata": {
    "id": "MP8guU7geWYg"
   },
   "source": [
    "# Libraries & Data"
   ]
  },
  {
   "cell_type": "code",
   "execution_count": 1,
   "metadata": {
    "ExecuteTime": {
     "end_time": "2024-09-06T08:27:20.206343Z",
     "start_time": "2024-09-06T08:27:20.197071Z"
    },
    "collapsed": false
   },
   "outputs": [],
   "source": [
    "# !pip install numpy==1.23.5\n",
    "# !pip install scikit-learn\n",
    "# !pip install pandas\n",
    "# !pip install matplotlib\n",
    "# !pip install nltk\n",
    "# !pip install emoji\n",
    "# !pip install -U keras-tuner\n",
    "# !pip install tensorflow\n",
    "# !pip install kaggle\n",
    "# !pip install -U spacy\n",
    "# !pip install gensim\n",
    "#\n",
    "# !rm -r KT_dir_2"
   ]
  },
  {
   "cell_type": "code",
   "execution_count": 2,
   "metadata": {
    "ExecuteTime": {
     "end_time": "2024-09-06T08:27:42.462798Z",
     "start_time": "2024-09-06T08:27:21.548485Z"
    },
    "collapsed": false
   },
   "outputs": [],
   "source": [
    "import nltk\n",
    "import tensorflow as tf\n",
    "import keras_tuner as kt\n",
    "import matplotlib.pyplot as plt\n",
    "import pandas as pd\n",
    "import numpy as np\n",
    "import os, json, re, time, emoji, kaggle\n",
    "import gensim.downloader as api\n",
    "\n",
    "\n",
    "from nltk.tag.perceptron import PerceptronTagger\n",
    "from nltk.tokenize import TweetTokenizer\n",
    "from nltk.stem import WordNetLemmatizer\n",
    "from nltk.corpus import wordnet, stopwords\n",
    "\n",
    "from sklearn.model_selection import train_test_split\n",
    "from sklearn.metrics import (\n",
    "    precision_recall_curve,\n",
    "    auc,\n",
    "    accuracy_score,\n",
    "    ConfusionMatrixDisplay,\n",
    "    f1_score,\n",
    "    recall_score,\n",
    "    precision_score,\n",
    "    classification_report,\n",
    ")\n",
    "from sklearn.dummy import DummyClassifier\n",
    "from sklearn.feature_extraction.text import TfidfVectorizer\n",
    "from sklearn.linear_model import LogisticRegressionCV\n",
    "\n",
    "from tensorflow.keras.models import Sequential\n",
    "from tensorflow.keras.callbacks import ModelCheckpoint\n",
    "from tensorflow.keras.layers import Dense, Dropout\n",
    "from tensorflow.keras.optimizers import Adam\n",
    "from tensorflow.keras.metrics import CategoricalAccuracy\n",
    "from tensorflow.keras.models import load_model\n",
    "from tensorflow.keras.callbacks import EarlyStopping\n",
    "\n",
    "from spacy.lang.en.stop_words import STOP_WORDS"
   ]
  },
  {
   "cell_type": "code",
   "execution_count": 3,
   "metadata": {
    "ExecuteTime": {
     "end_time": "2024-09-06T08:29:54.594103Z",
     "start_time": "2024-09-06T08:29:54.277080Z"
    },
    "collapsed": false
   },
   "outputs": [
    {
     "name": "stderr",
     "output_type": "stream",
     "text": [
      "[nltk_data] Downloading package punkt to /Users/antonal/nltk_data...\n",
      "[nltk_data]   Package punkt is already up-to-date!\n",
      "[nltk_data] Downloading package stopwords to\n",
      "[nltk_data]     /Users/antonal/nltk_data...\n",
      "[nltk_data]   Package stopwords is already up-to-date!\n",
      "[nltk_data] Downloading package wordnet to /Users/antonal/nltk_data...\n",
      "[nltk_data]   Package wordnet is already up-to-date!\n",
      "[nltk_data] Downloading package omw-1.4 to /Users/antonal/nltk_data...\n",
      "[nltk_data]   Package omw-1.4 is already up-to-date!\n",
      "[nltk_data] Downloading package averaged_perceptron_tagger to\n",
      "[nltk_data]     /Users/antonal/nltk_data...\n",
      "[nltk_data]   Package averaged_perceptron_tagger is already up-to-\n",
      "[nltk_data]       date!\n"
     ]
    },
    {
     "data": {
      "text/plain": [
       "True"
      ]
     },
     "execution_count": 3,
     "metadata": {},
     "output_type": "execute_result"
    }
   ],
   "source": [
    "os.environ[\"TF_CPP_MIN_LOG_LEVEL\"] = \"3\"\n",
    "\n",
    "nltk.download(\"punkt\")\n",
    "nltk.download(\"stopwords\")\n",
    "nltk.download(\"wordnet\")\n",
    "nltk.download(\"omw-1.4\")\n",
    "nltk.download(\"averaged_perceptron_tagger\")"
   ]
  },
  {
   "cell_type": "code",
   "execution_count": 4,
   "metadata": {
    "ExecuteTime": {
     "end_time": "2024-09-06T08:30:01.072991Z",
     "start_time": "2024-09-06T08:29:58.896892Z"
    },
    "id": "GybjyfVfeskj"
   },
   "outputs": [
    {
     "name": "stdout",
     "output_type": "stream",
     "text": [
      "Warning: Looks like you're using an outdated API Version, please consider updating (server 1.6.17 / client 1.6.14)\r\n",
      "Dataset URL: https://www.kaggle.com/datasets/jp797498e/twitter-entity-sentiment-analysis\r\n",
      "License(s): CC0-1.0\r\n",
      "Downloading twitter-entity-sentiment-analysis.zip to /Users/antonal/Desktop/recommender/ta/ta3\r\n",
      " 50%|███████████████████                   | 1.00M/1.99M [00:00<00:00, 2.11MB/s]\r\n",
      "100%|██████████████████████████████████████| 1.99M/1.99M [00:00<00:00, 3.55MB/s]\r\n"
     ]
    }
   ],
   "source": [
    "# Ensure the Kaggle directory exists\n",
    "os.makedirs(os.path.expanduser(\"~/.kaggle\"), exist_ok=True)\n",
    "\n",
    "# Copy kaggle.json to the right location if it is not already there\n",
    "# Uncomment and modify the below lines if you need to place your kaggle.json file in the right directory\n",
    "# import shutil\n",
    "# shutil.copy('path_to_your_kaggle.json', os.path.expanduser('~/.kaggle/kaggle.json'))\n",
    "\n",
    "# Download the dataset using Kaggle API\n",
    "!kaggle datasets download -d jp797498e/twitter-entity-sentiment-analysis"
   ]
  },
  {
   "cell_type": "code",
   "execution_count": 7,
   "metadata": {
    "ExecuteTime": {
     "end_time": "2024-08-29T07:20:12.347828Z",
     "start_time": "2024-08-29T07:20:11.973651Z"
    },
    "collapsed": false
   },
   "outputs": [
    {
     "name": "stdout",
     "output_type": "stream",
     "text": [
      "mkdir: /Users/antonal/.kaggle: File exists\r\n"
     ]
    }
   ],
   "source": [
    "!mkdir ~/.kaggle\n",
    "!touch ~/.kaggle/kaggle.json\n",
    "\n",
    "api_token = {\"username\": \"{username}\", \"key\": \"{key}\"}\n",
    "\n",
    "with open(\"/Users/antonal/.kaggle/kaggle.json\", \"w\") as file:\n",
    "    json.dump(api_token, file)\n",
    "\n",
    "!chmod 600 ~/.kaggle/kaggle.json"
   ]
  },
  {
   "cell_type": "code",
   "execution_count": 8,
   "metadata": {
    "ExecuteTime": {
     "end_time": "2024-08-29T07:20:33.669137Z",
     "start_time": "2024-08-29T07:20:28.839583Z"
    },
    "collapsed": false
   },
   "outputs": [],
   "source": [
    "kaggle.api.authenticate()\n",
    "kaggle.api.competition_download_files(\"twitter-sentiment-analysis2\")"
   ]
  },
  {
   "cell_type": "code",
   "execution_count": 9,
   "metadata": {
    "ExecuteTime": {
     "end_time": "2024-08-29T07:20:35.196573Z",
     "start_time": "2024-08-29T07:20:34.804996Z"
    },
    "collapsed": false
   },
   "outputs": [
    {
     "name": "stdout",
     "output_type": "stream",
     "text": [
      "Archive:  twitter-sentiment-analysis2.zip\r\n",
      "  inflating: test.csv                \r\n",
      "  inflating: train.csv               \r\n"
     ]
    }
   ],
   "source": [
    "!unzip twitter-sentiment-analysis2.zip"
   ]
  },
  {
   "cell_type": "markdown",
   "metadata": {
    "collapsed": false
   },
   "source": [
    "### Initialise dataset"
   ]
  },
  {
   "cell_type": "code",
   "execution_count": 5,
   "metadata": {
    "ExecuteTime": {
     "end_time": "2024-09-06T08:30:18.836849Z",
     "start_time": "2024-09-06T08:30:18.720990Z"
    },
    "id": "lTf7s7zSetW4"
   },
   "outputs": [
    {
     "data": {
      "text/html": [
       "<div>\n",
       "<style scoped>\n",
       "    .dataframe tbody tr th:only-of-type {\n",
       "        vertical-align: middle;\n",
       "    }\n",
       "\n",
       "    .dataframe tbody tr th {\n",
       "        vertical-align: top;\n",
       "    }\n",
       "\n",
       "    .dataframe thead th {\n",
       "        text-align: right;\n",
       "    }\n",
       "</style>\n",
       "<table border=\"1\" class=\"dataframe\">\n",
       "  <thead>\n",
       "    <tr style=\"text-align: right;\">\n",
       "      <th></th>\n",
       "      <th>Sentiment</th>\n",
       "      <th>SentimentText</th>\n",
       "    </tr>\n",
       "  </thead>\n",
       "  <tbody>\n",
       "    <tr>\n",
       "      <th>0</th>\n",
       "      <td>1</td>\n",
       "      <td>#Charlotte NC Rides i need a ride to pgh,pa! (...</td>\n",
       "    </tr>\n",
       "    <tr>\n",
       "      <th>1</th>\n",
       "      <td>1</td>\n",
       "      <td>&amp;quot;Invisible Bow and Arrow :  Free&amp;quot; - ...</td>\n",
       "    </tr>\n",
       "    <tr>\n",
       "      <th>2</th>\n",
       "      <td>0</td>\n",
       "      <td>i have a cold!</td>\n",
       "    </tr>\n",
       "    <tr>\n",
       "      <th>3</th>\n",
       "      <td>0</td>\n",
       "      <td>#dontyouhate when your hungry but u dnt know w...</td>\n",
       "    </tr>\n",
       "    <tr>\n",
       "      <th>4</th>\n",
       "      <td>1</td>\n",
       "      <td>Goood Morning Twittz. I'm in an Extremely goo...</td>\n",
       "    </tr>\n",
       "    <tr>\n",
       "      <th>...</th>\n",
       "      <td>...</td>\n",
       "      <td>...</td>\n",
       "    </tr>\n",
       "    <tr>\n",
       "      <th>9995</th>\n",
       "      <td>1</td>\n",
       "      <td>#followfriday @Annjj  cos she tastes like cher...</td>\n",
       "    </tr>\n",
       "    <tr>\n",
       "      <th>9996</th>\n",
       "      <td>0</td>\n",
       "      <td>one of my cats is very ill after reacting bad...</td>\n",
       "    </tr>\n",
       "    <tr>\n",
       "      <th>9997</th>\n",
       "      <td>0</td>\n",
       "      <td>Forgot about them science exams tbh (N)</td>\n",
       "    </tr>\n",
       "    <tr>\n",
       "      <th>9998</th>\n",
       "      <td>0</td>\n",
       "      <td>this bit in camp rock always makes me upset.....</td>\n",
       "    </tr>\n",
       "    <tr>\n",
       "      <th>9999</th>\n",
       "      <td>1</td>\n",
       "      <td>&amp;quot;think before you ink&amp;quot; bahaha I love...</td>\n",
       "    </tr>\n",
       "  </tbody>\n",
       "</table>\n",
       "<p>10000 rows × 2 columns</p>\n",
       "</div>"
      ],
      "text/plain": [
       "      Sentiment                                      SentimentText\n",
       "0             1  #Charlotte NC Rides i need a ride to pgh,pa! (...\n",
       "1             1  &quot;Invisible Bow and Arrow :  Free&quot; - ...\n",
       "2             0                                     i have a cold!\n",
       "3             0  #dontyouhate when your hungry but u dnt know w...\n",
       "4             1   Goood Morning Twittz. I'm in an Extremely goo...\n",
       "...         ...                                                ...\n",
       "9995          1  #followfriday @Annjj  cos she tastes like cher...\n",
       "9996          0   one of my cats is very ill after reacting bad...\n",
       "9997          0            Forgot about them science exams tbh (N)\n",
       "9998          0   this bit in camp rock always makes me upset.....\n",
       "9999          1  &quot;think before you ink&quot; bahaha I love...\n",
       "\n",
       "[10000 rows x 2 columns]"
      ]
     },
     "execution_count": 5,
     "metadata": {},
     "output_type": "execute_result"
    }
   ],
   "source": [
    "# Read the CSV file 'train.csv', selecting only the 'Sentiment' and 'SentimentText' columns.\n",
    "df_tweet_sentiment = pd.read_csv(\n",
    "    \"./train.csv\",\n",
    "    encoding=\"ISO-8859-1\",\n",
    "    usecols=[\"Sentiment\", \"SentimentText\"],\n",
    "    index_col=False,\n",
    ")\n",
    "\n",
    "# Filtering the DataFrame to get the first 5000 rows where the sentiment is 0 (negative)\n",
    "df_negative_tweets = df_tweet_sentiment[df_tweet_sentiment[\"Sentiment\"] == 0].head(5000)\n",
    "\n",
    "# Filtering the DataFrame to get the first 5000 rows where the sentiment is 1 (positive)\n",
    "df_positive_tweets = df_tweet_sentiment[df_tweet_sentiment[\"Sentiment\"] == 1].head(5000)\n",
    "\n",
    "# Concatenate the two filtered DataFrames into a single DataFrame\n",
    "df_tweet_sentiment = pd.concat([df_negative_tweets, df_positive_tweets])\n",
    "\n",
    "# Shuffle the concatenated DataFrame randomly and reset the index\n",
    "df_tweet_sentiment = df_tweet_sentiment.sample(frac=1).reset_index(drop=True)\n",
    "df_tweet_sentiment"
   ]
  },
  {
   "cell_type": "code",
   "execution_count": 6,
   "metadata": {
    "ExecuteTime": {
     "end_time": "2024-09-06T08:30:21.092649Z",
     "start_time": "2024-09-06T08:30:21.040819Z"
    },
    "colab": {
     "base_uri": "https://localhost:8080/"
    },
    "id": "pm6_60nkfACQ",
    "outputId": "7c408f39-028d-4043-ded4-270497fd7369"
   },
   "outputs": [],
   "source": [
    "# Initialize a WordNetLemmatizer, which is used to reduce words to their base or root form, e.g., (churches -> church, abaci -> abacus)\n",
    "lemmatizer = WordNetLemmatizer()\n",
    "\n",
    "# Initialize a PerceptronTagger, which is a part-of-speech tagger used to label words with their corresponding parts of speech\n",
    "tagger = PerceptronTagger()\n",
    "\n",
    "# Initialize a TweetTokenizer, which is specifically designed to handle tokenizing tweets (short text with special characters and emoticons)\n",
    "tweet_wt = TweetTokenizer()"
   ]
  },
  {
   "cell_type": "markdown",
   "metadata": {
    "id": "wp_eqjYHeejp"
   },
   "source": [
    "# Preprocess dataset"
   ]
  },
  {
   "cell_type": "code",
   "execution_count": 7,
   "metadata": {
    "ExecuteTime": {
     "end_time": "2024-09-06T08:30:22.710532Z",
     "start_time": "2024-09-06T08:30:22.704394Z"
    },
    "id": "CgO7FZs4eUk6"
   },
   "outputs": [],
   "source": [
    "# Lemmatization helper function\n",
    "def nltk_pos_tagger(nltk_tag):\n",
    "    if nltk_tag.startswith(\"J\"):\n",
    "        return wordnet.ADJ\n",
    "    elif nltk_tag.startswith(\"V\"):\n",
    "        return wordnet.VERB\n",
    "    elif nltk_tag.startswith(\"N\"):\n",
    "        return wordnet.NOUN\n",
    "    elif nltk_tag.startswith(\"R\"):\n",
    "        return wordnet.ADV\n",
    "    else:\n",
    "        return None"
   ]
  },
  {
   "cell_type": "code",
   "execution_count": 8,
   "metadata": {
    "ExecuteTime": {
     "end_time": "2024-09-06T08:30:23.486551Z",
     "start_time": "2024-09-06T08:30:23.476826Z"
    },
    "id": "Ow1-4g8MekuY"
   },
   "outputs": [],
   "source": [
    "def replace_special_tokens(sequence):\n",
    "    # Replace URLs with the token \"<url>\"\n",
    "    sequence = re.sub(\n",
    "        \"\"\"http[s]?://(?:[a-zA-Z]|[0-9]|[$-_@.&+]|[!*\\(\\),]|(?:%[0-9a-fA-F]\n",
    "        [0-9a-fA-F]))+\"\"\",\n",
    "        \"<url>\",\n",
    "        sequence,\n",
    "    )\n",
    "\n",
    "    # Replace mentions (words starting with @) with the token \"<user>\"\n",
    "    sequence = re.sub(\"@\\S+\", \"<user>\", sequence)\n",
    "\n",
    "    # Replace hashtags (words starting with #) with the token \"<hashtag>\"\n",
    "    sequence = re.sub(\"#\\S+\", \"<hashtag>\", sequence)\n",
    "\n",
    "    # Replace numbers (including decimals) with the token \"<number>\"\n",
    "    sequence = re.sub(\"([+-]?([0-9]+([.][0-9]*)?|[.][0-9]+))\", \"<number>\", sequence)\n",
    "\n",
    "    # Convert emojis to text representation (e.g., 😊 to :smiling_face_with_smiling_eyes:)\n",
    "    sequence = emoji.demojize(sequence)  # remove emojis\n",
    "\n",
    "    # Remove emoticons (represented as :word:) from the sequence\n",
    "    sequence = re.sub(r\"\\s*:[\\w]+\", \" \", sequence)  # remove emoticons\n",
    "\n",
    "    # Convert the entire sequence to lowercase\n",
    "    sequence = sequence.lower()\n",
    "\n",
    "    return sequence"
   ]
  },
  {
   "cell_type": "code",
   "execution_count": 9,
   "metadata": {
    "ExecuteTime": {
     "end_time": "2024-09-06T08:30:27.968504Z",
     "start_time": "2024-09-06T08:30:24.010970Z"
    },
    "id": "wczDPnTXenLE"
   },
   "outputs": [
    {
     "data": {
      "text/html": [
       "<div>\n",
       "<style scoped>\n",
       "    .dataframe tbody tr th:only-of-type {\n",
       "        vertical-align: middle;\n",
       "    }\n",
       "\n",
       "    .dataframe tbody tr th {\n",
       "        vertical-align: top;\n",
       "    }\n",
       "\n",
       "    .dataframe thead th {\n",
       "        text-align: right;\n",
       "    }\n",
       "</style>\n",
       "<table border=\"1\" class=\"dataframe\">\n",
       "  <thead>\n",
       "    <tr style=\"text-align: right;\">\n",
       "      <th></th>\n",
       "      <th>Sentiment</th>\n",
       "      <th>SentimentText</th>\n",
       "      <th>processed_text</th>\n",
       "      <th>tokenized_text</th>\n",
       "      <th>text_tags</th>\n",
       "    </tr>\n",
       "  </thead>\n",
       "  <tbody>\n",
       "    <tr>\n",
       "      <th>0</th>\n",
       "      <td>1</td>\n",
       "      <td>#Charlotte NC Rides i need a ride to pgh,pa! (...</td>\n",
       "      <td>&lt;hashtag&gt; nc rides i need a ride to pgh,pa! (h...</td>\n",
       "      <td>[&lt;hashtag&gt;, nc, rides, i, need, a, ride, to, p...</td>\n",
       "      <td>[(&lt;hashtag&gt;, JJ), (nc, NN), (rides, NNS), (i, ...</td>\n",
       "    </tr>\n",
       "    <tr>\n",
       "      <th>1</th>\n",
       "      <td>1</td>\n",
       "      <td>&amp;quot;Invisible Bow and Arrow :  Free&amp;quot; - ...</td>\n",
       "      <td>&amp;quot;invisible bow and arrow :  free&amp;quot; - ...</td>\n",
       "      <td>[\", invisible, bow, and, arrow, :, free, \", -,...</td>\n",
       "      <td>[(\", NN), (invisible, JJ), (bow, NN), (and, CC...</td>\n",
       "    </tr>\n",
       "    <tr>\n",
       "      <th>2</th>\n",
       "      <td>0</td>\n",
       "      <td>i have a cold!</td>\n",
       "      <td>i have a cold!</td>\n",
       "      <td>[i, have, a, cold, !]</td>\n",
       "      <td>[(i, NNS), (have, VBP), (a, DT), (cold, NN), (...</td>\n",
       "    </tr>\n",
       "    <tr>\n",
       "      <th>3</th>\n",
       "      <td>0</td>\n",
       "      <td>#dontyouhate when your hungry but u dnt know w...</td>\n",
       "      <td>&lt;hashtag&gt; when your hungry but u dnt know what...</td>\n",
       "      <td>[&lt;hashtag&gt;, when, your, hungry, but, u, dnt, k...</td>\n",
       "      <td>[(&lt;hashtag&gt;, NN), (when, WRB), (your, PRP$), (...</td>\n",
       "    </tr>\n",
       "    <tr>\n",
       "      <th>4</th>\n",
       "      <td>1</td>\n",
       "      <td>Goood Morning Twittz. I'm in an Extremely goo...</td>\n",
       "      <td>goood morning twittz. i'm in an extremely goo...</td>\n",
       "      <td>[goood, morning, twittz, ., i'm, in, an, extre...</td>\n",
       "      <td>[(goood, NN), (morning, NN), (twittz, NN), (.,...</td>\n",
       "    </tr>\n",
       "    <tr>\n",
       "      <th>...</th>\n",
       "      <td>...</td>\n",
       "      <td>...</td>\n",
       "      <td>...</td>\n",
       "      <td>...</td>\n",
       "      <td>...</td>\n",
       "    </tr>\n",
       "    <tr>\n",
       "      <th>9995</th>\n",
       "      <td>1</td>\n",
       "      <td>#followfriday @Annjj  cos she tastes like cher...</td>\n",
       "      <td>&lt;hashtag&gt; &lt;user&gt;  cos she tastes like cherry c...</td>\n",
       "      <td>[&lt;hashtag&gt;, &lt;user&gt;, cos, she, tastes, like, ch...</td>\n",
       "      <td>[(&lt;hashtag&gt;, JJ), (&lt;user&gt;, NN), (cos, NN), (sh...</td>\n",
       "    </tr>\n",
       "    <tr>\n",
       "      <th>9996</th>\n",
       "      <td>0</td>\n",
       "      <td>one of my cats is very ill after reacting bad...</td>\n",
       "      <td>one of my cats is very ill after reacting bad...</td>\n",
       "      <td>[one, of, my, cats, is, very, ill, after, reac...</td>\n",
       "      <td>[(one, CD), (of, IN), (my, PRP$), (cats, NNS),...</td>\n",
       "    </tr>\n",
       "    <tr>\n",
       "      <th>9997</th>\n",
       "      <td>0</td>\n",
       "      <td>Forgot about them science exams tbh (N)</td>\n",
       "      <td>forgot about them science exams tbh (n)</td>\n",
       "      <td>[forgot, about, them, science, exams, tbh, (, ...</td>\n",
       "      <td>[(forgot, NNS), (about, IN), (them, PRP), (sci...</td>\n",
       "    </tr>\n",
       "    <tr>\n",
       "      <th>9998</th>\n",
       "      <td>0</td>\n",
       "      <td>this bit in camp rock always makes me upset.....</td>\n",
       "      <td>this bit in camp rock always makes me upset.....</td>\n",
       "      <td>[this, bit, in, camp, rock, always, makes, me,...</td>\n",
       "      <td>[(this, DT), (bit, NN), (in, IN), (camp, NN), ...</td>\n",
       "    </tr>\n",
       "    <tr>\n",
       "      <th>9999</th>\n",
       "      <td>1</td>\n",
       "      <td>&amp;quot;think before you ink&amp;quot; bahaha I love...</td>\n",
       "      <td>&amp;quot;think before you ink&amp;quot; bahaha i love...</td>\n",
       "      <td>[\", think, before, you, ink, \", bahaha, i, lov...</td>\n",
       "      <td>[(\", JJ), (think, NN), (before, IN), (you, PRP...</td>\n",
       "    </tr>\n",
       "  </tbody>\n",
       "</table>\n",
       "<p>10000 rows × 5 columns</p>\n",
       "</div>"
      ],
      "text/plain": [
       "      Sentiment                                      SentimentText  \\\n",
       "0             1  #Charlotte NC Rides i need a ride to pgh,pa! (...   \n",
       "1             1  &quot;Invisible Bow and Arrow :  Free&quot; - ...   \n",
       "2             0                                     i have a cold!   \n",
       "3             0  #dontyouhate when your hungry but u dnt know w...   \n",
       "4             1   Goood Morning Twittz. I'm in an Extremely goo...   \n",
       "...         ...                                                ...   \n",
       "9995          1  #followfriday @Annjj  cos she tastes like cher...   \n",
       "9996          0   one of my cats is very ill after reacting bad...   \n",
       "9997          0            Forgot about them science exams tbh (N)   \n",
       "9998          0   this bit in camp rock always makes me upset.....   \n",
       "9999          1  &quot;think before you ink&quot; bahaha I love...   \n",
       "\n",
       "                                         processed_text  \\\n",
       "0     <hashtag> nc rides i need a ride to pgh,pa! (h...   \n",
       "1     &quot;invisible bow and arrow :  free&quot; - ...   \n",
       "2                                        i have a cold!   \n",
       "3     <hashtag> when your hungry but u dnt know what...   \n",
       "4      goood morning twittz. i'm in an extremely goo...   \n",
       "...                                                 ...   \n",
       "9995  <hashtag> <user>  cos she tastes like cherry c...   \n",
       "9996   one of my cats is very ill after reacting bad...   \n",
       "9997            forgot about them science exams tbh (n)   \n",
       "9998   this bit in camp rock always makes me upset.....   \n",
       "9999  &quot;think before you ink&quot; bahaha i love...   \n",
       "\n",
       "                                         tokenized_text  \\\n",
       "0     [<hashtag>, nc, rides, i, need, a, ride, to, p...   \n",
       "1     [\", invisible, bow, and, arrow, :, free, \", -,...   \n",
       "2                                 [i, have, a, cold, !]   \n",
       "3     [<hashtag>, when, your, hungry, but, u, dnt, k...   \n",
       "4     [goood, morning, twittz, ., i'm, in, an, extre...   \n",
       "...                                                 ...   \n",
       "9995  [<hashtag>, <user>, cos, she, tastes, like, ch...   \n",
       "9996  [one, of, my, cats, is, very, ill, after, reac...   \n",
       "9997  [forgot, about, them, science, exams, tbh, (, ...   \n",
       "9998  [this, bit, in, camp, rock, always, makes, me,...   \n",
       "9999  [\", think, before, you, ink, \", bahaha, i, lov...   \n",
       "\n",
       "                                              text_tags  \n",
       "0     [(<hashtag>, JJ), (nc, NN), (rides, NNS), (i, ...  \n",
       "1     [(\", NN), (invisible, JJ), (bow, NN), (and, CC...  \n",
       "2     [(i, NNS), (have, VBP), (a, DT), (cold, NN), (...  \n",
       "3     [(<hashtag>, NN), (when, WRB), (your, PRP$), (...  \n",
       "4     [(goood, NN), (morning, NN), (twittz, NN), (.,...  \n",
       "...                                                 ...  \n",
       "9995  [(<hashtag>, JJ), (<user>, NN), (cos, NN), (sh...  \n",
       "9996  [(one, CD), (of, IN), (my, PRP$), (cats, NNS),...  \n",
       "9997  [(forgot, NNS), (about, IN), (them, PRP), (sci...  \n",
       "9998  [(this, DT), (bit, NN), (in, IN), (camp, NN), ...  \n",
       "9999  [(\", JJ), (think, NN), (before, IN), (you, PRP...  \n",
       "\n",
       "[10000 rows x 5 columns]"
      ]
     },
     "execution_count": 9,
     "metadata": {},
     "output_type": "execute_result"
    }
   ],
   "source": [
    "# Apply the replace_special_tokens function to the 'SentimentText' column to preprocess the text\n",
    "df_tweet_sentiment[\"processed_text\"] = df_tweet_sentiment[\"SentimentText\"].apply(\n",
    "    replace_special_tokens\n",
    ")\n",
    "\n",
    "# Tokenize the processed text using the TweetTokenizer\n",
    "df_tweet_sentiment[\"tokenized_text\"] = df_tweet_sentiment[\"processed_text\"].apply(\n",
    "    lambda x: tweet_wt.tokenize(x)\n",
    ")\n",
    "\n",
    "# Tag the tokenized text with part-of-speech tags using the PerceptronTagger\n",
    "df_tweet_sentiment[\"text_tags\"] = df_tweet_sentiment[\"tokenized_text\"].apply(\n",
    "    lambda x: tagger.tag(x)\n",
    ")\n",
    "df_tweet_sentiment"
   ]
  },
  {
   "cell_type": "code",
   "execution_count": 10,
   "metadata": {
    "ExecuteTime": {
     "end_time": "2024-09-06T08:30:27.970520Z",
     "start_time": "2024-09-06T08:30:27.969203Z"
    },
    "id": "epLzK6k9f56M"
   },
   "outputs": [],
   "source": [
    "# Function to lemmatize a sequence of tokens with POS tags\n",
    "def lemma(sequence):\n",
    "    return [\n",
    "        lemmatizer.lemmatize(token, pos=nltk_pos_tagger(pos_tag))\n",
    "        if nltk_pos_tagger(pos_tag) != None\n",
    "        else lemmatizer.lemmatize(token)\n",
    "        for token, pos_tag in sequence\n",
    "    ]"
   ]
  },
  {
   "cell_type": "code",
   "execution_count": 11,
   "metadata": {
    "ExecuteTime": {
     "end_time": "2024-09-06T08:30:28.281491Z",
     "start_time": "2024-09-06T08:30:28.009353Z"
    },
    "collapsed": false
   },
   "outputs": [],
   "source": [
    "# Apply the lemma function to the 'text_tags' column of the dataframe\n",
    "# 'text_tags' is assumed to be a list of (token, pos_tag) tuples for each tweet\n",
    "df_tweet_sentiment[\"lemmatized_text\"] = df_tweet_sentiment[\"text_tags\"].apply(\n",
    "    lambda x: lemma(x)\n",
    ")"
   ]
  },
  {
   "cell_type": "code",
   "execution_count": 12,
   "metadata": {
    "ExecuteTime": {
     "end_time": "2024-09-06T08:30:28.356416Z",
     "start_time": "2024-09-06T08:30:28.325540Z"
    },
    "collapsed": false
   },
   "outputs": [
    {
     "data": {
      "text/html": [
       "<div>\n",
       "<style scoped>\n",
       "    .dataframe tbody tr th:only-of-type {\n",
       "        vertical-align: middle;\n",
       "    }\n",
       "\n",
       "    .dataframe tbody tr th {\n",
       "        vertical-align: top;\n",
       "    }\n",
       "\n",
       "    .dataframe thead th {\n",
       "        text-align: right;\n",
       "    }\n",
       "</style>\n",
       "<table border=\"1\" class=\"dataframe\">\n",
       "  <thead>\n",
       "    <tr style=\"text-align: right;\">\n",
       "      <th></th>\n",
       "      <th>Sentiment</th>\n",
       "      <th>SentimentText</th>\n",
       "      <th>processed_text</th>\n",
       "      <th>tokenized_text</th>\n",
       "      <th>text_tags</th>\n",
       "      <th>lemmatized_text</th>\n",
       "      <th>lemmatized_text_joined</th>\n",
       "    </tr>\n",
       "  </thead>\n",
       "  <tbody>\n",
       "    <tr>\n",
       "      <th>0</th>\n",
       "      <td>1</td>\n",
       "      <td>#Charlotte NC Rides i need a ride to pgh,pa! (...</td>\n",
       "      <td>&lt;hashtag&gt; nc rides i need a ride to pgh,pa! (h...</td>\n",
       "      <td>[&lt;hashtag&gt;, nc, rides, i, need, a, ride, to, p...</td>\n",
       "      <td>[(&lt;hashtag&gt;, JJ), (nc, NN), (rides, NNS), (i, ...</td>\n",
       "      <td>[&lt;hashtag&gt;, nc, ride, i, need, a, ride, to, pg...</td>\n",
       "      <td>&lt;hashtag&gt; nc ride i need a ride to pgh , pa ! ...</td>\n",
       "    </tr>\n",
       "    <tr>\n",
       "      <th>1</th>\n",
       "      <td>1</td>\n",
       "      <td>&amp;quot;Invisible Bow and Arrow :  Free&amp;quot; - ...</td>\n",
       "      <td>&amp;quot;invisible bow and arrow :  free&amp;quot; - ...</td>\n",
       "      <td>[\", invisible, bow, and, arrow, :, free, \", -,...</td>\n",
       "      <td>[(\", NN), (invisible, JJ), (bow, NN), (and, CC...</td>\n",
       "      <td>[\", invisible, bow, and, arrow, :, free, \", -,...</td>\n",
       "      <td>\" invisible bow and arrow : free \" - &lt;url&gt; &lt;ha...</td>\n",
       "    </tr>\n",
       "    <tr>\n",
       "      <th>2</th>\n",
       "      <td>0</td>\n",
       "      <td>i have a cold!</td>\n",
       "      <td>i have a cold!</td>\n",
       "      <td>[i, have, a, cold, !]</td>\n",
       "      <td>[(i, NNS), (have, VBP), (a, DT), (cold, NN), (...</td>\n",
       "      <td>[i, have, a, cold, !]</td>\n",
       "      <td>i have a cold !</td>\n",
       "    </tr>\n",
       "    <tr>\n",
       "      <th>3</th>\n",
       "      <td>0</td>\n",
       "      <td>#dontyouhate when your hungry but u dnt know w...</td>\n",
       "      <td>&lt;hashtag&gt; when your hungry but u dnt know what...</td>\n",
       "      <td>[&lt;hashtag&gt;, when, your, hungry, but, u, dnt, k...</td>\n",
       "      <td>[(&lt;hashtag&gt;, NN), (when, WRB), (your, PRP$), (...</td>\n",
       "      <td>[&lt;hashtag&gt;, when, your, hungry, but, u, dnt, k...</td>\n",
       "      <td>&lt;hashtag&gt; when your hungry but u dnt know what...</td>\n",
       "    </tr>\n",
       "    <tr>\n",
       "      <th>4</th>\n",
       "      <td>1</td>\n",
       "      <td>Goood Morning Twittz. I'm in an Extremely goo...</td>\n",
       "      <td>goood morning twittz. i'm in an extremely goo...</td>\n",
       "      <td>[goood, morning, twittz, ., i'm, in, an, extre...</td>\n",
       "      <td>[(goood, NN), (morning, NN), (twittz, NN), (.,...</td>\n",
       "      <td>[goood, morning, twittz, ., i'm, in, an, extre...</td>\n",
       "      <td>goood morning twittz . i'm in an extremely goo...</td>\n",
       "    </tr>\n",
       "    <tr>\n",
       "      <th>...</th>\n",
       "      <td>...</td>\n",
       "      <td>...</td>\n",
       "      <td>...</td>\n",
       "      <td>...</td>\n",
       "      <td>...</td>\n",
       "      <td>...</td>\n",
       "      <td>...</td>\n",
       "    </tr>\n",
       "    <tr>\n",
       "      <th>9995</th>\n",
       "      <td>1</td>\n",
       "      <td>#followfriday @Annjj  cos she tastes like cher...</td>\n",
       "      <td>&lt;hashtag&gt; &lt;user&gt;  cos she tastes like cherry c...</td>\n",
       "      <td>[&lt;hashtag&gt;, &lt;user&gt;, cos, she, tastes, like, ch...</td>\n",
       "      <td>[(&lt;hashtag&gt;, JJ), (&lt;user&gt;, NN), (cos, NN), (sh...</td>\n",
       "      <td>[&lt;hashtag&gt;, &lt;user&gt;, co, she, taste, like, cher...</td>\n",
       "      <td>&lt;hashtag&gt; &lt;user&gt; co she taste like cherry cola...</td>\n",
       "    </tr>\n",
       "    <tr>\n",
       "      <th>9996</th>\n",
       "      <td>0</td>\n",
       "      <td>one of my cats is very ill after reacting bad...</td>\n",
       "      <td>one of my cats is very ill after reacting bad...</td>\n",
       "      <td>[one, of, my, cats, is, very, ill, after, reac...</td>\n",
       "      <td>[(one, CD), (of, IN), (my, PRP$), (cats, NNS),...</td>\n",
       "      <td>[one, of, my, cat, be, very, ill, after, react...</td>\n",
       "      <td>one of my cat be very ill after react badly wi...</td>\n",
       "    </tr>\n",
       "    <tr>\n",
       "      <th>9997</th>\n",
       "      <td>0</td>\n",
       "      <td>Forgot about them science exams tbh (N)</td>\n",
       "      <td>forgot about them science exams tbh (n)</td>\n",
       "      <td>[forgot, about, them, science, exams, tbh, (, ...</td>\n",
       "      <td>[(forgot, NNS), (about, IN), (them, PRP), (sci...</td>\n",
       "      <td>[forgot, about, them, science, exam, tbh, (, n...</td>\n",
       "      <td>forgot about them science exam tbh ( n )</td>\n",
       "    </tr>\n",
       "    <tr>\n",
       "      <th>9998</th>\n",
       "      <td>0</td>\n",
       "      <td>this bit in camp rock always makes me upset.....</td>\n",
       "      <td>this bit in camp rock always makes me upset.....</td>\n",
       "      <td>[this, bit, in, camp, rock, always, makes, me,...</td>\n",
       "      <td>[(this, DT), (bit, NN), (in, IN), (camp, NN), ...</td>\n",
       "      <td>[this, bit, in, camp, rock, always, make, me, ...</td>\n",
       "      <td>this bit in camp rock always make me upset .. ...</td>\n",
       "    </tr>\n",
       "    <tr>\n",
       "      <th>9999</th>\n",
       "      <td>1</td>\n",
       "      <td>&amp;quot;think before you ink&amp;quot; bahaha I love...</td>\n",
       "      <td>&amp;quot;think before you ink&amp;quot; bahaha i love...</td>\n",
       "      <td>[\", think, before, you, ink, \", bahaha, i, lov...</td>\n",
       "      <td>[(\", JJ), (think, NN), (before, IN), (you, PRP...</td>\n",
       "      <td>[\", think, before, you, ink, \", bahaha, i, lov...</td>\n",
       "      <td>\" think before you ink \" bahaha i love my mommy</td>\n",
       "    </tr>\n",
       "  </tbody>\n",
       "</table>\n",
       "<p>10000 rows × 7 columns</p>\n",
       "</div>"
      ],
      "text/plain": [
       "      Sentiment                                      SentimentText  \\\n",
       "0             1  #Charlotte NC Rides i need a ride to pgh,pa! (...   \n",
       "1             1  &quot;Invisible Bow and Arrow :  Free&quot; - ...   \n",
       "2             0                                     i have a cold!   \n",
       "3             0  #dontyouhate when your hungry but u dnt know w...   \n",
       "4             1   Goood Morning Twittz. I'm in an Extremely goo...   \n",
       "...         ...                                                ...   \n",
       "9995          1  #followfriday @Annjj  cos she tastes like cher...   \n",
       "9996          0   one of my cats is very ill after reacting bad...   \n",
       "9997          0            Forgot about them science exams tbh (N)   \n",
       "9998          0   this bit in camp rock always makes me upset.....   \n",
       "9999          1  &quot;think before you ink&quot; bahaha I love...   \n",
       "\n",
       "                                         processed_text  \\\n",
       "0     <hashtag> nc rides i need a ride to pgh,pa! (h...   \n",
       "1     &quot;invisible bow and arrow :  free&quot; - ...   \n",
       "2                                        i have a cold!   \n",
       "3     <hashtag> when your hungry but u dnt know what...   \n",
       "4      goood morning twittz. i'm in an extremely goo...   \n",
       "...                                                 ...   \n",
       "9995  <hashtag> <user>  cos she tastes like cherry c...   \n",
       "9996   one of my cats is very ill after reacting bad...   \n",
       "9997            forgot about them science exams tbh (n)   \n",
       "9998   this bit in camp rock always makes me upset.....   \n",
       "9999  &quot;think before you ink&quot; bahaha i love...   \n",
       "\n",
       "                                         tokenized_text  \\\n",
       "0     [<hashtag>, nc, rides, i, need, a, ride, to, p...   \n",
       "1     [\", invisible, bow, and, arrow, :, free, \", -,...   \n",
       "2                                 [i, have, a, cold, !]   \n",
       "3     [<hashtag>, when, your, hungry, but, u, dnt, k...   \n",
       "4     [goood, morning, twittz, ., i'm, in, an, extre...   \n",
       "...                                                 ...   \n",
       "9995  [<hashtag>, <user>, cos, she, tastes, like, ch...   \n",
       "9996  [one, of, my, cats, is, very, ill, after, reac...   \n",
       "9997  [forgot, about, them, science, exams, tbh, (, ...   \n",
       "9998  [this, bit, in, camp, rock, always, makes, me,...   \n",
       "9999  [\", think, before, you, ink, \", bahaha, i, lov...   \n",
       "\n",
       "                                              text_tags  \\\n",
       "0     [(<hashtag>, JJ), (nc, NN), (rides, NNS), (i, ...   \n",
       "1     [(\", NN), (invisible, JJ), (bow, NN), (and, CC...   \n",
       "2     [(i, NNS), (have, VBP), (a, DT), (cold, NN), (...   \n",
       "3     [(<hashtag>, NN), (when, WRB), (your, PRP$), (...   \n",
       "4     [(goood, NN), (morning, NN), (twittz, NN), (.,...   \n",
       "...                                                 ...   \n",
       "9995  [(<hashtag>, JJ), (<user>, NN), (cos, NN), (sh...   \n",
       "9996  [(one, CD), (of, IN), (my, PRP$), (cats, NNS),...   \n",
       "9997  [(forgot, NNS), (about, IN), (them, PRP), (sci...   \n",
       "9998  [(this, DT), (bit, NN), (in, IN), (camp, NN), ...   \n",
       "9999  [(\", JJ), (think, NN), (before, IN), (you, PRP...   \n",
       "\n",
       "                                        lemmatized_text  \\\n",
       "0     [<hashtag>, nc, ride, i, need, a, ride, to, pg...   \n",
       "1     [\", invisible, bow, and, arrow, :, free, \", -,...   \n",
       "2                                 [i, have, a, cold, !]   \n",
       "3     [<hashtag>, when, your, hungry, but, u, dnt, k...   \n",
       "4     [goood, morning, twittz, ., i'm, in, an, extre...   \n",
       "...                                                 ...   \n",
       "9995  [<hashtag>, <user>, co, she, taste, like, cher...   \n",
       "9996  [one, of, my, cat, be, very, ill, after, react...   \n",
       "9997  [forgot, about, them, science, exam, tbh, (, n...   \n",
       "9998  [this, bit, in, camp, rock, always, make, me, ...   \n",
       "9999  [\", think, before, you, ink, \", bahaha, i, lov...   \n",
       "\n",
       "                                 lemmatized_text_joined  \n",
       "0     <hashtag> nc ride i need a ride to pgh , pa ! ...  \n",
       "1     \" invisible bow and arrow : free \" - <url> <ha...  \n",
       "2                                       i have a cold !  \n",
       "3     <hashtag> when your hungry but u dnt know what...  \n",
       "4     goood morning twittz . i'm in an extremely goo...  \n",
       "...                                                 ...  \n",
       "9995  <hashtag> <user> co she taste like cherry cola...  \n",
       "9996  one of my cat be very ill after react badly wi...  \n",
       "9997           forgot about them science exam tbh ( n )  \n",
       "9998  this bit in camp rock always make me upset .. ...  \n",
       "9999    \" think before you ink \" bahaha i love my mommy  \n",
       "\n",
       "[10000 rows x 7 columns]"
      ]
     },
     "execution_count": 12,
     "metadata": {},
     "output_type": "execute_result"
    }
   ],
   "source": [
    "# Apply a lambda function to the 'lemmatized_text' column of the dataframe\n",
    "# This lambda function joins the list of lemmatized tokens into a single string\n",
    "# Each token is separated by a space\n",
    "df_tweet_sentiment[\"lemmatized_text_joined\"] = df_tweet_sentiment[\n",
    "    \"lemmatized_text\"\n",
    "].apply(lambda x: \" \".join(x))\n",
    "df_tweet_sentiment"
   ]
  },
  {
   "cell_type": "code",
   "execution_count": 13,
   "metadata": {
    "ExecuteTime": {
     "end_time": "2024-09-06T08:30:28.356699Z",
     "start_time": "2024-09-06T08:30:28.325962Z"
    },
    "collapsed": false
   },
   "outputs": [
    {
     "name": "stdout",
     "output_type": "stream",
     "text": [
      "Training texts: 8000\n",
      "Testing texts: 2000\n"
     ]
    }
   ],
   "source": [
    "x_train, x_test, y_train, y_test = train_test_split(\n",
    "    df_tweet_sentiment[\"lemmatized_text_joined\"],\n",
    "    df_tweet_sentiment[\"Sentiment\"],\n",
    "    test_size=0.2,\n",
    "    random_state=23828748,\n",
    ")\n",
    "print(\"Training texts:\", len(x_train))\n",
    "print(\"Testing texts:\", len(x_test))"
   ]
  },
  {
   "cell_type": "markdown",
   "metadata": {
    "id": "vR52ysJYgjsI"
   },
   "source": [
    "# TF-Idf Vectorizer"
   ]
  },
  {
   "cell_type": "code",
   "execution_count": 14,
   "metadata": {
    "ExecuteTime": {
     "end_time": "2024-09-06T08:30:28.356857Z",
     "start_time": "2024-09-06T08:30:28.326110Z"
    },
    "collapsed": false
   },
   "outputs": [],
   "source": [
    "# Use unigram & bi-gram tf*idf features\n",
    "vectorizer = TfidfVectorizer(\n",
    "    ngram_range=(1, 2),\n",
    "    max_features=5000,\n",
    "    sublinear_tf=True,\n",
    "    stop_words=stopwords.words(\"english\"),\n",
    ")"
   ]
  },
  {
   "cell_type": "code",
   "execution_count": 15,
   "metadata": {
    "ExecuteTime": {
     "end_time": "2024-09-06T08:30:28.480933Z",
     "start_time": "2024-09-06T08:30:28.384359Z"
    },
    "collapsed": false
   },
   "outputs": [
    {
     "name": "stdout",
     "output_type": "stream",
     "text": [
      "['aahh' 'aay' 'abc' 'ability' 'abit' 'able' 'able get' 'able go'\n",
      " 'able make' 'able see']\n"
     ]
    }
   ],
   "source": [
    "# Fit Vectorizer on train data\n",
    "# Transform on all data (train - test)\n",
    "x_train_tfidf = vectorizer.fit_transform(x_train)\n",
    "x_test_tfidf = vectorizer.transform(x_test)\n",
    "\n",
    "print(vectorizer.get_feature_names_out()[:10])"
   ]
  },
  {
   "cell_type": "code",
   "execution_count": 19,
   "metadata": {
    "ExecuteTime": {
     "end_time": "2024-09-06T08:33:41.481440Z",
     "start_time": "2024-09-06T08:33:41.471809Z"
    },
    "collapsed": false
   },
   "outputs": [
    {
     "name": "stdout",
     "output_type": "stream",
     "text": [
      "Shape of training data: (8000, 5000)\n",
      "Shape of test data: (2000, 5000)\n",
      "\n"
     ]
    }
   ],
   "source": [
    "print(\"Shape of training data: {}\".format(x_train_tfidf.shape))\n",
    "print(\"Shape of test data: {}\\n\".format(x_test_tfidf.shape))"
   ]
  },
  {
   "cell_type": "code",
   "execution_count": 20,
   "metadata": {
    "ExecuteTime": {
     "end_time": "2024-09-06T08:33:44.964988Z",
     "start_time": "2024-09-06T08:33:44.946494Z"
    },
    "collapsed": false
   },
   "outputs": [
    {
     "name": "stdout",
     "output_type": "stream",
     "text": [
      "<class 'scipy.sparse._csr.csr_matrix'>\n",
      "  (0, 1752)\t0.16906688632894443\n",
      "  (0, 1896)\t0.6310284849412695\n",
      "  (0, 2828)\t0.3704069713692927\n",
      "  (0, 3319)\t0.6603166775879509\n"
     ]
    }
   ],
   "source": [
    "# sparse matrix --> Saves only the cells where tf*idf is not zero\n",
    "print(type(x_test_tfidf))\n",
    "print(x_test_tfidf[0, :])"
   ]
  },
  {
   "cell_type": "markdown",
   "metadata": {
    "id": "J-6kp8qzkHNl"
   },
   "source": [
    "# Baseline"
   ]
  },
  {
   "cell_type": "code",
   "execution_count": 21,
   "metadata": {
    "ExecuteTime": {
     "end_time": "2024-09-06T08:33:51.150117Z",
     "start_time": "2024-09-06T08:33:51.143182Z"
    },
    "collapsed": false
   },
   "outputs": [
    {
     "name": "stdout",
     "output_type": "stream",
     "text": [
      "Training took: 0.0029239654541015625 seconds \n",
      "\n"
     ]
    }
   ],
   "source": [
    "# Train\n",
    "# The dummy classifier always predicts the 'most frequent' class\n",
    "baseline = DummyClassifier(strategy=\"most_frequent\")\n",
    "start_time = time.time()\n",
    "baseline.fit(x_train_tfidf, y_train)\n",
    "print(\"Training took: {} seconds \\n\".format(time.time() - start_time))"
   ]
  },
  {
   "cell_type": "code",
   "execution_count": 22,
   "metadata": {
    "ExecuteTime": {
     "end_time": "2024-09-06T08:33:55.779843Z",
     "start_time": "2024-09-06T08:33:55.764232Z"
    },
    "collapsed": false
   },
   "outputs": [
    {
     "name": "stdout",
     "output_type": "stream",
     "text": [
      "Train accuracy: 50.09%\n",
      "Test accuracy: 49.65% \n",
      "\n",
      "#Class 0 in Train dataset: (3993,)\n",
      "#Class 1 in Train dataset: (4007,)\n"
     ]
    }
   ],
   "source": [
    "# Evaluate\n",
    "predictions = baseline.predict(x_train_tfidf)\n",
    "score = accuracy_score(y_train, predictions)\n",
    "print(\"Train accuracy: {:.2f}%\".format(score * 100))\n",
    "\n",
    "predictions_test = baseline.predict(x_test_tfidf)\n",
    "score = accuracy_score(y_test, predictions_test)\n",
    "print(\"Test accuracy: {:.2f}% \\n\".format(score * 100))\n",
    "\n",
    "print(\"#Class 0 in Train dataset:\", np.where(y_train == 0)[0].shape)\n",
    "print(\"#Class 1 in Train dataset:\", np.where(y_train == 1)[0].shape)"
   ]
  },
  {
   "cell_type": "code",
   "execution_count": 23,
   "metadata": {
    "ExecuteTime": {
     "end_time": "2024-09-06T08:34:01.126578Z",
     "start_time": "2024-09-06T08:34:01.094143Z"
    },
    "collapsed": false
   },
   "outputs": [
    {
     "name": "stdout",
     "output_type": "stream",
     "text": [
      "Classification Report for TRAIN data set:\n",
      "              precision    recall  f1-score   support\n",
      "\n",
      "           0       0.00      0.00      0.00      3993\n",
      "           1       0.50      1.00      0.67      4007\n",
      "\n",
      "    accuracy                           0.50      8000\n",
      "   macro avg       0.25      0.50      0.33      8000\n",
      "weighted avg       0.25      0.50      0.33      8000\n",
      "\n"
     ]
    },
    {
     "name": "stderr",
     "output_type": "stream",
     "text": [
      "/Users/antonal/ta2/lib/python3.11/site-packages/sklearn/metrics/_classification.py:1517: UndefinedMetricWarning: Precision is ill-defined and being set to 0.0 in labels with no predicted samples. Use `zero_division` parameter to control this behavior.\n",
      "  _warn_prf(average, modifier, f\"{metric.capitalize()} is\", len(result))\n",
      "/Users/antonal/ta2/lib/python3.11/site-packages/sklearn/metrics/_classification.py:1517: UndefinedMetricWarning: Precision is ill-defined and being set to 0.0 in labels with no predicted samples. Use `zero_division` parameter to control this behavior.\n",
      "  _warn_prf(average, modifier, f\"{metric.capitalize()} is\", len(result))\n",
      "/Users/antonal/ta2/lib/python3.11/site-packages/sklearn/metrics/_classification.py:1517: UndefinedMetricWarning: Precision is ill-defined and being set to 0.0 in labels with no predicted samples. Use `zero_division` parameter to control this behavior.\n",
      "  _warn_prf(average, modifier, f\"{metric.capitalize()} is\", len(result))\n"
     ]
    }
   ],
   "source": [
    "print(\"Classification Report for TRAIN data set:\")\n",
    "print(classification_report(y_train, predictions))"
   ]
  },
  {
   "cell_type": "code",
   "execution_count": 24,
   "metadata": {
    "ExecuteTime": {
     "end_time": "2024-09-06T08:34:05.333365Z",
     "start_time": "2024-09-06T08:34:05.322682Z"
    },
    "collapsed": false
   },
   "outputs": [
    {
     "name": "stdout",
     "output_type": "stream",
     "text": [
      "Classification Report for TEST data set:\n",
      "              precision    recall  f1-score   support\n",
      "\n",
      "           0       0.00      0.00      0.00      1007\n",
      "           1       0.50      1.00      0.66       993\n",
      "\n",
      "    accuracy                           0.50      2000\n",
      "   macro avg       0.25      0.50      0.33      2000\n",
      "weighted avg       0.25      0.50      0.33      2000\n",
      "\n"
     ]
    },
    {
     "name": "stderr",
     "output_type": "stream",
     "text": [
      "/Users/antonal/ta2/lib/python3.11/site-packages/sklearn/metrics/_classification.py:1517: UndefinedMetricWarning: Precision is ill-defined and being set to 0.0 in labels with no predicted samples. Use `zero_division` parameter to control this behavior.\n",
      "  _warn_prf(average, modifier, f\"{metric.capitalize()} is\", len(result))\n",
      "/Users/antonal/ta2/lib/python3.11/site-packages/sklearn/metrics/_classification.py:1517: UndefinedMetricWarning: Precision is ill-defined and being set to 0.0 in labels with no predicted samples. Use `zero_division` parameter to control this behavior.\n",
      "  _warn_prf(average, modifier, f\"{metric.capitalize()} is\", len(result))\n",
      "/Users/antonal/ta2/lib/python3.11/site-packages/sklearn/metrics/_classification.py:1517: UndefinedMetricWarning: Precision is ill-defined and being set to 0.0 in labels with no predicted samples. Use `zero_division` parameter to control this behavior.\n",
      "  _warn_prf(average, modifier, f\"{metric.capitalize()} is\", len(result))\n"
     ]
    }
   ],
   "source": [
    "print(\"Classification Report for TEST data set:\")\n",
    "print(classification_report(y_test, predictions_test))"
   ]
  },
  {
   "cell_type": "code",
   "execution_count": 25,
   "metadata": {
    "ExecuteTime": {
     "end_time": "2024-09-06T08:34:14.852062Z",
     "start_time": "2024-09-06T08:34:14.716647Z"
    },
    "collapsed": false
   },
   "outputs": [
    {
     "name": "stdout",
     "output_type": "stream",
     "text": [
      "\n",
      "Confusion Matrix for test data:\n"
     ]
    },
    {
     "data": {
      "text/plain": [
       "<sklearn.metrics._plot.confusion_matrix.ConfusionMatrixDisplay at 0x296156290>"
      ]
     },
     "execution_count": 25,
     "metadata": {},
     "output_type": "execute_result"
    },
    {
     "data": {
      "image/png": "[encoded data removed]",
      "text/plain": [
       "<Figure size 640x480 with 2 Axes>"
      ]
     },
     "metadata": {},
     "output_type": "display_data"
    }
   ],
   "source": [
    "print(\"\\nConfusion Matrix for test data:\")\n",
    "ConfusionMatrixDisplay.from_estimator(\n",
    "    baseline, x_test_tfidf, y_test, values_format=\".0f\"\n",
    ")"
   ]
  },
  {
   "cell_type": "markdown",
   "metadata": {
    "id": "ipNyo53lkeKy"
   },
   "source": [
    "# Logistic Regression"
   ]
  },
  {
   "cell_type": "code",
   "execution_count": 26,
   "metadata": {
    "ExecuteTime": {
     "end_time": "2024-09-06T08:34:18.286677Z",
     "start_time": "2024-09-06T08:34:17.544560Z"
    },
    "collapsed": false
   },
   "outputs": [
    {
     "data": {
      "text/plain": [
       "0.747"
      ]
     },
     "execution_count": 26,
     "metadata": {},
     "output_type": "execute_result"
    }
   ],
   "source": [
    "# Cross Validation Logistic Regression\n",
    "# Fit the model with CV\n",
    "log_cv = LogisticRegressionCV(\n",
    "    cv=3, Cs=8, random_state=2, penalty=\"l2\", solver=\"liblinear\"\n",
    ").fit(x_train_tfidf, y_train)\n",
    "# Score\n",
    "log_cv.score(x_test_tfidf, y_test)"
   ]
  },
  {
   "cell_type": "code",
   "execution_count": 27,
   "metadata": {
    "ExecuteTime": {
     "end_time": "2024-09-06T08:34:19.337332Z",
     "start_time": "2024-09-06T08:34:19.326682Z"
    },
    "collapsed": false
   },
   "outputs": [],
   "source": [
    "predictions = log_cv.predict(x_train_tfidf)\n",
    "score = f1_score(y_train, predictions)"
   ]
  },
  {
   "cell_type": "code",
   "execution_count": 28,
   "metadata": {
    "ExecuteTime": {
     "end_time": "2024-09-06T08:34:20.607095Z",
     "start_time": "2024-09-06T08:34:20.596320Z"
    },
    "collapsed": false
   },
   "outputs": [],
   "source": [
    "predictions_test = log_cv.predict(x_test_tfidf)\n",
    "score_pred = f1_score(y_test, predictions_test)"
   ]
  },
  {
   "cell_type": "code",
   "execution_count": 29,
   "metadata": {
    "ExecuteTime": {
     "end_time": "2024-09-06T08:34:21.409075Z",
     "start_time": "2024-09-06T08:34:21.399929Z"
    },
    "collapsed": false
   },
   "outputs": [
    {
     "name": "stdout",
     "output_type": "stream",
     "text": [
      "Train f1-score: 89.69% \n",
      "\n",
      "Classification Report for TRAIN data set:\n",
      "              precision    recall  f1-score   support\n",
      "\n",
      "           0       0.90      0.90      0.90      3993\n",
      "           1       0.90      0.90      0.90      4007\n",
      "\n",
      "    accuracy                           0.90      8000\n",
      "   macro avg       0.90      0.90      0.90      8000\n",
      "weighted avg       0.90      0.90      0.90      8000\n",
      "\n"
     ]
    }
   ],
   "source": [
    "print(\"Train f1-score: {:.2f}% \\n\".format(score * 100))\n",
    "print(\"Classification Report for TRAIN data set:\")\n",
    "print(classification_report(y_train, predictions))"
   ]
  },
  {
   "cell_type": "code",
   "execution_count": 30,
   "metadata": {
    "ExecuteTime": {
     "end_time": "2024-09-06T08:34:22.671448Z",
     "start_time": "2024-09-06T08:34:22.662840Z"
    },
    "collapsed": false
   },
   "outputs": [
    {
     "name": "stdout",
     "output_type": "stream",
     "text": [
      "Test f1-score: 74.44% \n",
      "\n",
      "Classification Report for TEST data set:\n",
      "              precision    recall  f1-score   support\n",
      "\n",
      "           0       0.75      0.75      0.75      1007\n",
      "           1       0.75      0.74      0.74       993\n",
      "\n",
      "    accuracy                           0.75      2000\n",
      "   macro avg       0.75      0.75      0.75      2000\n",
      "weighted avg       0.75      0.75      0.75      2000\n",
      "\n"
     ]
    }
   ],
   "source": [
    "print(\"Test f1-score: {:.2f}% \\n\".format(score_pred * 100))\n",
    "print(\"Classification Report for TEST data set:\")\n",
    "print(classification_report(y_test, predictions_test))"
   ]
  },
  {
   "cell_type": "code",
   "execution_count": 31,
   "metadata": {
    "ExecuteTime": {
     "end_time": "2024-09-06T08:34:24.322047Z",
     "start_time": "2024-09-06T08:34:24.253246Z"
    },
    "colab": {
     "base_uri": "https://localhost:8080/",
     "height": 918
    },
    "id": "5jSvz2vMpAyF",
    "outputId": "2b1c353c-0731-47b8-b123-eb5cdccc2de0"
   },
   "outputs": [
    {
     "name": "stdout",
     "output_type": "stream",
     "text": [
      "\n",
      "Confusion Matrix for test data:\n"
     ]
    },
    {
     "data": {
      "text/plain": [
       "<sklearn.metrics._plot.confusion_matrix.ConfusionMatrixDisplay at 0x29ae39010>"
      ]
     },
     "execution_count": 31,
     "metadata": {},
     "output_type": "execute_result"
    },
    {
     "data": {
      "image/png": "[encoded data removed]",
      "text/plain": [
       "<Figure size 640x480 with 2 Axes>"
      ]
     },
     "metadata": {},
     "output_type": "display_data"
    }
   ],
   "source": [
    "print(\"\\nConfusion Matrix for test data:\")\n",
    "ConfusionMatrixDisplay.from_estimator(log_cv, x_test_tfidf, y_test, values_format=\".0f\")"
   ]
  },
  {
   "cell_type": "markdown",
   "metadata": {
    "id": "23IVGetplCm5"
   },
   "source": [
    "# MLP with TF-Idf Vectorizer\n"
   ]
  },
  {
   "cell_type": "code",
   "execution_count": 36,
   "metadata": {
    "ExecuteTime": {
     "end_time": "2024-09-06T08:35:10.693273Z",
     "start_time": "2024-09-06T08:35:10.682673Z"
    },
    "id": "KD_VNkezknMS"
   },
   "outputs": [],
   "source": [
    "X_train_new, X_val, y_train_new, y_val = train_test_split(\n",
    "    x_train, y_train, test_size=1 / 8, random_state=23828748\n",
    ")"
   ]
  },
  {
   "cell_type": "code",
   "execution_count": 37,
   "metadata": {
    "ExecuteTime": {
     "end_time": "2024-09-06T08:35:11.144131Z",
     "start_time": "2024-09-06T08:35:11.129852Z"
    },
    "id": "ga8w4E4hFKuU"
   },
   "outputs": [],
   "source": [
    "# Convert with Keras\n",
    "y_train_1_hot = tf.keras.utils.to_categorical(\n",
    "    y_train_new, num_classes=len(y_train_new.unique())\n",
    ")  # 7000\n",
    "\n",
    "y_val_1_hot = tf.keras.utils.to_categorical(\n",
    "    y_val, num_classes=len(y_val.unique())\n",
    ")  # 1000\n",
    "\n",
    "y_test_1_hot = tf.keras.utils.to_categorical(\n",
    "    y_test, num_classes=len(y_test.unique())\n",
    ")  # 2000\n",
    "\n",
    "\n",
    "y_train_old_1_hot = tf.keras.utils.to_categorical(\n",
    "    y_train, num_classes=len(y_train.unique())\n",
    ")  # 8000"
   ]
  },
  {
   "cell_type": "markdown",
   "metadata": {
    "id": "If___BP7LT20"
   },
   "source": [
    "# Recalculate the TF-idf features with the new train-val-test set"
   ]
  },
  {
   "cell_type": "code",
   "execution_count": 38,
   "metadata": {
    "ExecuteTime": {
     "end_time": "2024-09-06T08:35:12.915055Z",
     "start_time": "2024-09-06T08:35:12.903712Z"
    },
    "colab": {
     "base_uri": "https://localhost:8080/"
    },
    "id": "LFvwDkH6-0pp",
    "outputId": "9638e9e5-a494-4ce2-8738-bfd2bf7a899f"
   },
   "outputs": [],
   "source": [
    "# Use unigram & bi-gram tf*idf features\n",
    "vectorizer = TfidfVectorizer(\n",
    "    ngram_range=(1, 2),\n",
    "    max_features=5000,\n",
    "    sublinear_tf=True,\n",
    "    stop_words=stopwords.words(\"english\"),\n",
    ")"
   ]
  },
  {
   "cell_type": "code",
   "execution_count": 39,
   "metadata": {
    "ExecuteTime": {
     "end_time": "2024-09-06T08:35:18.955462Z",
     "start_time": "2024-09-06T08:35:18.829559Z"
    },
    "collapsed": false
   },
   "outputs": [],
   "source": [
    "# Fit Vectorizer on train data\n",
    "# Transform on all data (train - val - test)\n",
    "x_train_tfidf_new = vectorizer.fit_transform(X_train_new).toarray()\n",
    "x_val_tfidf_new = vectorizer.transform(X_val).toarray()\n",
    "x_test_tfidf_new = vectorizer.transform(x_test).toarray()"
   ]
  },
  {
   "cell_type": "markdown",
   "metadata": {
    "id": "DZuNLxqi-ps7"
   },
   "source": [
    "## MLP classifier in Keras using tf*idf features"
   ]
  },
  {
   "cell_type": "code",
   "execution_count": 41,
   "metadata": {
    "ExecuteTime": {
     "end_time": "2024-09-06T08:35:46.358833Z",
     "start_time": "2024-09-06T08:35:46.353427Z"
    },
    "collapsed": false
   },
   "outputs": [],
   "source": [
    "# Define a custom callback class Metrics that inherits from tf.keras.callbacks.Callback\n",
    "class Metrics(tf.keras.callbacks.Callback):\n",
    "    # Initialize the class with validation data\n",
    "    def __init__(self, valid_data):\n",
    "        # Call the parent class's initializer\n",
    "        super(Metrics, self).__init__()\n",
    "        # Store the validation data\n",
    "        self.validation_data = valid_data\n",
    "\n",
    "    # This method is called at the end of each epoch\n",
    "    def on_epoch_end(self, epoch, logs=None):\n",
    "        # If logs dictionary is not provided, initialize it as an empty dictionary\n",
    "        logs = logs or {}\n",
    "        # Predict the output for validation data and take the class with the highest probability\n",
    "        val_predict = np.argmax(self.model.predict(self.validation_data[0]), -1)\n",
    "        # Get the actual validation targets\n",
    "        val_targ = self.validation_data[1]\n",
    "        # Cast the validation targets to float32 type\n",
    "        val_targ = tf.cast(val_targ, dtype=tf.float32)\n",
    "        # If the validation targets are one-hot encoded, convert them to label encoded\n",
    "        if len(val_targ.shape) == 2 and val_targ.shape[1] != 1:\n",
    "            val_targ = np.argmax(val_targ, -1)\n",
    "\n",
    "        # Calculate the weighted F1 score\n",
    "        _val_f1 = f1_score(val_targ, val_predict, average=\"weighted\")\n",
    "        # Calculate the weighted recall\n",
    "        _val_recall = recall_score(val_targ, val_predict, average=\"weighted\")\n",
    "        # Calculate the weighted precision\n",
    "        _val_precision = precision_score(val_targ, val_predict, average=\"weighted\")\n",
    "\n",
    "        # Log the calculated metrics\n",
    "        logs[\"val_f1\"] = _val_f1\n",
    "        logs[\"val_recall\"] = _val_recall\n",
    "        logs[\"val_precision\"] = _val_precision\n",
    "        # Print the calculated metrics\n",
    "        print(\n",
    "            \" — val_f1: %f — val_precision: %f — val_recall: %f\"\n",
    "            % (_val_f1, _val_precision, _val_recall)\n",
    "        )\n",
    "        return"
   ]
  },
  {
   "cell_type": "code",
   "execution_count": 42,
   "metadata": {
    "ExecuteTime": {
     "end_time": "2024-09-06T08:36:01.885879Z",
     "start_time": "2024-09-06T08:35:48.272668Z"
    },
    "colab": {
     "base_uri": "https://localhost:8080/"
    },
    "id": "WQm2RpAJ-mOu",
    "outputId": "8672d860-379d-49a6-ca76-3a530cb138e0"
   },
   "outputs": [
    {
     "name": "stderr",
     "output_type": "stream",
     "text": [
      "/Users/antonal/ta2/lib/python3.11/site-packages/keras/src/layers/core/dense.py:87: UserWarning: Do not pass an `input_shape`/`input_dim` argument to a layer. When using Sequential models, prefer using an `Input(shape)` object as the first layer in the model instead.\n",
      "  super().__init__(activity_regularizer=activity_regularizer, **kwargs)\n"
     ]
    },
    {
     "data": {
      "text/html": [
       "<pre style=\"white-space:pre;overflow-x:auto;line-height:normal;font-family:Menlo,'DejaVu Sans Mono',consolas,'Courier New',monospace\"><span style=\"font-weight: bold\">Model: \"sequential\"</span>\n",
       "</pre>\n"
      ],
      "text/plain": [
       "\u001B[1mModel: \"sequential\"\u001B[0m\n"
      ]
     },
     "metadata": {},
     "output_type": "display_data"
    },
    {
     "data": {
      "text/html": [
       "<pre style=\"white-space:pre;overflow-x:auto;line-height:normal;font-family:Menlo,'DejaVu Sans Mono',consolas,'Courier New',monospace\">┏━━━━━━━━━━━━━━━━━━━━━━━━━━━━━━━━━┳━━━━━━━━━━━━━━━━━━━━━━━━┳━━━━━━━━━━━━━━━┓\n",
       "┃<span style=\"font-weight: bold\"> Layer (type)                    </span>┃<span style=\"font-weight: bold\"> Output Shape           </span>┃<span style=\"font-weight: bold\">       Param # </span>┃\n",
       "┡━━━━━━━━━━━━━━━━━━━━━━━━━━━━━━━━━╇━━━━━━━━━━━━━━━━━━━━━━━━╇━━━━━━━━━━━━━━━┩\n",
       "│ dense (<span style=\"color: #0087ff; text-decoration-color: #0087ff\">Dense</span>)                   │ (<span style=\"color: #00d7ff; text-decoration-color: #00d7ff\">None</span>, <span style=\"color: #00af00; text-decoration-color: #00af00\">512</span>)            │     <span style=\"color: #00af00; text-decoration-color: #00af00\">2,560,512</span> │\n",
       "├─────────────────────────────────┼────────────────────────┼───────────────┤\n",
       "│ dropout (<span style=\"color: #0087ff; text-decoration-color: #0087ff\">Dropout</span>)               │ (<span style=\"color: #00d7ff; text-decoration-color: #00d7ff\">None</span>, <span style=\"color: #00af00; text-decoration-color: #00af00\">512</span>)            │             <span style=\"color: #00af00; text-decoration-color: #00af00\">0</span> │\n",
       "├─────────────────────────────────┼────────────────────────┼───────────────┤\n",
       "│ dense_1 (<span style=\"color: #0087ff; text-decoration-color: #0087ff\">Dense</span>)                 │ (<span style=\"color: #00d7ff; text-decoration-color: #00d7ff\">None</span>, <span style=\"color: #00af00; text-decoration-color: #00af00\">256</span>)            │       <span style=\"color: #00af00; text-decoration-color: #00af00\">131,328</span> │\n",
       "├─────────────────────────────────┼────────────────────────┼───────────────┤\n",
       "│ dropout_1 (<span style=\"color: #0087ff; text-decoration-color: #0087ff\">Dropout</span>)             │ (<span style=\"color: #00d7ff; text-decoration-color: #00d7ff\">None</span>, <span style=\"color: #00af00; text-decoration-color: #00af00\">256</span>)            │             <span style=\"color: #00af00; text-decoration-color: #00af00\">0</span> │\n",
       "├─────────────────────────────────┼────────────────────────┼───────────────┤\n",
       "│ dense_2 (<span style=\"color: #0087ff; text-decoration-color: #0087ff\">Dense</span>)                 │ (<span style=\"color: #00d7ff; text-decoration-color: #00d7ff\">None</span>, <span style=\"color: #00af00; text-decoration-color: #00af00\">2</span>)              │           <span style=\"color: #00af00; text-decoration-color: #00af00\">514</span> │\n",
       "└─────────────────────────────────┴────────────────────────┴───────────────┘\n",
       "</pre>\n"
      ],
      "text/plain": [
       "┏━━━━━━━━━━━━━━━━━━━━━━━━━━━━━━━━━┳━━━━━━━━━━━━━━━━━━━━━━━━┳━━━━━━━━━━━━━━━┓\n",
       "┃\u001B[1m \u001B[0m\u001B[1mLayer (type)                   \u001B[0m\u001B[1m \u001B[0m┃\u001B[1m \u001B[0m\u001B[1mOutput Shape          \u001B[0m\u001B[1m \u001B[0m┃\u001B[1m \u001B[0m\u001B[1m      Param #\u001B[0m\u001B[1m \u001B[0m┃\n",
       "┡━━━━━━━━━━━━━━━━━━━━━━━━━━━━━━━━━╇━━━━━━━━━━━━━━━━━━━━━━━━╇━━━━━━━━━━━━━━━┩\n",
       "│ dense (\u001B[38;5;33mDense\u001B[0m)                   │ (\u001B[38;5;45mNone\u001B[0m, \u001B[38;5;34m512\u001B[0m)            │     \u001B[38;5;34m2,560,512\u001B[0m │\n",
       "├─────────────────────────────────┼────────────────────────┼───────────────┤\n",
       "│ dropout (\u001B[38;5;33mDropout\u001B[0m)               │ (\u001B[38;5;45mNone\u001B[0m, \u001B[38;5;34m512\u001B[0m)            │             \u001B[38;5;34m0\u001B[0m │\n",
       "├─────────────────────────────────┼────────────────────────┼───────────────┤\n",
       "│ dense_1 (\u001B[38;5;33mDense\u001B[0m)                 │ (\u001B[38;5;45mNone\u001B[0m, \u001B[38;5;34m256\u001B[0m)            │       \u001B[38;5;34m131,328\u001B[0m │\n",
       "├─────────────────────────────────┼────────────────────────┼───────────────┤\n",
       "│ dropout_1 (\u001B[38;5;33mDropout\u001B[0m)             │ (\u001B[38;5;45mNone\u001B[0m, \u001B[38;5;34m256\u001B[0m)            │             \u001B[38;5;34m0\u001B[0m │\n",
       "├─────────────────────────────────┼────────────────────────┼───────────────┤\n",
       "│ dense_2 (\u001B[38;5;33mDense\u001B[0m)                 │ (\u001B[38;5;45mNone\u001B[0m, \u001B[38;5;34m2\u001B[0m)              │           \u001B[38;5;34m514\u001B[0m │\n",
       "└─────────────────────────────────┴────────────────────────┴───────────────┘\n"
      ]
     },
     "metadata": {},
     "output_type": "display_data"
    },
    {
     "data": {
      "text/html": [
       "<pre style=\"white-space:pre;overflow-x:auto;line-height:normal;font-family:Menlo,'DejaVu Sans Mono',consolas,'Courier New',monospace\"><span style=\"font-weight: bold\"> Total params: </span><span style=\"color: #00af00; text-decoration-color: #00af00\">2,692,354</span> (10.27 MB)\n",
       "</pre>\n"
      ],
      "text/plain": [
       "\u001B[1m Total params: \u001B[0m\u001B[38;5;34m2,692,354\u001B[0m (10.27 MB)\n"
      ]
     },
     "metadata": {},
     "output_type": "display_data"
    },
    {
     "data": {
      "text/html": [
       "<pre style=\"white-space:pre;overflow-x:auto;line-height:normal;font-family:Menlo,'DejaVu Sans Mono',consolas,'Courier New',monospace\"><span style=\"font-weight: bold\"> Trainable params: </span><span style=\"color: #00af00; text-decoration-color: #00af00\">2,692,354</span> (10.27 MB)\n",
       "</pre>\n"
      ],
      "text/plain": [
       "\u001B[1m Trainable params: \u001B[0m\u001B[38;5;34m2,692,354\u001B[0m (10.27 MB)\n"
      ]
     },
     "metadata": {},
     "output_type": "display_data"
    },
    {
     "data": {
      "text/html": [
       "<pre style=\"white-space:pre;overflow-x:auto;line-height:normal;font-family:Menlo,'DejaVu Sans Mono',consolas,'Courier New',monospace\"><span style=\"font-weight: bold\"> Non-trainable params: </span><span style=\"color: #00af00; text-decoration-color: #00af00\">0</span> (0.00 B)\n",
       "</pre>\n"
      ],
      "text/plain": [
       "\u001B[1m Non-trainable params: \u001B[0m\u001B[38;5;34m0\u001B[0m (0.00 B)\n"
      ]
     },
     "metadata": {},
     "output_type": "display_data"
    },
    {
     "name": "stdout",
     "output_type": "stream",
     "text": [
      "None\n",
      "Epoch 1/100\n",
      "\u001B[1m32/32\u001B[0m \u001B[32m━━━━━━━━━━━━━━━━━━━━\u001B[0m\u001B[37m\u001B[0m \u001B[1m0s\u001B[0m 2ms/step\n",
      " — val_f1: 0.737900 — val_precision: 0.737948 — val_recall: 0.738000\n",
      "\n",
      "Epoch 1: val_f1 improved from -inf to 0.73790, saving model to checkpoints/mlp.weights.h5\n",
      "\u001B[1m28/28\u001B[0m \u001B[32m━━━━━━━━━━━━━━━━━━━━\u001B[0m\u001B[37m\u001B[0m \u001B[1m1s\u001B[0m 29ms/step - categorical_accuracy: 0.5655 - loss: 0.6857 - val_categorical_accuracy: 0.7380 - val_loss: 0.6054 - val_f1: 0.7379 - val_recall: 0.7380 - val_precision: 0.7379\n",
      "Epoch 2/100\n",
      "\u001B[1m32/32\u001B[0m \u001B[32m━━━━━━━━━━━━━━━━━━━━\u001B[0m\u001B[37m\u001B[0m \u001B[1m0s\u001B[0m 2ms/step\n",
      " — val_f1: 0.749471 — val_precision: 0.750686 — val_recall: 0.750000\n",
      "\n",
      "Epoch 2: val_f1 improved from 0.73790 to 0.74947, saving model to checkpoints/mlp.weights.h5\n",
      "\u001B[1m28/28\u001B[0m \u001B[32m━━━━━━━━━━━━━━━━━━━━\u001B[0m\u001B[37m\u001B[0m \u001B[1m1s\u001B[0m 22ms/step - categorical_accuracy: 0.7887 - loss: 0.5264 - val_categorical_accuracy: 0.7500 - val_loss: 0.5232 - val_f1: 0.7495 - val_recall: 0.7500 - val_precision: 0.7507\n",
      "Epoch 3/100\n",
      "\u001B[1m32/32\u001B[0m \u001B[32m━━━━━━━━━━━━━━━━━━━━\u001B[0m\u001B[37m\u001B[0m \u001B[1m0s\u001B[0m 2ms/stepp - categ\n",
      " — val_f1: 0.737900 — val_precision: 0.737948 — val_recall: 0.738000\n",
      "\n",
      "Epoch 3: val_f1 did not improve from 0.74947\n",
      "\u001B[1m28/28\u001B[0m \u001B[32m━━━━━━━━━━━━━━━━━━━━\u001B[0m\u001B[37m\u001B[0m \u001B[1m1s\u001B[0m 19ms/step - categorical_accuracy: 0.8721 - loss: 0.3220 - val_categorical_accuracy: 0.7380 - val_loss: 0.5620 - val_f1: 0.7379 - val_recall: 0.7380 - val_precision: 0.7379\n",
      "Epoch 4/100\n",
      "\u001B[1m32/32\u001B[0m \u001B[32m━━━━━━━━━━━━━━━━━━━━\u001B[0m\u001B[37m\u001B[0m \u001B[1m0s\u001B[0m 1ms/stepp - categ\n",
      " — val_f1: 0.742993 — val_precision: 0.744236 — val_recall: 0.743000\n",
      "\n",
      "Epoch 4: val_f1 did not improve from 0.74947\n",
      "\u001B[1m28/28\u001B[0m \u001B[32m━━━━━━━━━━━━━━━━━━━━\u001B[0m\u001B[37m\u001B[0m \u001B[1m1s\u001B[0m 19ms/step - categorical_accuracy: 0.9205 - loss: 0.2103 - val_categorical_accuracy: 0.7430 - val_loss: 0.6449 - val_f1: 0.7430 - val_recall: 0.7430 - val_precision: 0.7442\n",
      "Epoch 5/100\n",
      "\u001B[1m32/32\u001B[0m \u001B[32m━━━━━━━━━━━━━━━━━━━━\u001B[0m\u001B[37m\u001B[0m \u001B[1m0s\u001B[0m 2ms/stepp - categ\n",
      " — val_f1: 0.736014 — val_precision: 0.736033 — val_recall: 0.736000\n",
      "\n",
      "Epoch 5: val_f1 did not improve from 0.74947\n",
      "\u001B[1m28/28\u001B[0m \u001B[32m━━━━━━━━━━━━━━━━━━━━\u001B[0m\u001B[37m\u001B[0m \u001B[1m1s\u001B[0m 22ms/step - categorical_accuracy: 0.9554 - loss: 0.1285 - val_categorical_accuracy: 0.7360 - val_loss: 0.7320 - val_f1: 0.7360 - val_recall: 0.7360 - val_precision: 0.7360\n",
      "Epoch 6/100\n",
      "\u001B[1m32/32\u001B[0m \u001B[32m━━━━━━━━━━━━━━━━━━━━\u001B[0m\u001B[37m\u001B[0m \u001B[1m0s\u001B[0m 1ms/stepp - categ\n",
      " — val_f1: 0.731984 — val_precision: 0.731974 — val_recall: 0.732000\n",
      "\n",
      "Epoch 6: val_f1 did not improve from 0.74947\n",
      "\u001B[1m28/28\u001B[0m \u001B[32m━━━━━━━━━━━━━━━━━━━━\u001B[0m\u001B[37m\u001B[0m \u001B[1m1s\u001B[0m 21ms/step - categorical_accuracy: 0.9704 - loss: 0.0842 - val_categorical_accuracy: 0.7320 - val_loss: 0.8505 - val_f1: 0.7320 - val_recall: 0.7320 - val_precision: 0.7320\n",
      "Epoch 7/100\n",
      "\u001B[1m32/32\u001B[0m \u001B[32m━━━━━━━━━━━━━━━━━━━━\u001B[0m\u001B[37m\u001B[0m \u001B[1m0s\u001B[0m 1ms/stepp - categ\n",
      " — val_f1: 0.719460 — val_precision: 0.720403 — val_recall: 0.720000\n",
      "\n",
      "Epoch 7: val_f1 did not improve from 0.74947\n",
      "\u001B[1m28/28\u001B[0m \u001B[32m━━━━━━━━━━━━━━━━━━━━\u001B[0m\u001B[37m\u001B[0m \u001B[1m1s\u001B[0m 20ms/step - categorical_accuracy: 0.9809 - loss: 0.0646 - val_categorical_accuracy: 0.7200 - val_loss: 0.9405 - val_f1: 0.7195 - val_recall: 0.7200 - val_precision: 0.7204\n",
      "Epoch 8/100\n",
      "\u001B[1m32/32\u001B[0m \u001B[32m━━━━━━━━━━━━━━━━━━━━\u001B[0m\u001B[37m\u001B[0m \u001B[1m0s\u001B[0m 2ms/step\n",
      " — val_f1: 0.719511 — val_precision: 0.720324 — val_recall: 0.720000\n",
      "\n",
      "Epoch 8: val_f1 did not improve from 0.74947\n",
      "\u001B[1m28/28\u001B[0m \u001B[32m━━━━━━━━━━━━━━━━━━━━\u001B[0m\u001B[37m\u001B[0m \u001B[1m1s\u001B[0m 20ms/step - categorical_accuracy: 0.9827 - loss: 0.0474 - val_categorical_accuracy: 0.7200 - val_loss: 1.0164 - val_f1: 0.7195 - val_recall: 0.7200 - val_precision: 0.7203\n",
      "Epoch 9/100\n",
      "\u001B[1m32/32\u001B[0m \u001B[32m━━━━━━━━━━━━━━━━━━━━\u001B[0m\u001B[37m\u001B[0m \u001B[1m0s\u001B[0m 1ms/stepp - categ\n",
      " — val_f1: 0.729020 — val_precision: 0.729952 — val_recall: 0.729000\n",
      "\n",
      "Epoch 9: val_f1 did not improve from 0.74947\n",
      "\u001B[1m28/28\u001B[0m \u001B[32m━━━━━━━━━━━━━━━━━━━━\u001B[0m\u001B[37m\u001B[0m \u001B[1m1s\u001B[0m 19ms/step - categorical_accuracy: 0.9862 - loss: 0.0360 - val_categorical_accuracy: 0.7290 - val_loss: 1.0832 - val_f1: 0.7290 - val_recall: 0.7290 - val_precision: 0.7300\n",
      "Epoch 10/100\n",
      "\u001B[1m32/32\u001B[0m \u001B[32m━━━━━━━━━━━━━━━━━━━━\u001B[0m\u001B[37m\u001B[0m \u001B[1m0s\u001B[0m 2ms/stepp - categ\n",
      " — val_f1: 0.729020 — val_precision: 0.729054 — val_recall: 0.729000\n",
      "\n",
      "Epoch 10: val_f1 did not improve from 0.74947\n",
      "\u001B[1m28/28\u001B[0m \u001B[32m━━━━━━━━━━━━━━━━━━━━\u001B[0m\u001B[37m\u001B[0m \u001B[1m1s\u001B[0m 19ms/step - categorical_accuracy: 0.9901 - loss: 0.0290 - val_categorical_accuracy: 0.7290 - val_loss: 1.1173 - val_f1: 0.7290 - val_recall: 0.7290 - val_precision: 0.7291\n",
      "Epoch 11/100\n",
      "\u001B[1m32/32\u001B[0m \u001B[32m━━━━━━━━━━━━━━━━━━━━\u001B[0m\u001B[37m\u001B[0m \u001B[1m0s\u001B[0m 1ms/stepp - categ\n",
      " — val_f1: 0.722992 — val_precision: 0.722985 — val_recall: 0.723000\n",
      "\n",
      "Epoch 11: val_f1 did not improve from 0.74947\n",
      "\u001B[1m28/28\u001B[0m \u001B[32m━━━━━━━━━━━━━━━━━━━━\u001B[0m\u001B[37m\u001B[0m \u001B[1m1s\u001B[0m 23ms/step - categorical_accuracy: 0.9882 - loss: 0.0306 - val_categorical_accuracy: 0.7230 - val_loss: 1.1523 - val_f1: 0.7230 - val_recall: 0.7230 - val_precision: 0.7230\n",
      "Epoch 12/100\n",
      "\u001B[1m32/32\u001B[0m \u001B[32m━━━━━━━━━━━━━━━━━━━━\u001B[0m\u001B[37m\u001B[0m \u001B[1m0s\u001B[0m 1ms/stepp - categ\n",
      " — val_f1: 0.718850 — val_precision: 0.718943 — val_recall: 0.719000\n",
      "\n",
      "Epoch 12: val_f1 did not improve from 0.74947\n",
      "\u001B[1m28/28\u001B[0m \u001B[32m━━━━━━━━━━━━━━━━━━━━\u001B[0m\u001B[37m\u001B[0m \u001B[1m1s\u001B[0m 19ms/step - categorical_accuracy: 0.9890 - loss: 0.0271 - val_categorical_accuracy: 0.7190 - val_loss: 1.1972 - val_f1: 0.7188 - val_recall: 0.7190 - val_precision: 0.7189\n",
      "Epoch 13/100\n",
      "\u001B[1m32/32\u001B[0m \u001B[32m━━━━━━━━━━━━━━━━━━━━\u001B[0m\u001B[37m\u001B[0m \u001B[1m0s\u001B[0m 2ms/step\n",
      " — val_f1: 0.718954 — val_precision: 0.718943 — val_recall: 0.719000\n",
      "\n",
      "Epoch 13: val_f1 did not improve from 0.74947\n",
      "\u001B[1m28/28\u001B[0m \u001B[32m━━━━━━━━━━━━━━━━━━━━\u001B[0m\u001B[37m\u001B[0m \u001B[1m1s\u001B[0m 28ms/step - categorical_accuracy: 0.9891 - loss: 0.0283 - val_categorical_accuracy: 0.7190 - val_loss: 1.2091 - val_f1: 0.7190 - val_recall: 0.7190 - val_precision: 0.7189\n",
      "Epoch 14/100\n",
      "\u001B[1m32/32\u001B[0m \u001B[32m━━━━━━━━━━━━━━━━━━━━\u001B[0m\u001B[37m\u001B[0m \u001B[1m0s\u001B[0m 1ms/stepp - categ\n",
      " — val_f1: 0.712780 — val_precision: 0.712973 — val_recall: 0.713000\n",
      "\n",
      "Epoch 14: val_f1 did not improve from 0.74947\n",
      "\u001B[1m28/28\u001B[0m \u001B[32m━━━━━━━━━━━━━━━━━━━━\u001B[0m\u001B[37m\u001B[0m \u001B[1m1s\u001B[0m 19ms/step - categorical_accuracy: 0.9876 - loss: 0.0273 - val_categorical_accuracy: 0.7130 - val_loss: 1.2388 - val_f1: 0.7128 - val_recall: 0.7130 - val_precision: 0.7130\n",
      "Epoch 15/100\n",
      "\u001B[1m32/32\u001B[0m \u001B[32m━━━━━━━━━━━━━━━━━━━━\u001B[0m\u001B[37m\u001B[0m \u001B[1m0s\u001B[0m 1ms/stepp - categ\n",
      " — val_f1: 0.726014 — val_precision: 0.726034 — val_recall: 0.726000\n",
      "\n",
      "Epoch 15: val_f1 did not improve from 0.74947\n",
      "\u001B[1m28/28\u001B[0m \u001B[32m━━━━━━━━━━━━━━━━━━━━\u001B[0m\u001B[37m\u001B[0m \u001B[1m1s\u001B[0m 19ms/step - categorical_accuracy: 0.9882 - loss: 0.0254 - val_categorical_accuracy: 0.7260 - val_loss: 1.2281 - val_f1: 0.7260 - val_recall: 0.7260 - val_precision: 0.7260\n",
      "Epoch 16/100\n",
      "\u001B[1m32/32\u001B[0m \u001B[32m━━━━━━━━━━━━━━━━━━━━\u001B[0m\u001B[37m\u001B[0m \u001B[1m0s\u001B[0m 2ms/step\n",
      " — val_f1: 0.735045 — val_precision: 0.735621 — val_recall: 0.735000\n",
      "\n",
      "Epoch 16: val_f1 did not improve from 0.74947\n",
      "\u001B[1m28/28\u001B[0m \u001B[32m━━━━━━━━━━━━━━━━━━━━\u001B[0m\u001B[37m\u001B[0m \u001B[1m1s\u001B[0m 22ms/step - categorical_accuracy: 0.9885 - loss: 0.0272 - val_categorical_accuracy: 0.7350 - val_loss: 1.2469 - val_f1: 0.7350 - val_recall: 0.7350 - val_precision: 0.7356\n",
      "Epoch 17/100\n",
      "\u001B[1m32/32\u001B[0m \u001B[32m━━━━━━━━━━━━━━━━━━━━\u001B[0m\u001B[37m\u001B[0m \u001B[1m0s\u001B[0m 1ms/stepp - categ\n",
      " — val_f1: 0.733984 — val_precision: 0.735291 — val_recall: 0.734000\n",
      "\n",
      "Epoch 17: val_f1 did not improve from 0.74947\n",
      "\u001B[1m28/28\u001B[0m \u001B[32m━━━━━━━━━━━━━━━━━━━━\u001B[0m\u001B[37m\u001B[0m \u001B[1m1s\u001B[0m 19ms/step - categorical_accuracy: 0.9914 - loss: 0.0231 - val_categorical_accuracy: 0.7340 - val_loss: 1.2560 - val_f1: 0.7340 - val_recall: 0.7340 - val_precision: 0.7353\n",
      "Epoch 18/100\n",
      "\u001B[1m32/32\u001B[0m \u001B[32m━━━━━━━━━━━━━━━━━━━━\u001B[0m\u001B[37m\u001B[0m \u001B[1m0s\u001B[0m 2ms/stepp - categ\n",
      " — val_f1: 0.725032 — val_precision: 0.725100 — val_recall: 0.725000\n",
      "\n",
      "Epoch 18: val_f1 did not improve from 0.74947\n",
      "\u001B[1m28/28\u001B[0m \u001B[32m━━━━━━━━━━━━━━━━━━━━\u001B[0m\u001B[37m\u001B[0m \u001B[1m1s\u001B[0m 20ms/step - categorical_accuracy: 0.9891 - loss: 0.0229 - val_categorical_accuracy: 0.7250 - val_loss: 1.2599 - val_f1: 0.7250 - val_recall: 0.7250 - val_precision: 0.7251\n",
      "Epoch 19/100\n",
      "\u001B[1m32/32\u001B[0m \u001B[32m━━━━━━━━━━━━━━━━━━━━\u001B[0m\u001B[37m\u001B[0m \u001B[1m0s\u001B[0m 1ms/stepp - categ\n",
      " — val_f1: 0.723041 — val_precision: 0.723152 — val_recall: 0.723000\n",
      "\n",
      "Epoch 19: val_f1 did not improve from 0.74947\n",
      "\u001B[1m28/28\u001B[0m \u001B[32m━━━━━━━━━━━━━━━━━━━━\u001B[0m\u001B[37m\u001B[0m \u001B[1m1s\u001B[0m 20ms/step - categorical_accuracy: 0.9881 - loss: 0.0249 - val_categorical_accuracy: 0.7230 - val_loss: 1.2525 - val_f1: 0.7230 - val_recall: 0.7230 - val_precision: 0.7232\n",
      "Epoch 20/100\n",
      "\u001B[1m32/32\u001B[0m \u001B[32m━━━━━━━━━━━━━━━━━━━━\u001B[0m\u001B[37m\u001B[0m \u001B[1m0s\u001B[0m 1ms/stepp - categ\n",
      " — val_f1: 0.719021 — val_precision: 0.719055 — val_recall: 0.719000\n",
      "\n",
      "Epoch 20: val_f1 did not improve from 0.74947\n",
      "\u001B[1m28/28\u001B[0m \u001B[32m━━━━━━━━━━━━━━━━━━━━\u001B[0m\u001B[37m\u001B[0m \u001B[1m1s\u001B[0m 18ms/step - categorical_accuracy: 0.9902 - loss: 0.0225 - val_categorical_accuracy: 0.7190 - val_loss: 1.2519 - val_f1: 0.7190 - val_recall: 0.7190 - val_precision: 0.7191\n",
      "Epoch 21/100\n",
      "\u001B[1m32/32\u001B[0m \u001B[32m━━━━━━━━━━━━━━━━━━━━\u001B[0m\u001B[37m\u001B[0m \u001B[1m0s\u001B[0m 1ms/stepp - categ\n",
      " — val_f1: 0.724050 — val_precision: 0.724244 — val_recall: 0.724000\n",
      "\n",
      "Epoch 21: val_f1 did not improve from 0.74947\n",
      "\u001B[1m28/28\u001B[0m \u001B[32m━━━━━━━━━━━━━━━━━━━━\u001B[0m\u001B[37m\u001B[0m \u001B[1m1s\u001B[0m 19ms/step - categorical_accuracy: 0.9886 - loss: 0.0236 - val_categorical_accuracy: 0.7240 - val_loss: 1.2676 - val_f1: 0.7240 - val_recall: 0.7240 - val_precision: 0.7242\n",
      "Epoch 22/100\n",
      "\u001B[1m32/32\u001B[0m \u001B[32m━━━━━━━━━━━━━━━━━━━━\u001B[0m\u001B[37m\u001B[0m \u001B[1m0s\u001B[0m 1ms/stepp - categ\n",
      " — val_f1: 0.729053 — val_precision: 0.729434 — val_recall: 0.729000\n",
      "\n",
      "Epoch 22: val_f1 did not improve from 0.74947\n",
      "\u001B[1m28/28\u001B[0m \u001B[32m━━━━━━━━━━━━━━━━━━━━\u001B[0m\u001B[37m\u001B[0m \u001B[1m1s\u001B[0m 18ms/step - categorical_accuracy: 0.9903 - loss: 0.0254 - val_categorical_accuracy: 0.7290 - val_loss: 1.2690 - val_f1: 0.7291 - val_recall: 0.7290 - val_precision: 0.7294\n",
      "Epoch 22: early stopping\n",
      "Restoring model weights from the end of the best epoch: 2.\n"
     ]
    }
   ],
   "source": [
    "# Define a Sequential model\n",
    "model = Sequential()\n",
    "\n",
    "# Add the first dense (fully connected) layer with 512 units, ReLU activation\n",
    "# The input dimension is the number of features in the TF-IDF transformed training data\n",
    "model.add(Dense(512, input_dim=x_train_tfidf_new.shape[1], activation=\"relu\"))\n",
    "\n",
    "# Add a dropout layer to prevent overfitting by randomly dropping 50% of neurons\n",
    "model.add(Dropout(0.5))\n",
    "\n",
    "# Add the second dense layer with 256 units, ReLU activation\n",
    "model.add(Dense(256, activation=\"relu\"))\n",
    "\n",
    "# Add another dropout layer with a 50% dropout rate\n",
    "model.add(Dropout(0.5))\n",
    "\n",
    "# Add the output layer with softmax activation for multi-class classification\n",
    "# The number of units is equal to the number of unique classes in the target variable (y_train_new)\n",
    "model.add(Dense(len(y_train_new.unique()), activation=\"softmax\"))\n",
    "\n",
    "# Print the summary of the model architecture\n",
    "print(model.summary())\n",
    "\n",
    "# Compile the model\n",
    "# - Loss: categorical cross-entropy (since this is a multi-class classification problem)\n",
    "# - Optimizer: Adam with a learning rate of 0.001\n",
    "# - Metrics: categorical accuracy, to monitor classification performance\n",
    "model.compile(\n",
    "    loss=\"categorical_crossentropy\",\n",
    "    optimizer=Adam(learning_rate=0.001),\n",
    "    metrics=[CategoricalAccuracy()],\n",
    ")\n",
    "\n",
    "# Create a directory for saving model checkpoints, if it doesn't exist already\n",
    "if not os.path.exists(\"./checkpoints\"):\n",
    "    os.makedirs(\"./checkpoints\")\n",
    "\n",
    "# Define a checkpoint callback to save the best model based on validation F1-score\n",
    "# - It saves only the weights (`save_weights_only=True`)\n",
    "# - It saves the best model according to the highest validation F1 score (`monitor=\"val_f1\"`)\n",
    "checkpoint = ModelCheckpoint(\n",
    "    \"checkpoints/mlp.weights.h5\",  # Filepath where weights will be saved\n",
    "    monitor=\"val_f1\",              # Metric to monitor\n",
    "    mode=\"max\",                    # Mode to maximize the F1-score\n",
    "    verbose=2,                     # Verbose level for logging\n",
    "    save_best_only=True,           # Save only the best model\n",
    "    save_weights_only=True,        # Save weights instead of the full model\n",
    ")\n",
    "\n",
    "# Early stopping callback to stop training if the validation loss doesn't improve for 20 epochs\n",
    "# - `restore_best_weights=True` ensures the model weights are restored to the best observed state\n",
    "early_stopping = EarlyStopping(patience=20, verbose=2, restore_best_weights=True)\n",
    "\n",
    "# Train the model\n",
    "# - Training data: `x_train_tfidf_new` and one-hot encoded labels `y_train_1_hot`\n",
    "# - Validation data: `x_val_tfidf_new` and one-hot encoded labels `y_val_1_hot`\n",
    "# - Batch size: 256\n",
    "# - Epochs: 100\n",
    "# - Shuffle the data before each epoch\n",
    "# - Use the custom metrics, checkpoint, and early stopping as callbacks\n",
    "history = model.fit(\n",
    "    x_train_tfidf_new,                        # Training features\n",
    "    y_train_1_hot,                            # Training labels (one-hot encoded)\n",
    "    validation_data=(x_val_tfidf_new, y_val_1_hot),  # Validation data\n",
    "    batch_size=256,                           # Batch size for training\n",
    "    epochs=100,                               # Maximum number of epochs\n",
    "    shuffle=True,                             # Shuffle training data each epoch\n",
    "    callbacks=[\n",
    "        Metrics(valid_data=(x_val_tfidf_new, y_val_1_hot)),  # Custom metric for F1 score\n",
    "        checkpoint,                                         # Save best model checkpoint\n",
    "        early_stopping,                                     # Stop early if no improvement\n",
    "    ],\n",
    ")"
   ]
  },
  {
   "cell_type": "markdown",
   "metadata": {
    "id": "tXMqVtzcLci9"
   },
   "source": [
    "Visualize Model's Training History"
   ]
  },
  {
   "cell_type": "code",
   "execution_count": 43,
   "metadata": {
    "ExecuteTime": {
     "end_time": "2024-09-06T08:36:21.099348Z",
     "start_time": "2024-09-06T08:36:21.038993Z"
    },
    "colab": {
     "base_uri": "https://localhost:8080/",
     "height": 927
    },
    "id": "tT4hkuxu-mRl",
    "outputId": "78991389-85f5-48b0-829d-3be7bbff4684"
   },
   "outputs": [
    {
     "data": {
      "image/png": "[encoded data removed]",
      "text/plain": [
       "<Figure size 640x480 with 1 Axes>"
      ]
     },
     "metadata": {},
     "output_type": "display_data"
    }
   ],
   "source": [
    "# summarize history for accuracy\n",
    "plt.plot(history.history[\"categorical_accuracy\"])\n",
    "plt.plot(history.history[\"val_categorical_accuracy\"])\n",
    "plt.title(\"model accuracy\")\n",
    "plt.ylabel(\"accuracy\")\n",
    "plt.xlabel(\"epoch\")\n",
    "plt.legend([\"train\", \"dev\"], loc=\"upper left\")\n",
    "plt.show()"
   ]
  },
  {
   "cell_type": "code",
   "execution_count": 44,
   "metadata": {
    "ExecuteTime": {
     "end_time": "2024-09-06T08:36:22.495757Z",
     "start_time": "2024-09-06T08:36:22.444258Z"
    },
    "collapsed": false
   },
   "outputs": [
    {
     "data": {
      "image/png": "[encoded data removed]",
      "text/plain": [
       "<Figure size 640x480 with 1 Axes>"
      ]
     },
     "metadata": {},
     "output_type": "display_data"
    }
   ],
   "source": [
    "# summarize history for loss\n",
    "plt.plot(history.history[\"loss\"])\n",
    "plt.plot(history.history[\"val_loss\"])\n",
    "plt.title(\"model loss\")\n",
    "plt.ylabel(\"loss\")\n",
    "plt.xlabel(\"epoch\")\n",
    "plt.legend([\"train\", \"dev\"], loc=\"upper right\")\n",
    "plt.show()"
   ]
  },
  {
   "cell_type": "markdown",
   "metadata": {
    "id": "Ka7NRi6iMVbL"
   },
   "source": [
    "Evaluate performance of tf-idf MLP model"
   ]
  },
  {
   "cell_type": "code",
   "execution_count": 45,
   "metadata": {
    "ExecuteTime": {
     "end_time": "2024-09-06T08:36:34.685956Z",
     "start_time": "2024-09-06T08:36:34.475221Z"
    },
    "colab": {
     "base_uri": "https://localhost:8080/"
    },
    "id": "OHKwhDaw-mUV",
    "outputId": "8fb788ea-cf3b-40ce-9e27-cdcd4dee8cf2"
   },
   "outputs": [
    {
     "name": "stdout",
     "output_type": "stream",
     "text": [
      "\u001B[1m63/63\u001B[0m \u001B[32m━━━━━━━━━━━━━━━━━━━━\u001B[0m\u001B[37m\u001B[0m \u001B[1m0s\u001B[0m 1ms/step\n"
     ]
    },
    {
     "name": "stderr",
     "output_type": "stream",
     "text": [
      "/Users/antonal/ta2/lib/python3.11/site-packages/keras/src/layers/core/dense.py:87: UserWarning: Do not pass an `input_shape`/`input_dim` argument to a layer. When using Sequential models, prefer using an `Input(shape)` object as the first layer in the model instead.\n",
      "  super().__init__(activity_regularizer=activity_regularizer, **kwargs)\n"
     ]
    },
    {
     "name": "stdout",
     "output_type": "stream",
     "text": [
      "              precision    recall  f1-score   support\n",
      "\n",
      "           0       0.74      0.79      0.77      1007\n",
      "           1       0.77      0.73      0.75       993\n",
      "\n",
      "    accuracy                           0.76      2000\n",
      "   macro avg       0.76      0.76      0.76      2000\n",
      "weighted avg       0.76      0.76      0.76      2000\n",
      "\n"
     ]
    }
   ],
   "source": [
    "# Define a Sequential model\n",
    "model = Sequential()\n",
    "\n",
    "# Add the first dense (fully connected) layer with 512 units and ReLU activation\n",
    "# The input dimension is the number of features in the TF-IDF transformed training data\n",
    "model.add(Dense(512, input_dim=x_train_tfidf_new.shape[1], activation=\"relu\"))\n",
    "\n",
    "# Add the second dense layer with 256 units and ReLU activation\n",
    "model.add(Dense(256, activation=\"relu\"))\n",
    "\n",
    "# Add the output layer with softmax activation for multi-class classification\n",
    "# The number of units is equal to the number of unique classes in the target variable (y_train_new)\n",
    "model.add(Dense(len(y_train_new.unique()), activation=\"softmax\"))\n",
    "\n",
    "# Load the pre-trained model's weights from the saved checkpoint file\n",
    "# This ensures that the model starts with the best weights from the previous training\n",
    "model.load_weights(\"checkpoints/mlp.weights.h5\")\n",
    "\n",
    "# Compile the model\n",
    "# - Loss: categorical cross-entropy (suitable for multi-class classification)\n",
    "# - Optimizer: Adam with a learning rate of 0.001\n",
    "# - Metrics: accuracy to evaluate the performance during testing\n",
    "model.compile(\n",
    "    loss=\"categorical_crossentropy\",\n",
    "    optimizer=Adam(learning_rate=0.001),\n",
    "    metrics=[\"accuracy\"],  # Using accuracy as the evaluation metric\n",
    ")\n",
    "\n",
    "# Make predictions on the test dataset (x_test_tfidf_new)\n",
    "# The model predicts the probabilities for each class, so we use np.argmax to select the class with the highest probability\n",
    "predictions = np.argmax(model.predict(x_test_tfidf_new), -1)\n",
    "\n",
    "# Print the classification report to evaluate the model's performance\n",
    "# It compares the true labels (y_test) with the predicted labels and provides precision, recall, F1-score, etc.\n",
    "print(classification_report(y_test, predictions))"
   ]
  },
  {
   "cell_type": "markdown",
   "metadata": {
    "id": "bhLdz7xCQNXq"
   },
   "source": [
    "## Hyper tuning"
   ]
  },
  {
   "cell_type": "code",
   "execution_count": 46,
   "metadata": {
    "ExecuteTime": {
     "end_time": "2024-09-06T08:36:58.868425Z",
     "start_time": "2024-09-06T08:36:58.863600Z"
    },
    "id": "tJJ6zhRbUB0z"
   },
   "outputs": [],
   "source": [
    "def build_model(hp, xtrain, classes):\n",
    "    model = Sequential()  # Initialize a Sequential model\n",
    "\n",
    "    layer_index = 0  # Track the index of the current layer\n",
    "    # Define a loop to add between 1 and 3 hidden layers based on the hyperparameter search space\n",
    "    for i in range(hp.Int(name=\"num_layers\", min_value=1, max_value=3)):\n",
    "        if layer_index == 0:\n",
    "            # First hidden layer (input layer) with tunable number of units and activation function\n",
    "            model.add(\n",
    "                Dense(\n",
    "                    hp.Int(\n",
    "                        name=\"hidden_units_\" + str(i),  # Hyperparameter for number of units\n",
    "                        min_value=128,  # Minimum units\n",
    "                        max_value=512,  # Maximum units\n",
    "                        step=64,  # Step size between unit options\n",
    "                    ),\n",
    "                    activation=hp.Choice(\n",
    "                        name=\"activation_layer\" + str(i), values=[\"relu\", \"tanh\"]\n",
    "                    ),  # Hyperparameter to choose activation function\n",
    "                    input_dim=xtrain.shape[1],  # Set input dimension to match feature size\n",
    "                )\n",
    "            )\n",
    "            # Add a Dropout layer to the first hidden layer with a tunable dropout rate\n",
    "            model.add(\n",
    "                Dropout(\n",
    "                    hp.Choice(\n",
    "                        name=\"dropout_layer_\" + str(i),  # Hyperparameter for dropout rate\n",
    "                        values=[0.1, 0.2, 0.3, 0.4, 0.5],  # Dropout values to choose from\n",
    "                    )\n",
    "                )\n",
    "            )\n",
    "        else:\n",
    "            # For subsequent hidden layers, add Dense layers with tunable units and activation functions\n",
    "            model.add(\n",
    "                Dense(\n",
    "                    hp.Int(\n",
    "                        name=\"hidden_units_\" + str(i),  # Hyperparameter for units\n",
    "                        min_value=128,  # Minimum units\n",
    "                        max_value=512,  # Maximum units\n",
    "                        step=64,  # Step size for units\n",
    "                    ),\n",
    "                    activation=hp.Choice(\n",
    "                        name=\"activation_layer\" + str(i),  # Hyperparameter for activation function\n",
    "                        values=[\"relu\", \"tanh\"],  # Choices for activation function\n",
    "                    ),\n",
    "                )\n",
    "            )\n",
    "            # Add a Dropout layer for regularization with a tunable dropout rate\n",
    "            model.add(\n",
    "                Dropout(\n",
    "                    hp.Choice(\n",
    "                        name=\"dropout_layer_\" + str(i),  # Hyperparameter for dropout rate\n",
    "                        values=[0.1, 0.2, 0.3, 0.4, 0.5],  # Dropout rates to choose from\n",
    "                    )\n",
    "                )\n",
    "            )\n",
    "\n",
    "        layer_index += 1  # Increment the layer index for the next iteration\n",
    "\n",
    "    # Output layer that matches the number of classes, with softmax activation for classification\n",
    "    model.add(Dense(len(classes), activation=\"softmax\"))\n",
    "\n",
    "    # Tune the learning rate for the optimizer using a hyperparameter search space\n",
    "    hp_learning_rate = hp.Choice(\"learning_rate\", values=[1e-3, 1e-4])  # Choices for learning rate\n",
    "    # Compile the model with categorical cross-entropy loss and Adam optimizer\n",
    "    model.compile(\n",
    "        loss=\"categorical_crossentropy\",  # Loss function for multi-class classification\n",
    "        optimizer=Adam(learning_rate=hp_learning_rate),  # Adam optimizer with tunable learning rate\n",
    "        metrics=[CategoricalAccuracy()],  # Metric for evaluating model performance\n",
    "    )\n",
    "\n",
    "    return model  # Return the compiled model"
   ]
  },
  {
   "cell_type": "code",
   "execution_count": null,
   "metadata": {
    "id": "es4m6n0LIcBu"
   },
   "outputs": [],
   "source": [
    "#!rm -r KT_dir"
   ]
  },
  {
   "cell_type": "code",
   "execution_count": 47,
   "metadata": {
    "ExecuteTime": {
     "end_time": "2024-09-06T08:37:08.919319Z",
     "start_time": "2024-09-06T08:37:08.902895Z"
    },
    "colab": {
     "base_uri": "https://localhost:8080/"
    },
    "id": "OPSLppVO-mwO",
    "outputId": "dda6b33d-1bdf-48f6-b80a-96a7452e7613"
   },
   "outputs": [
    {
     "name": "stdout",
     "output_type": "stream",
     "text": [
      "Reloading Tuner from KT_dir/KT_tuning/tuner0.json\n",
      "Search space summary\n",
      "Default search space size: 11\n",
      "num_layers (Int)\n",
      "{'default': None, 'conditions': [], 'min_value': 1, 'max_value': 3, 'step': 1, 'sampling': 'linear'}\n",
      "hidden_units_0 (Int)\n",
      "{'default': None, 'conditions': [], 'min_value': 128, 'max_value': 512, 'step': 64, 'sampling': 'linear'}\n",
      "activation_layer0 (Choice)\n",
      "{'default': 'relu', 'conditions': [], 'values': ['relu', 'tanh'], 'ordered': False}\n",
      "dropout_layer_0 (Choice)\n",
      "{'default': 0.1, 'conditions': [], 'values': [0.1, 0.2, 0.3, 0.4, 0.5], 'ordered': True}\n",
      "learning_rate (Choice)\n",
      "{'default': 0.001, 'conditions': [], 'values': [0.001, 0.0001], 'ordered': True}\n",
      "hidden_units_1 (Int)\n",
      "{'default': None, 'conditions': [], 'min_value': 128, 'max_value': 512, 'step': 64, 'sampling': 'linear'}\n",
      "activation_layer1 (Choice)\n",
      "{'default': 'relu', 'conditions': [], 'values': ['relu', 'tanh'], 'ordered': False}\n",
      "dropout_layer_1 (Choice)\n",
      "{'default': 0.1, 'conditions': [], 'values': [0.1, 0.2, 0.3, 0.4, 0.5], 'ordered': True}\n",
      "hidden_units_2 (Int)\n",
      "{'default': None, 'conditions': [], 'min_value': 128, 'max_value': 512, 'step': 64, 'sampling': 'linear'}\n",
      "activation_layer2 (Choice)\n",
      "{'default': 'relu', 'conditions': [], 'values': ['relu', 'tanh'], 'ordered': False}\n",
      "dropout_layer_2 (Choice)\n",
      "{'default': 0.1, 'conditions': [], 'values': [0.1, 0.2, 0.3, 0.4, 0.5], 'ordered': True}\n"
     ]
    }
   ],
   "source": [
    "# Assign x_train_tfidf_new to xtrain and get the unique class labels from y_train_new\n",
    "xtrain = x_train_tfidf_new\n",
    "classes = y_train_new.unique()\n",
    "\n",
    "# Create a lambda function that passes the current hyperparameters (hp) to build_model\n",
    "# This is necessary for compatibility with the Keras Tuner\n",
    "build_model_with_params = lambda hp: build_model(hp, xtrain, classes)\n",
    "\n",
    "# Initialize the Keras Tuner RandomSearch object for hyperparameter tuning\n",
    "tuner = kt.RandomSearch(\n",
    "    build_model_with_params,  # Pass the model-building function\n",
    "    objective=kt.Objective(\"val_categorical_accuracy\", direction=\"max\"),  # Target validation accuracy for optimization\n",
    "    max_trials=20,  # Set the maximum number of trials (combinations of hyperparameters) to test\n",
    "    directory=\"KT_dir\",  # Directory to save the tuning results\n",
    "    project_name=\"KT_tuning\",  # Name of the project for easy identification\n",
    ")\n",
    "\n",
    "# EarlyStopping callback to stop training if the validation loss doesn't improve for 20 epochs\n",
    "early_stopping = EarlyStopping(monitor=\"val_loss\", patience=20)\n",
    "\n",
    "# Print a summary of the hyperparameter search space (what parameters will be tuned)\n",
    "tuner.search_space_summary()"
   ]
  },
  {
   "cell_type": "code",
   "execution_count": 48,
   "metadata": {
    "ExecuteTime": {
     "end_time": "2024-09-06T08:37:13.477985Z",
     "start_time": "2024-09-06T08:37:13.468762Z"
    },
    "colab": {
     "base_uri": "https://localhost:8080/"
    },
    "id": "7J0ekZu1-my6",
    "outputId": "06e988f9-6dda-4935-de47-2f32996c3e34"
   },
   "outputs": [],
   "source": [
    "# Begin the hyperparameter search using the tuner\n",
    "tuner.search(\n",
    "    x_train_tfidf_new,          # Training features\n",
    "    y_train_1_hot,              # Training labels (one-hot encoded)\n",
    "    validation_data=(x_val_tfidf_new, y_val_1_hot),  # Validation data for evaluating model performance\n",
    "    epochs=50,                  # Number of epochs to train for each trial\n",
    "    batch_size=128,             # Batch size used during training\n",
    "    callbacks=[early_stopping], # Apply early stopping to prevent overfitting during search\n",
    ")"
   ]
  },
  {
   "cell_type": "code",
   "execution_count": 49,
   "metadata": {
    "ExecuteTime": {
     "end_time": "2024-09-06T08:37:16.568604Z",
     "start_time": "2024-09-06T08:37:16.433443Z"
    },
    "colab": {
     "base_uri": "https://localhost:8080/"
    },
    "id": "UfwviKpq-m1j",
    "outputId": "2a20b658-ca84-4b14-810d-1a7b47b9a46f"
   },
   "outputs": [
    {
     "name": "stdout",
     "output_type": "stream",
     "text": [
      "oracle.json \u001B[34mtrial_03\u001B[m\u001B[m    \u001B[34mtrial_07\u001B[m\u001B[m    \u001B[34mtrial_11\u001B[m\u001B[m    \u001B[34mtrial_15\u001B[m\u001B[m    \u001B[34mtrial_19\u001B[m\u001B[m\r\n",
      "\u001B[34mtrial_00\u001B[m\u001B[m    \u001B[34mtrial_04\u001B[m\u001B[m    \u001B[34mtrial_08\u001B[m\u001B[m    \u001B[34mtrial_12\u001B[m\u001B[m    \u001B[34mtrial_16\u001B[m\u001B[m    tuner0.json\r\n",
      "\u001B[34mtrial_01\u001B[m\u001B[m    \u001B[34mtrial_05\u001B[m\u001B[m    \u001B[34mtrial_09\u001B[m\u001B[m    \u001B[34mtrial_13\u001B[m\u001B[m    \u001B[34mtrial_17\u001B[m\u001B[m\r\n",
      "\u001B[34mtrial_02\u001B[m\u001B[m    \u001B[34mtrial_06\u001B[m\u001B[m    \u001B[34mtrial_10\u001B[m\u001B[m    \u001B[34mtrial_14\u001B[m\u001B[m    \u001B[34mtrial_18\u001B[m\u001B[m\r\n"
     ]
    }
   ],
   "source": [
    "# Created checkpoints and configuration files\n",
    "!ls KT_dir/KT_tuning/"
   ]
  },
  {
   "cell_type": "code",
   "execution_count": 50,
   "metadata": {
    "ExecuteTime": {
     "end_time": "2024-09-06T08:37:29.204730Z",
     "start_time": "2024-09-06T08:37:29.081495Z"
    },
    "colab": {
     "base_uri": "https://localhost:8080/"
    },
    "id": "YsV8xYOW-m5F",
    "outputId": "e86675cc-73a6-47ec-9d21-7063a8c2f28c"
   },
   "outputs": [
    {
     "name": "stdout",
     "output_type": "stream",
     "text": [
      "build_config.json     checkpoint.weights.h5 trial.json\r\n"
     ]
    }
   ],
   "source": [
    "!ls KT_dir/KT_tuning/trial_00"
   ]
  },
  {
   "cell_type": "code",
   "execution_count": 51,
   "metadata": {
    "ExecuteTime": {
     "end_time": "2024-09-06T08:37:29.889829Z",
     "start_time": "2024-09-06T08:37:29.881091Z"
    },
    "colab": {
     "base_uri": "https://localhost:8080/"
    },
    "id": "C1v64zWmS7dT",
    "outputId": "f91dae40-a372-4dd0-8140-9a92f45d0c43"
   },
   "outputs": [
    {
     "name": "stdout",
     "output_type": "stream",
     "text": [
      "Results summary\n",
      "Results in KT_dir/KT_tuning\n",
      "Showing 10 best trials\n",
      "Objective(name=\"val_categorical_accuracy\", direction=\"max\")\n",
      "\n",
      "Trial 03 summary\n",
      "Hyperparameters:\n",
      "num_layers: 2\n",
      "hidden_units_0: 512\n",
      "activation_layer0: relu\n",
      "dropout_layer_0: 0.1\n",
      "learning_rate: 0.001\n",
      "hidden_units_1: 384\n",
      "activation_layer1: tanh\n",
      "dropout_layer_1: 0.5\n",
      "hidden_units_2: 128\n",
      "activation_layer2: tanh\n",
      "dropout_layer_2: 0.5\n",
      "Score: 0.7379999756813049\n",
      "\n",
      "Trial 00 summary\n",
      "Hyperparameters:\n",
      "num_layers: 2\n",
      "hidden_units_0: 192\n",
      "activation_layer0: tanh\n",
      "dropout_layer_0: 0.4\n",
      "learning_rate: 0.0001\n",
      "hidden_units_1: 128\n",
      "activation_layer1: relu\n",
      "dropout_layer_1: 0.1\n",
      "Score: 0.7369999885559082\n",
      "\n",
      "Trial 08 summary\n",
      "Hyperparameters:\n",
      "num_layers: 1\n",
      "hidden_units_0: 448\n",
      "activation_layer0: tanh\n",
      "dropout_layer_0: 0.3\n",
      "learning_rate: 0.0001\n",
      "hidden_units_1: 448\n",
      "activation_layer1: relu\n",
      "dropout_layer_1: 0.4\n",
      "hidden_units_2: 512\n",
      "activation_layer2: relu\n",
      "dropout_layer_2: 0.5\n",
      "Score: 0.7360000014305115\n",
      "\n",
      "Trial 06 summary\n",
      "Hyperparameters:\n",
      "num_layers: 2\n",
      "hidden_units_0: 256\n",
      "activation_layer0: tanh\n",
      "dropout_layer_0: 0.2\n",
      "learning_rate: 0.0001\n",
      "hidden_units_1: 192\n",
      "activation_layer1: tanh\n",
      "dropout_layer_1: 0.3\n",
      "hidden_units_2: 256\n",
      "activation_layer2: relu\n",
      "dropout_layer_2: 0.3\n",
      "Score: 0.7350000143051147\n",
      "\n",
      "Trial 18 summary\n",
      "Hyperparameters:\n",
      "num_layers: 3\n",
      "hidden_units_0: 256\n",
      "activation_layer0: relu\n",
      "dropout_layer_0: 0.4\n",
      "learning_rate: 0.001\n",
      "hidden_units_1: 256\n",
      "activation_layer1: tanh\n",
      "dropout_layer_1: 0.2\n",
      "hidden_units_2: 192\n",
      "activation_layer2: relu\n",
      "dropout_layer_2: 0.1\n",
      "Score: 0.7350000143051147\n",
      "\n",
      "Trial 04 summary\n",
      "Hyperparameters:\n",
      "num_layers: 2\n",
      "hidden_units_0: 384\n",
      "activation_layer0: relu\n",
      "dropout_layer_0: 0.4\n",
      "learning_rate: 0.001\n",
      "hidden_units_1: 192\n",
      "activation_layer1: relu\n",
      "dropout_layer_1: 0.2\n",
      "hidden_units_2: 320\n",
      "activation_layer2: relu\n",
      "dropout_layer_2: 0.5\n",
      "Score: 0.7350000143051147\n",
      "\n",
      "Trial 05 summary\n",
      "Hyperparameters:\n",
      "num_layers: 3\n",
      "hidden_units_0: 512\n",
      "activation_layer0: tanh\n",
      "dropout_layer_0: 0.4\n",
      "learning_rate: 0.001\n",
      "hidden_units_1: 320\n",
      "activation_layer1: tanh\n",
      "dropout_layer_1: 0.1\n",
      "hidden_units_2: 192\n",
      "activation_layer2: tanh\n",
      "dropout_layer_2: 0.4\n",
      "Score: 0.7350000143051147\n",
      "\n",
      "Trial 01 summary\n",
      "Hyperparameters:\n",
      "num_layers: 2\n",
      "hidden_units_0: 448\n",
      "activation_layer0: relu\n",
      "dropout_layer_0: 0.3\n",
      "learning_rate: 0.001\n",
      "hidden_units_1: 448\n",
      "activation_layer1: relu\n",
      "dropout_layer_1: 0.1\n",
      "Score: 0.734000027179718\n",
      "\n",
      "Trial 09 summary\n",
      "Hyperparameters:\n",
      "num_layers: 3\n",
      "hidden_units_0: 256\n",
      "activation_layer0: tanh\n",
      "dropout_layer_0: 0.1\n",
      "learning_rate: 0.001\n",
      "hidden_units_1: 192\n",
      "activation_layer1: tanh\n",
      "dropout_layer_1: 0.1\n",
      "hidden_units_2: 128\n",
      "activation_layer2: tanh\n",
      "dropout_layer_2: 0.5\n",
      "Score: 0.734000027179718\n",
      "\n",
      "Trial 13 summary\n",
      "Hyperparameters:\n",
      "num_layers: 1\n",
      "hidden_units_0: 512\n",
      "activation_layer0: relu\n",
      "dropout_layer_0: 0.5\n",
      "learning_rate: 0.001\n",
      "hidden_units_1: 256\n",
      "activation_layer1: tanh\n",
      "dropout_layer_1: 0.2\n",
      "hidden_units_2: 192\n",
      "activation_layer2: tanh\n",
      "dropout_layer_2: 0.3\n",
      "Score: 0.7329999804496765\n"
     ]
    }
   ],
   "source": [
    "# Trials summary\n",
    "tuner.results_summary()"
   ]
  },
  {
   "cell_type": "code",
   "execution_count": 52,
   "metadata": {
    "ExecuteTime": {
     "end_time": "2024-09-06T08:37:34.701780Z",
     "start_time": "2024-09-06T08:37:34.683279Z"
    },
    "colab": {
     "base_uri": "https://localhost:8080/"
    },
    "id": "JuTTPBqCS7gG",
    "outputId": "84a27dff-0fbe-494d-de62-4c8da3775122"
   },
   "outputs": [
    {
     "data": {
      "text/plain": [
       "{'num_layers': 2,\n",
       " 'hidden_units_0': 512,\n",
       " 'activation_layer0': 'relu',\n",
       " 'dropout_layer_0': 0.1,\n",
       " 'learning_rate': 0.001,\n",
       " 'hidden_units_1': 384,\n",
       " 'activation_layer1': 'tanh',\n",
       " 'dropout_layer_1': 0.5,\n",
       " 'hidden_units_2': 128,\n",
       " 'activation_layer2': 'tanh',\n",
       " 'dropout_layer_2': 0.5}"
      ]
     },
     "execution_count": 52,
     "metadata": {},
     "output_type": "execute_result"
    }
   ],
   "source": [
    "# Get best hyper-parameters setup\n",
    "tuner.get_best_hyperparameters()[0].values"
   ]
  },
  {
   "cell_type": "code",
   "execution_count": 53,
   "metadata": {
    "ExecuteTime": {
     "end_time": "2024-09-06T08:37:40.667786Z",
     "start_time": "2024-09-06T08:37:40.613956Z"
    },
    "colab": {
     "base_uri": "https://localhost:8080/"
    },
    "id": "kC09LEn4S7iv",
    "outputId": "6afac282-8824-438f-9d1b-f7b94681ba46"
   },
   "outputs": [
    {
     "name": "stderr",
     "output_type": "stream",
     "text": [
      "/Users/antonal/ta2/lib/python3.11/site-packages/keras/src/layers/core/dense.py:87: UserWarning: Do not pass an `input_shape`/`input_dim` argument to a layer. When using Sequential models, prefer using an `Input(shape)` object as the first layer in the model instead.\n",
      "  super().__init__(activity_regularizer=activity_regularizer, **kwargs)\n",
      "/Users/antonal/ta2/lib/python3.11/site-packages/keras/src/saving/saving_lib.py:713: UserWarning: Skipping variable loading for optimizer 'adam', because it has 2 variables whereas the saved optimizer has 14 variables. \n",
      "  saveable.load_own_variables(weights_store.get(inner_path))\n"
     ]
    },
    {
     "data": {
      "text/html": [
       "<pre style=\"white-space:pre;overflow-x:auto;line-height:normal;font-family:Menlo,'DejaVu Sans Mono',consolas,'Courier New',monospace\"><span style=\"font-weight: bold\">Model: \"sequential\"</span>\n",
       "</pre>\n"
      ],
      "text/plain": [
       "\u001B[1mModel: \"sequential\"\u001B[0m\n"
      ]
     },
     "metadata": {},
     "output_type": "display_data"
    },
    {
     "data": {
      "text/html": [
       "<pre style=\"white-space:pre;overflow-x:auto;line-height:normal;font-family:Menlo,'DejaVu Sans Mono',consolas,'Courier New',monospace\">┏━━━━━━━━━━━━━━━━━━━━━━━━━━━━━━━━━┳━━━━━━━━━━━━━━━━━━━━━━━━┳━━━━━━━━━━━━━━━┓\n",
       "┃<span style=\"font-weight: bold\"> Layer (type)                    </span>┃<span style=\"font-weight: bold\"> Output Shape           </span>┃<span style=\"font-weight: bold\">       Param # </span>┃\n",
       "┡━━━━━━━━━━━━━━━━━━━━━━━━━━━━━━━━━╇━━━━━━━━━━━━━━━━━━━━━━━━╇━━━━━━━━━━━━━━━┩\n",
       "│ dense (<span style=\"color: #0087ff; text-decoration-color: #0087ff\">Dense</span>)                   │ (<span style=\"color: #00d7ff; text-decoration-color: #00d7ff\">None</span>, <span style=\"color: #00af00; text-decoration-color: #00af00\">512</span>)            │     <span style=\"color: #00af00; text-decoration-color: #00af00\">2,560,512</span> │\n",
       "├─────────────────────────────────┼────────────────────────┼───────────────┤\n",
       "│ dropout (<span style=\"color: #0087ff; text-decoration-color: #0087ff\">Dropout</span>)               │ (<span style=\"color: #00d7ff; text-decoration-color: #00d7ff\">None</span>, <span style=\"color: #00af00; text-decoration-color: #00af00\">512</span>)            │             <span style=\"color: #00af00; text-decoration-color: #00af00\">0</span> │\n",
       "├─────────────────────────────────┼────────────────────────┼───────────────┤\n",
       "│ dense_1 (<span style=\"color: #0087ff; text-decoration-color: #0087ff\">Dense</span>)                 │ (<span style=\"color: #00d7ff; text-decoration-color: #00d7ff\">None</span>, <span style=\"color: #00af00; text-decoration-color: #00af00\">384</span>)            │       <span style=\"color: #00af00; text-decoration-color: #00af00\">196,992</span> │\n",
       "├─────────────────────────────────┼────────────────────────┼───────────────┤\n",
       "│ dropout_1 (<span style=\"color: #0087ff; text-decoration-color: #0087ff\">Dropout</span>)             │ (<span style=\"color: #00d7ff; text-decoration-color: #00d7ff\">None</span>, <span style=\"color: #00af00; text-decoration-color: #00af00\">384</span>)            │             <span style=\"color: #00af00; text-decoration-color: #00af00\">0</span> │\n",
       "├─────────────────────────────────┼────────────────────────┼───────────────┤\n",
       "│ dense_2 (<span style=\"color: #0087ff; text-decoration-color: #0087ff\">Dense</span>)                 │ (<span style=\"color: #00d7ff; text-decoration-color: #00d7ff\">None</span>, <span style=\"color: #00af00; text-decoration-color: #00af00\">2</span>)              │           <span style=\"color: #00af00; text-decoration-color: #00af00\">770</span> │\n",
       "└─────────────────────────────────┴────────────────────────┴───────────────┘\n",
       "</pre>\n"
      ],
      "text/plain": [
       "┏━━━━━━━━━━━━━━━━━━━━━━━━━━━━━━━━━┳━━━━━━━━━━━━━━━━━━━━━━━━┳━━━━━━━━━━━━━━━┓\n",
       "┃\u001B[1m \u001B[0m\u001B[1mLayer (type)                   \u001B[0m\u001B[1m \u001B[0m┃\u001B[1m \u001B[0m\u001B[1mOutput Shape          \u001B[0m\u001B[1m \u001B[0m┃\u001B[1m \u001B[0m\u001B[1m      Param #\u001B[0m\u001B[1m \u001B[0m┃\n",
       "┡━━━━━━━━━━━━━━━━━━━━━━━━━━━━━━━━━╇━━━━━━━━━━━━━━━━━━━━━━━━╇━━━━━━━━━━━━━━━┩\n",
       "│ dense (\u001B[38;5;33mDense\u001B[0m)                   │ (\u001B[38;5;45mNone\u001B[0m, \u001B[38;5;34m512\u001B[0m)            │     \u001B[38;5;34m2,560,512\u001B[0m │\n",
       "├─────────────────────────────────┼────────────────────────┼───────────────┤\n",
       "│ dropout (\u001B[38;5;33mDropout\u001B[0m)               │ (\u001B[38;5;45mNone\u001B[0m, \u001B[38;5;34m512\u001B[0m)            │             \u001B[38;5;34m0\u001B[0m │\n",
       "├─────────────────────────────────┼────────────────────────┼───────────────┤\n",
       "│ dense_1 (\u001B[38;5;33mDense\u001B[0m)                 │ (\u001B[38;5;45mNone\u001B[0m, \u001B[38;5;34m384\u001B[0m)            │       \u001B[38;5;34m196,992\u001B[0m │\n",
       "├─────────────────────────────────┼────────────────────────┼───────────────┤\n",
       "│ dropout_1 (\u001B[38;5;33mDropout\u001B[0m)             │ (\u001B[38;5;45mNone\u001B[0m, \u001B[38;5;34m384\u001B[0m)            │             \u001B[38;5;34m0\u001B[0m │\n",
       "├─────────────────────────────────┼────────────────────────┼───────────────┤\n",
       "│ dense_2 (\u001B[38;5;33mDense\u001B[0m)                 │ (\u001B[38;5;45mNone\u001B[0m, \u001B[38;5;34m2\u001B[0m)              │           \u001B[38;5;34m770\u001B[0m │\n",
       "└─────────────────────────────────┴────────────────────────┴───────────────┘\n"
      ]
     },
     "metadata": {},
     "output_type": "display_data"
    },
    {
     "data": {
      "text/html": [
       "<pre style=\"white-space:pre;overflow-x:auto;line-height:normal;font-family:Menlo,'DejaVu Sans Mono',consolas,'Courier New',monospace\"><span style=\"font-weight: bold\"> Total params: </span><span style=\"color: #00af00; text-decoration-color: #00af00\">2,758,274</span> (10.52 MB)\n",
       "</pre>\n"
      ],
      "text/plain": [
       "\u001B[1m Total params: \u001B[0m\u001B[38;5;34m2,758,274\u001B[0m (10.52 MB)\n"
      ]
     },
     "metadata": {},
     "output_type": "display_data"
    },
    {
     "data": {
      "text/html": [
       "<pre style=\"white-space:pre;overflow-x:auto;line-height:normal;font-family:Menlo,'DejaVu Sans Mono',consolas,'Courier New',monospace\"><span style=\"font-weight: bold\"> Trainable params: </span><span style=\"color: #00af00; text-decoration-color: #00af00\">2,758,274</span> (10.52 MB)\n",
       "</pre>\n"
      ],
      "text/plain": [
       "\u001B[1m Trainable params: \u001B[0m\u001B[38;5;34m2,758,274\u001B[0m (10.52 MB)\n"
      ]
     },
     "metadata": {},
     "output_type": "display_data"
    },
    {
     "data": {
      "text/html": [
       "<pre style=\"white-space:pre;overflow-x:auto;line-height:normal;font-family:Menlo,'DejaVu Sans Mono',consolas,'Courier New',monospace\"><span style=\"font-weight: bold\"> Non-trainable params: </span><span style=\"color: #00af00; text-decoration-color: #00af00\">0</span> (0.00 B)\n",
       "</pre>\n"
      ],
      "text/plain": [
       "\u001B[1m Non-trainable params: \u001B[0m\u001B[38;5;34m0\u001B[0m (0.00 B)\n"
      ]
     },
     "metadata": {},
     "output_type": "display_data"
    }
   ],
   "source": [
    "# Retrieve the best model after hyperparameter tuning\n",
    "best_model = tuner.get_best_models(num_models=1)[0]\n",
    "# Print a summary of the best model's architecture and layers\n",
    "best_model.summary()"
   ]
  },
  {
   "cell_type": "code",
   "execution_count": 54,
   "metadata": {
    "ExecuteTime": {
     "end_time": "2024-09-06T08:37:58.649732Z",
     "start_time": "2024-09-06T08:37:46.301446Z"
    },
    "colab": {
     "base_uri": "https://localhost:8080/"
    },
    "id": "yJE-fi8y8WqH",
    "outputId": "2230bbf4-6e2d-4021-8b2a-ff905c0d2b09"
   },
   "outputs": [
    {
     "name": "stdout",
     "output_type": "stream",
     "text": [
      "Epoch 1/100\n",
      "\u001B[1m32/32\u001B[0m \u001B[32m━━━━━━━━━━━━━━━━━━━━\u001B[0m\u001B[37m\u001B[0m \u001B[1m0s\u001B[0m 2ms/step\n",
      " — val_f1: 0.733984 — val_precision: 0.735291 — val_recall: 0.734000\n",
      "\n",
      "Epoch 1: val_f1 did not improve from 0.74947\n",
      "\u001B[1m28/28\u001B[0m \u001B[32m━━━━━━━━━━━━━━━━━━━━\u001B[0m\u001B[37m\u001B[0m \u001B[1m1s\u001B[0m 25ms/step - categorical_accuracy: 0.6028 - loss: 0.6694 - val_categorical_accuracy: 0.7340 - val_loss: 0.5334 - val_f1: 0.7340 - val_recall: 0.7340 - val_precision: 0.7353\n",
      "Epoch 2/100\n",
      "\u001B[1m32/32\u001B[0m \u001B[32m━━━━━━━━━━━━━━━━━━━━\u001B[0m\u001B[37m\u001B[0m \u001B[1m0s\u001B[0m 1ms/stepp - categ\n",
      " — val_f1: 0.747791 — val_precision: 0.748068 — val_recall: 0.748000\n",
      "\n",
      "Epoch 2: val_f1 did not improve from 0.74947\n",
      "\u001B[1m28/28\u001B[0m \u001B[32m━━━━━━━━━━━━━━━━━━━━\u001B[0m\u001B[37m\u001B[0m \u001B[1m1s\u001B[0m 19ms/step - categorical_accuracy: 0.8395 - loss: 0.3935 - val_categorical_accuracy: 0.7480 - val_loss: 0.5538 - val_f1: 0.7478 - val_recall: 0.7480 - val_precision: 0.7481\n",
      "Epoch 3/100\n",
      "\u001B[1m32/32\u001B[0m \u001B[32m━━━━━━━━━━━━━━━━━━━━\u001B[0m\u001B[37m\u001B[0m \u001B[1m0s\u001B[0m 1ms/stepp - categ\n",
      " — val_f1: 0.728825 — val_precision: 0.728978 — val_recall: 0.729000\n",
      "\n",
      "Epoch 3: val_f1 did not improve from 0.74947\n",
      "\u001B[1m28/28\u001B[0m \u001B[32m━━━━━━━━━━━━━━━━━━━━\u001B[0m\u001B[37m\u001B[0m \u001B[1m1s\u001B[0m 19ms/step - categorical_accuracy: 0.9215 - loss: 0.2144 - val_categorical_accuracy: 0.7290 - val_loss: 0.6603 - val_f1: 0.7288 - val_recall: 0.7290 - val_precision: 0.7290\n",
      "Epoch 4/100\n",
      "\u001B[1m32/32\u001B[0m \u001B[32m━━━━━━━━━━━━━━━━━━━━\u001B[0m\u001B[37m\u001B[0m \u001B[1m0s\u001B[0m 2ms/stepp - categ\n",
      " — val_f1: 0.741048 — val_precision: 0.741525 — val_recall: 0.741000\n",
      "\n",
      "Epoch 4: val_f1 did not improve from 0.74947\n",
      "\u001B[1m28/28\u001B[0m \u001B[32m━━━━━━━━━━━━━━━━━━━━\u001B[0m\u001B[37m\u001B[0m \u001B[1m1s\u001B[0m 20ms/step - categorical_accuracy: 0.9690 - loss: 0.0992 - val_categorical_accuracy: 0.7410 - val_loss: 0.8175 - val_f1: 0.7410 - val_recall: 0.7410 - val_precision: 0.7415\n",
      "Epoch 5/100\n",
      "\u001B[1m32/32\u001B[0m \u001B[32m━━━━━━━━━━━━━━━━━━━━\u001B[0m\u001B[37m\u001B[0m \u001B[1m0s\u001B[0m 1ms/stepp - categ\n",
      " — val_f1: 0.731007 — val_precision: 0.731016 — val_recall: 0.731000\n",
      "\n",
      "Epoch 5: val_f1 did not improve from 0.74947\n",
      "\u001B[1m28/28\u001B[0m \u001B[32m━━━━━━━━━━━━━━━━━━━━\u001B[0m\u001B[37m\u001B[0m \u001B[1m1s\u001B[0m 20ms/step - categorical_accuracy: 0.9851 - loss: 0.0460 - val_categorical_accuracy: 0.7310 - val_loss: 0.9461 - val_f1: 0.7310 - val_recall: 0.7310 - val_precision: 0.7310\n",
      "Epoch 6/100\n",
      "\u001B[1m32/32\u001B[0m \u001B[32m━━━━━━━━━━━━━━━━━━━━\u001B[0m\u001B[37m\u001B[0m \u001B[1m0s\u001B[0m 1ms/stepp - categ\n",
      " — val_f1: 0.736035 — val_precision: 0.736782 — val_recall: 0.736000\n",
      "\n",
      "Epoch 6: val_f1 did not improve from 0.74947\n",
      "\u001B[1m28/28\u001B[0m \u001B[32m━━━━━━━━━━━━━━━━━━━━\u001B[0m\u001B[37m\u001B[0m \u001B[1m1s\u001B[0m 19ms/step - categorical_accuracy: 0.9868 - loss: 0.0342 - val_categorical_accuracy: 0.7360 - val_loss: 1.0552 - val_f1: 0.7360 - val_recall: 0.7360 - val_precision: 0.7368\n",
      "Epoch 7/100\n",
      "\u001B[1m32/32\u001B[0m \u001B[32m━━━━━━━━━━━━━━━━━━━━\u001B[0m\u001B[37m\u001B[0m \u001B[1m0s\u001B[0m 2ms/stepp - categ\n",
      " — val_f1: 0.731778 — val_precision: 0.732031 — val_recall: 0.732000\n",
      "\n",
      "Epoch 7: val_f1 did not improve from 0.74947\n",
      "\u001B[1m28/28\u001B[0m \u001B[32m━━━━━━━━━━━━━━━━━━━━\u001B[0m\u001B[37m\u001B[0m \u001B[1m1s\u001B[0m 19ms/step - categorical_accuracy: 0.9891 - loss: 0.0284 - val_categorical_accuracy: 0.7320 - val_loss: 1.1026 - val_f1: 0.7318 - val_recall: 0.7320 - val_precision: 0.7320\n",
      "Epoch 8/100\n",
      "\u001B[1m32/32\u001B[0m \u001B[32m━━━━━━━━━━━━━━━━━━━━\u001B[0m\u001B[37m\u001B[0m \u001B[1m0s\u001B[0m 2ms/stepp - categ\n",
      " — val_f1: 0.736035 — val_precision: 0.736123 — val_recall: 0.736000\n",
      "\n",
      "Epoch 8: val_f1 did not improve from 0.74947\n",
      "\u001B[1m28/28\u001B[0m \u001B[32m━━━━━━━━━━━━━━━━━━━━\u001B[0m\u001B[37m\u001B[0m \u001B[1m1s\u001B[0m 20ms/step - categorical_accuracy: 0.9863 - loss: 0.0298 - val_categorical_accuracy: 0.7360 - val_loss: 1.1411 - val_f1: 0.7360 - val_recall: 0.7360 - val_precision: 0.7361\n",
      "Epoch 9/100\n",
      "\u001B[1m32/32\u001B[0m \u001B[32m━━━━━━━━━━━━━━━━━━━━\u001B[0m\u001B[37m\u001B[0m \u001B[1m0s\u001B[0m 2ms/step\n",
      " — val_f1: 0.733052 — val_precision: 0.733352 — val_recall: 0.733000\n",
      "\n",
      "Epoch 9: val_f1 did not improve from 0.74947\n",
      "\u001B[1m28/28\u001B[0m \u001B[32m━━━━━━━━━━━━━━━━━━━━\u001B[0m\u001B[37m\u001B[0m \u001B[1m1s\u001B[0m 19ms/step - categorical_accuracy: 0.9898 - loss: 0.0268 - val_categorical_accuracy: 0.7330 - val_loss: 1.1822 - val_f1: 0.7331 - val_recall: 0.7330 - val_precision: 0.7334\n",
      "Epoch 10/100\n",
      "\u001B[1m32/32\u001B[0m \u001B[32m━━━━━━━━━━━━━━━━━━━━\u001B[0m\u001B[37m\u001B[0m \u001B[1m0s\u001B[0m 3ms/step\n",
      " — val_f1: 0.737632 — val_precision: 0.741591 — val_recall: 0.738000\n",
      "\n",
      "Epoch 10: val_f1 did not improve from 0.74947\n",
      "\u001B[1m28/28\u001B[0m \u001B[32m━━━━━━━━━━━━━━━━━━━━\u001B[0m\u001B[37m\u001B[0m \u001B[1m1s\u001B[0m 21ms/step - categorical_accuracy: 0.9905 - loss: 0.0226 - val_categorical_accuracy: 0.7380 - val_loss: 1.2231 - val_f1: 0.7376 - val_recall: 0.7380 - val_precision: 0.7416\n",
      "Epoch 11/100\n",
      "\u001B[1m32/32\u001B[0m \u001B[32m━━━━━━━━━━━━━━━━━━━━\u001B[0m\u001B[37m\u001B[0m \u001B[1m0s\u001B[0m 2ms/step\n",
      " — val_f1: 0.741926 — val_precision: 0.743778 — val_recall: 0.742000\n",
      "\n",
      "Epoch 11: val_f1 did not improve from 0.74947\n",
      "\u001B[1m28/28\u001B[0m \u001B[32m━━━━━━━━━━━━━━━━━━━━\u001B[0m\u001B[37m\u001B[0m \u001B[1m1s\u001B[0m 20ms/step - categorical_accuracy: 0.9890 - loss: 0.0262 - val_categorical_accuracy: 0.7420 - val_loss: 1.2214 - val_f1: 0.7419 - val_recall: 0.7420 - val_precision: 0.7438\n",
      "Epoch 12/100\n",
      "\u001B[1m32/32\u001B[0m \u001B[32m━━━━━━━━━━━━━━━━━━━━\u001B[0m\u001B[37m\u001B[0m \u001B[1m0s\u001B[0m 2ms/stepp - categ\n",
      " — val_f1: 0.732935 — val_precision: 0.732941 — val_recall: 0.733000\n",
      "\n",
      "Epoch 12: val_f1 did not improve from 0.74947\n",
      "\u001B[1m28/28\u001B[0m \u001B[32m━━━━━━━━━━━━━━━━━━━━\u001B[0m\u001B[37m\u001B[0m \u001B[1m1s\u001B[0m 19ms/step - categorical_accuracy: 0.9893 - loss: 0.0243 - val_categorical_accuracy: 0.7330 - val_loss: 1.2018 - val_f1: 0.7329 - val_recall: 0.7330 - val_precision: 0.7329\n",
      "Epoch 13/100\n",
      "\u001B[1m32/32\u001B[0m \u001B[32m━━━━━━━━━━━━━━━━━━━━\u001B[0m\u001B[37m\u001B[0m \u001B[1m0s\u001B[0m 2ms/stepp - categ\n",
      " — val_f1: 0.730910 — val_precision: 0.730939 — val_recall: 0.731000\n",
      "\n",
      "Epoch 13: val_f1 did not improve from 0.74947\n",
      "\u001B[1m28/28\u001B[0m \u001B[32m━━━━━━━━━━━━━━━━━━━━\u001B[0m\u001B[37m\u001B[0m \u001B[1m1s\u001B[0m 20ms/step - categorical_accuracy: 0.9920 - loss: 0.0205 - val_categorical_accuracy: 0.7310 - val_loss: 1.1839 - val_f1: 0.7309 - val_recall: 0.7310 - val_precision: 0.7309\n",
      "Epoch 14/100\n",
      "\u001B[1m32/32\u001B[0m \u001B[32m━━━━━━━━━━━━━━━━━━━━\u001B[0m\u001B[37m\u001B[0m \u001B[1m0s\u001B[0m 2ms/stepp - categ\n",
      " — val_f1: 0.727572 — val_precision: 0.728291 — val_recall: 0.728000\n",
      "\n",
      "Epoch 14: val_f1 did not improve from 0.74947\n",
      "\u001B[1m28/28\u001B[0m \u001B[32m━━━━━━━━━━━━━━━━━━━━\u001B[0m\u001B[37m\u001B[0m \u001B[1m1s\u001B[0m 19ms/step - categorical_accuracy: 0.9876 - loss: 0.0231 - val_categorical_accuracy: 0.7280 - val_loss: 1.2023 - val_f1: 0.7276 - val_recall: 0.7280 - val_precision: 0.7283\n",
      "Epoch 15/100\n",
      "\u001B[1m32/32\u001B[0m \u001B[32m━━━━━━━━━━━━━━━━━━━━\u001B[0m\u001B[37m\u001B[0m \u001B[1m0s\u001B[0m 2ms/stepp - categ\n",
      " — val_f1: 0.736048 — val_precision: 0.736242 — val_recall: 0.736000\n",
      "\n",
      "Epoch 15: val_f1 did not improve from 0.74947\n",
      "\u001B[1m28/28\u001B[0m \u001B[32m━━━━━━━━━━━━━━━━━━━━\u001B[0m\u001B[37m\u001B[0m \u001B[1m1s\u001B[0m 19ms/step - categorical_accuracy: 0.9915 - loss: 0.0201 - val_categorical_accuracy: 0.7360 - val_loss: 1.2132 - val_f1: 0.7360 - val_recall: 0.7360 - val_precision: 0.7362\n",
      "Epoch 16/100\n",
      "\u001B[1m32/32\u001B[0m \u001B[32m━━━━━━━━━━━━━━━━━━━━\u001B[0m\u001B[37m\u001B[0m \u001B[1m0s\u001B[0m 2ms/stepp - categ\n",
      " — val_f1: 0.739030 — val_precision: 0.739097 — val_recall: 0.739000\n",
      "\n",
      "Epoch 16: val_f1 did not improve from 0.74947\n",
      "\u001B[1m28/28\u001B[0m \u001B[32m━━━━━━━━━━━━━━━━━━━━\u001B[0m\u001B[37m\u001B[0m \u001B[1m1s\u001B[0m 19ms/step - categorical_accuracy: 0.9907 - loss: 0.0224 - val_categorical_accuracy: 0.7390 - val_loss: 1.2194 - val_f1: 0.7390 - val_recall: 0.7390 - val_precision: 0.7391\n",
      "Epoch 17/100\n",
      "\u001B[1m32/32\u001B[0m \u001B[32m━━━━━━━━━━━━━━━━━━━━\u001B[0m\u001B[37m\u001B[0m \u001B[1m0s\u001B[0m 2ms/stepp - categ\n",
      " — val_f1: 0.737984 — val_precision: 0.737974 — val_recall: 0.738000\n",
      "\n",
      "Epoch 17: val_f1 did not improve from 0.74947\n",
      "\u001B[1m28/28\u001B[0m \u001B[32m━━━━━━━━━━━━━━━━━━━━\u001B[0m\u001B[37m\u001B[0m \u001B[1m1s\u001B[0m 20ms/step - categorical_accuracy: 0.9902 - loss: 0.0227 - val_categorical_accuracy: 0.7380 - val_loss: 1.2380 - val_f1: 0.7380 - val_recall: 0.7380 - val_precision: 0.7380\n",
      "Epoch 18/100\n",
      "\u001B[1m32/32\u001B[0m \u001B[32m━━━━━━━━━━━━━━━━━━━━\u001B[0m\u001B[37m\u001B[0m \u001B[1m0s\u001B[0m 2ms/stepp - categ\n",
      " — val_f1: 0.733946 — val_precision: 0.733944 — val_recall: 0.734000\n",
      "\n",
      "Epoch 18: val_f1 did not improve from 0.74947\n",
      "\u001B[1m28/28\u001B[0m \u001B[32m━━━━━━━━━━━━━━━━━━━━\u001B[0m\u001B[37m\u001B[0m \u001B[1m1s\u001B[0m 19ms/step - categorical_accuracy: 0.9891 - loss: 0.0211 - val_categorical_accuracy: 0.7340 - val_loss: 1.2619 - val_f1: 0.7339 - val_recall: 0.7340 - val_precision: 0.7339\n",
      "Epoch 19/100\n",
      "\u001B[1m32/32\u001B[0m \u001B[32m━━━━━━━━━━━━━━━━━━━━\u001B[0m\u001B[37m\u001B[0m \u001B[1m0s\u001B[0m 2ms/stepp - categ\n",
      " — val_f1: 0.738050 — val_precision: 0.738478 — val_recall: 0.738000\n",
      "\n",
      "Epoch 19: val_f1 did not improve from 0.74947\n",
      "\u001B[1m28/28\u001B[0m \u001B[32m━━━━━━━━━━━━━━━━━━━━\u001B[0m\u001B[37m\u001B[0m \u001B[1m1s\u001B[0m 19ms/step - categorical_accuracy: 0.9914 - loss: 0.0195 - val_categorical_accuracy: 0.7380 - val_loss: 1.2645 - val_f1: 0.7381 - val_recall: 0.7380 - val_precision: 0.7385\n",
      "Epoch 20/100\n",
      "\u001B[1m32/32\u001B[0m \u001B[32m━━━━━━━━━━━━━━━━━━━━\u001B[0m\u001B[37m\u001B[0m \u001B[1m0s\u001B[0m 2ms/stepp - categ\n",
      " — val_f1: 0.739030 — val_precision: 0.739097 — val_recall: 0.739000\n",
      "\n",
      "Epoch 20: val_f1 did not improve from 0.74947\n",
      "\u001B[1m28/28\u001B[0m \u001B[32m━━━━━━━━━━━━━━━━━━━━\u001B[0m\u001B[37m\u001B[0m \u001B[1m1s\u001B[0m 19ms/step - categorical_accuracy: 0.9865 - loss: 0.0254 - val_categorical_accuracy: 0.7390 - val_loss: 1.2503 - val_f1: 0.7390 - val_recall: 0.7390 - val_precision: 0.7391\n",
      "Epoch 21/100\n",
      "\u001B[1m32/32\u001B[0m \u001B[32m━━━━━━━━━━━━━━━━━━━━\u001B[0m\u001B[37m\u001B[0m \u001B[1m0s\u001B[0m 2ms/step\n",
      " — val_f1: 0.730975 — val_precision: 0.730963 — val_recall: 0.731000\n",
      "\n",
      "Epoch 21: val_f1 did not improve from 0.74947\n",
      "\u001B[1m28/28\u001B[0m \u001B[32m━━━━━━━━━━━━━━━━━━━━\u001B[0m\u001B[37m\u001B[0m \u001B[1m1s\u001B[0m 21ms/step - categorical_accuracy: 0.9902 - loss: 0.0204 - val_categorical_accuracy: 0.7310 - val_loss: 1.2535 - val_f1: 0.7310 - val_recall: 0.7310 - val_precision: 0.7310\n"
     ]
    }
   ],
   "source": [
    "# Fine-tune the best model on the training data\n",
    "history_val = best_model.fit(\n",
    "    x_train_tfidf_new,           # Training features\n",
    "    y_train_1_hot,               # Training labels (one-hot encoded)\n",
    "    validation_data=(x_val_tfidf_new, y_val_1_hot),  # Validation data\n",
    "    batch_size=256,              # Batch size for fine-tuning\n",
    "    epochs=100,                  # Maximum number of epochs for fine-tuning\n",
    "    shuffle=True,                # Shuffle training data before each epoch\n",
    "    callbacks=[\n",
    "        Metrics(valid_data=(x_val_tfidf_new, y_val_1_hot)),  # Custom metric callback for monitoring F1-score\n",
    "        checkpoint,                                         # Save the best model during training\n",
    "        early_stopping,                                     # Early stopping to prevent overfitting\n",
    "    ],\n",
    ")"
   ]
  },
  {
   "cell_type": "code",
   "execution_count": 55,
   "metadata": {
    "ExecuteTime": {
     "end_time": "2024-09-06T08:38:11.174689Z",
     "start_time": "2024-09-06T08:38:11.014068Z"
    },
    "colab": {
     "base_uri": "https://localhost:8080/",
     "height": 927
    },
    "id": "-STFc-UKBQJ4",
    "outputId": "29ea56a6-d8e3-437d-835e-81418d916d2f"
   },
   "outputs": [
    {
     "data": {
      "image/png": "[encoded data removed]",
      "text/plain": [
       "<Figure size 640x480 with 1 Axes>"
      ]
     },
     "metadata": {},
     "output_type": "display_data"
    }
   ],
   "source": [
    "# summarize history for accuracy\n",
    "plt.plot(history_val.history[\"categorical_accuracy\"])\n",
    "plt.plot(history_val.history[\"val_categorical_accuracy\"])\n",
    "plt.title(\"model accuracy\")\n",
    "plt.ylabel(\"accuracy\")\n",
    "plt.xlabel(\"epoch\")\n",
    "plt.legend([\"train\", \"dev\"], loc=\"upper left\")\n",
    "plt.show()"
   ]
  },
  {
   "cell_type": "code",
   "execution_count": 56,
   "metadata": {
    "ExecuteTime": {
     "end_time": "2024-09-06T08:38:12.950612Z",
     "start_time": "2024-09-06T08:38:12.899916Z"
    },
    "collapsed": false
   },
   "outputs": [
    {
     "data": {
      "image/png": "[encoded data removed]",
      "text/plain": [
       "<Figure size 640x480 with 1 Axes>"
      ]
     },
     "metadata": {},
     "output_type": "display_data"
    }
   ],
   "source": [
    "# summarize history for loss\n",
    "plt.plot(history_val.history[\"loss\"])\n",
    "plt.plot(history_val.history[\"val_loss\"])\n",
    "plt.title(\"model loss\")\n",
    "plt.ylabel(\"loss\")\n",
    "plt.xlabel(\"epoch\")\n",
    "plt.legend([\"train\", \"dev\"], loc=\"upper right\")\n",
    "plt.show()"
   ]
  },
  {
   "cell_type": "markdown",
   "metadata": {
    "id": "NGP5Z-M5Yece"
   },
   "source": [
    "# Evaluate performance of the best-tuned model"
   ]
  },
  {
   "cell_type": "code",
   "execution_count": 57,
   "metadata": {
    "ExecuteTime": {
     "end_time": "2024-09-06T08:38:20.487042Z",
     "start_time": "2024-09-06T08:38:19.689900Z"
    },
    "collapsed": false
   },
   "outputs": [
    {
     "name": "stdout",
     "output_type": "stream",
     "text": [
      "\u001B[1m219/219\u001B[0m \u001B[32m━━━━━━━━━━━━━━━━━━━━\u001B[0m\u001B[37m\u001B[0m \u001B[1m0s\u001B[0m 1ms/step\n",
      "\u001B[1m32/32\u001B[0m \u001B[32m━━━━━━━━━━━━━━━━━━━━\u001B[0m\u001B[37m\u001B[0m \u001B[1m0s\u001B[0m 1ms/step\n",
      "\u001B[1m63/63\u001B[0m \u001B[32m━━━━━━━━━━━━━━━━━━━━\u001B[0m\u001B[37m\u001B[0m \u001B[1m0s\u001B[0m 1ms/step\n"
     ]
    }
   ],
   "source": [
    "# Predict class labels for the training data using the best model\n",
    "predictions_train_tf_idf = np.argmax(best_model.predict(x_train_tfidf_new), -1)\n",
    "\n",
    "# Predict class labels for the validation data\n",
    "predictions_val_tf_idf = np.argmax(best_model.predict(x_val_tfidf_new), -1)\n",
    "\n",
    "# Predict class labels for the test data\n",
    "predictions_test_tf_idf = np.argmax(best_model.predict(x_test_tfidf_new), -1)"
   ]
  },
  {
   "cell_type": "code",
   "execution_count": 58,
   "metadata": {
    "ExecuteTime": {
     "end_time": "2024-09-06T08:38:22.906860Z",
     "start_time": "2024-09-06T08:38:22.891759Z"
    },
    "collapsed": false
   },
   "outputs": [
    {
     "name": "stdout",
     "output_type": "stream",
     "text": [
      "Classification Report for TRAIN data set:\n",
      "              precision    recall  f1-score   support\n",
      "\n",
      "           0       0.99      0.99      0.99      3479\n",
      "           1       0.99      0.99      0.99      3521\n",
      "\n",
      "    accuracy                           0.99      7000\n",
      "   macro avg       0.99      0.99      0.99      7000\n",
      "weighted avg       0.99      0.99      0.99      7000\n",
      "\n"
     ]
    }
   ],
   "source": [
    "print(\"Classification Report for TRAIN data set:\")\n",
    "print(classification_report(y_train_new, predictions_train_tf_idf))"
   ]
  },
  {
   "cell_type": "code",
   "execution_count": 59,
   "metadata": {
    "ExecuteTime": {
     "end_time": "2024-09-06T08:38:24.112142Z",
     "start_time": "2024-09-06T08:38:24.101380Z"
    },
    "collapsed": false
   },
   "outputs": [
    {
     "name": "stdout",
     "output_type": "stream",
     "text": [
      "Classification Report for Validation data set:\n",
      "              precision    recall  f1-score   support\n",
      "\n",
      "           0       0.74      0.74      0.74       514\n",
      "           1       0.72      0.72      0.72       486\n",
      "\n",
      "    accuracy                           0.73      1000\n",
      "   macro avg       0.73      0.73      0.73      1000\n",
      "weighted avg       0.73      0.73      0.73      1000\n",
      "\n"
     ]
    }
   ],
   "source": [
    "print(\"Classification Report for Validation data set:\")\n",
    "print(classification_report(y_val, predictions_val_tf_idf))"
   ]
  },
  {
   "cell_type": "code",
   "execution_count": 60,
   "metadata": {
    "ExecuteTime": {
     "end_time": "2024-09-06T08:38:25.215461Z",
     "start_time": "2024-09-06T08:38:25.196028Z"
    },
    "colab": {
     "base_uri": "https://localhost:8080/"
    },
    "id": "ZSHCHV5DYP3X",
    "outputId": "470a3dc0-4714-4f67-ebde-78a9b3d5e17f"
   },
   "outputs": [
    {
     "name": "stdout",
     "output_type": "stream",
     "text": [
      "Classification Report for TEST data set:\n",
      "              precision    recall  f1-score   support\n",
      "\n",
      "           0       0.72      0.73      0.72      1007\n",
      "           1       0.72      0.72      0.72       993\n",
      "\n",
      "    accuracy                           0.72      2000\n",
      "   macro avg       0.72      0.72      0.72      2000\n",
      "weighted avg       0.72      0.72      0.72      2000\n",
      "\n"
     ]
    }
   ],
   "source": [
    "print(\"Classification Report for TEST data set:\")\n",
    "print(classification_report(y_test, predictions_test_tf_idf))"
   ]
  },
  {
   "cell_type": "markdown",
   "metadata": {
    "id": "giBT8o_el1k5"
   },
   "source": [
    "# MLP with Centroids-Word Embedings"
   ]
  },
  {
   "cell_type": "markdown",
   "metadata": {
    "id": "I8q_AtEgmAS5"
   },
   "source": []
  },
  {
   "cell_type": "code",
   "execution_count": 61,
   "metadata": {
    "ExecuteTime": {
     "end_time": "2024-09-06T08:39:05.981675Z",
     "start_time": "2024-09-06T08:38:34.727198Z"
    },
    "colab": {
     "base_uri": "https://localhost:8080/"
    },
    "id": "2DuG0havoMS6",
    "outputId": "6a6d525a-40e9-4048-ac0c-a867b480b6f3"
   },
   "outputs": [],
   "source": [
    "# Download and load Google news embeddings\n",
    "wv = api.load(\"glove-twitter-100\")"
   ]
  },
  {
   "cell_type": "markdown",
   "metadata": {
    "id": "BDJE0O3caG4c"
   },
   "source": [
    "## Calculate centroids"
   ]
  },
  {
   "cell_type": "code",
   "execution_count": 62,
   "metadata": {
    "ExecuteTime": {
     "end_time": "2024-09-06T08:51:49.122474Z",
     "start_time": "2024-09-06T08:51:49.076559Z"
    },
    "id": "LTr5Gs8Al5AT"
   },
   "outputs": [],
   "source": [
    "# Define a function to calculate the centroid of a text document\n",
    "def text_centroid(text, model):\n",
    "    text = text.split()  # Split the text into individual words\n",
    "    text_vec = []        # Initialize an empty list to store word vectors\n",
    "    counter = 0          # Counter to keep track of valid words (non-stopwords)\n",
    "\n",
    "    # Iterate through each word in the text\n",
    "    for word in text:\n",
    "        if word in STOP_WORDS:  # Skip stopwords (commonly used words that do not provide useful information)\n",
    "            continue\n",
    "        try:\n",
    "            if counter == 0:\n",
    "                # Get the word vector for the first valid word (in lowercase)\n",
    "                text_vec = model[word.lower()]\n",
    "            else:\n",
    "                # Add the word vector for the current word to the running sum\n",
    "                text_vec = np.add(text_vec, model[word.lower()])\n",
    "            counter += 1  # Increment the valid word counter\n",
    "        except:  # Skip words that are not in the model's vocabulary\n",
    "            pass\n",
    "\n",
    "    # If no valid words were found, return a zero vector\n",
    "    if counter == 0:\n",
    "        return np.zeros(model.vector_size)\n",
    "\n",
    "    # Return the average of the word vectors (centroid) by dividing the sum by the counter\n",
    "    return np.asarray(text_vec) / counter"
   ]
  },
  {
   "cell_type": "code",
   "execution_count": 63,
   "metadata": {
    "ExecuteTime": {
     "end_time": "2024-09-06T08:51:54.968140Z",
     "start_time": "2024-09-06T08:51:54.868108Z"
    },
    "id": "Kds4AWAGqKtc"
   },
   "outputs": [],
   "source": [
    "# Calculate centroids for the training documents\n",
    "X_train_centroids = []\n",
    "for sentence in X_train_new:\n",
    "    X_train_centroids.append(text_centroid(sentence, wv))  # Calculate the centroid for each sentence\n",
    "X_train_centroids = np.stack(X_train_centroids, axis=0)    # Convert the list of centroids to a NumPy array\n",
    "\n",
    "# Calculate centroids for the validation documents\n",
    "X_val_centroids = []\n",
    "for sentence in X_val:\n",
    "    X_val_centroids.append(text_centroid(sentence, wv))     # Calculate centroids for validation data\n",
    "X_val_centroids = np.stack(X_val_centroids, axis=0)         # Convert to a NumPy array\n",
    "\n",
    "# Calculate centroids for the test documents\n",
    "X_test_centroids = []\n",
    "for sentence in x_test:\n",
    "    X_test_centroids.append(text_centroid(sentence, wv))    # Calculate centroids for test data\n",
    "X_test_centroids = np.stack(X_test_centroids, axis=0)       # Convert to a NumPy array"
   ]
  },
  {
   "cell_type": "markdown",
   "metadata": {
    "id": "tfxpmrIoaC-f"
   },
   "source": [
    "# MLP text classifier in Keras with centroid embeddings"
   ]
  },
  {
   "cell_type": "code",
   "execution_count": 64,
   "metadata": {
    "ExecuteTime": {
     "end_time": "2024-09-06T08:52:13.627046Z",
     "start_time": "2024-09-06T08:52:00.046746Z"
    },
    "colab": {
     "base_uri": "https://localhost:8080/"
    },
    "id": "voqKW_NnZhoC",
    "outputId": "4788ec83-c9ab-411b-80dd-ec9e1a58fa34"
   },
   "outputs": [
    {
     "name": "stderr",
     "output_type": "stream",
     "text": [
      "/Users/antonal/ta2/lib/python3.11/site-packages/keras/src/layers/core/dense.py:87: UserWarning: Do not pass an `input_shape`/`input_dim` argument to a layer. When using Sequential models, prefer using an `Input(shape)` object as the first layer in the model instead.\n",
      "  super().__init__(activity_regularizer=activity_regularizer, **kwargs)\n"
     ]
    },
    {
     "data": {
      "text/html": [
       "<pre style=\"white-space:pre;overflow-x:auto;line-height:normal;font-family:Menlo,'DejaVu Sans Mono',consolas,'Courier New',monospace\"><span style=\"font-weight: bold\">Model: \"sequential_1\"</span>\n",
       "</pre>\n"
      ],
      "text/plain": [
       "\u001B[1mModel: \"sequential_1\"\u001B[0m\n"
      ]
     },
     "metadata": {},
     "output_type": "display_data"
    },
    {
     "data": {
      "text/html": [
       "<pre style=\"white-space:pre;overflow-x:auto;line-height:normal;font-family:Menlo,'DejaVu Sans Mono',consolas,'Courier New',monospace\">┏━━━━━━━━━━━━━━━━━━━━━━━━━━━━━━━━━┳━━━━━━━━━━━━━━━━━━━━━━━━┳━━━━━━━━━━━━━━━┓\n",
       "┃<span style=\"font-weight: bold\"> Layer (type)                    </span>┃<span style=\"font-weight: bold\"> Output Shape           </span>┃<span style=\"font-weight: bold\">       Param # </span>┃\n",
       "┡━━━━━━━━━━━━━━━━━━━━━━━━━━━━━━━━━╇━━━━━━━━━━━━━━━━━━━━━━━━╇━━━━━━━━━━━━━━━┩\n",
       "│ dense_3 (<span style=\"color: #0087ff; text-decoration-color: #0087ff\">Dense</span>)                 │ (<span style=\"color: #00d7ff; text-decoration-color: #00d7ff\">None</span>, <span style=\"color: #00af00; text-decoration-color: #00af00\">1024</span>)           │       <span style=\"color: #00af00; text-decoration-color: #00af00\">103,424</span> │\n",
       "├─────────────────────────────────┼────────────────────────┼───────────────┤\n",
       "│ dropout_2 (<span style=\"color: #0087ff; text-decoration-color: #0087ff\">Dropout</span>)             │ (<span style=\"color: #00d7ff; text-decoration-color: #00d7ff\">None</span>, <span style=\"color: #00af00; text-decoration-color: #00af00\">1024</span>)           │             <span style=\"color: #00af00; text-decoration-color: #00af00\">0</span> │\n",
       "├─────────────────────────────────┼────────────────────────┼───────────────┤\n",
       "│ dense_4 (<span style=\"color: #0087ff; text-decoration-color: #0087ff\">Dense</span>)                 │ (<span style=\"color: #00d7ff; text-decoration-color: #00d7ff\">None</span>, <span style=\"color: #00af00; text-decoration-color: #00af00\">1024</span>)           │     <span style=\"color: #00af00; text-decoration-color: #00af00\">1,049,600</span> │\n",
       "├─────────────────────────────────┼────────────────────────┼───────────────┤\n",
       "│ dropout_3 (<span style=\"color: #0087ff; text-decoration-color: #0087ff\">Dropout</span>)             │ (<span style=\"color: #00d7ff; text-decoration-color: #00d7ff\">None</span>, <span style=\"color: #00af00; text-decoration-color: #00af00\">1024</span>)           │             <span style=\"color: #00af00; text-decoration-color: #00af00\">0</span> │\n",
       "├─────────────────────────────────┼────────────────────────┼───────────────┤\n",
       "│ dense_5 (<span style=\"color: #0087ff; text-decoration-color: #0087ff\">Dense</span>)                 │ (<span style=\"color: #00d7ff; text-decoration-color: #00d7ff\">None</span>, <span style=\"color: #00af00; text-decoration-color: #00af00\">512</span>)            │       <span style=\"color: #00af00; text-decoration-color: #00af00\">524,800</span> │\n",
       "├─────────────────────────────────┼────────────────────────┼───────────────┤\n",
       "│ dropout_4 (<span style=\"color: #0087ff; text-decoration-color: #0087ff\">Dropout</span>)             │ (<span style=\"color: #00d7ff; text-decoration-color: #00d7ff\">None</span>, <span style=\"color: #00af00; text-decoration-color: #00af00\">512</span>)            │             <span style=\"color: #00af00; text-decoration-color: #00af00\">0</span> │\n",
       "├─────────────────────────────────┼────────────────────────┼───────────────┤\n",
       "│ dense_6 (<span style=\"color: #0087ff; text-decoration-color: #0087ff\">Dense</span>)                 │ (<span style=\"color: #00d7ff; text-decoration-color: #00d7ff\">None</span>, <span style=\"color: #00af00; text-decoration-color: #00af00\">2</span>)              │         <span style=\"color: #00af00; text-decoration-color: #00af00\">1,026</span> │\n",
       "└─────────────────────────────────┴────────────────────────┴───────────────┘\n",
       "</pre>\n"
      ],
      "text/plain": [
       "┏━━━━━━━━━━━━━━━━━━━━━━━━━━━━━━━━━┳━━━━━━━━━━━━━━━━━━━━━━━━┳━━━━━━━━━━━━━━━┓\n",
       "┃\u001B[1m \u001B[0m\u001B[1mLayer (type)                   \u001B[0m\u001B[1m \u001B[0m┃\u001B[1m \u001B[0m\u001B[1mOutput Shape          \u001B[0m\u001B[1m \u001B[0m┃\u001B[1m \u001B[0m\u001B[1m      Param #\u001B[0m\u001B[1m \u001B[0m┃\n",
       "┡━━━━━━━━━━━━━━━━━━━━━━━━━━━━━━━━━╇━━━━━━━━━━━━━━━━━━━━━━━━╇━━━━━━━━━━━━━━━┩\n",
       "│ dense_3 (\u001B[38;5;33mDense\u001B[0m)                 │ (\u001B[38;5;45mNone\u001B[0m, \u001B[38;5;34m1024\u001B[0m)           │       \u001B[38;5;34m103,424\u001B[0m │\n",
       "├─────────────────────────────────┼────────────────────────┼───────────────┤\n",
       "│ dropout_2 (\u001B[38;5;33mDropout\u001B[0m)             │ (\u001B[38;5;45mNone\u001B[0m, \u001B[38;5;34m1024\u001B[0m)           │             \u001B[38;5;34m0\u001B[0m │\n",
       "├─────────────────────────────────┼────────────────────────┼───────────────┤\n",
       "│ dense_4 (\u001B[38;5;33mDense\u001B[0m)                 │ (\u001B[38;5;45mNone\u001B[0m, \u001B[38;5;34m1024\u001B[0m)           │     \u001B[38;5;34m1,049,600\u001B[0m │\n",
       "├─────────────────────────────────┼────────────────────────┼───────────────┤\n",
       "│ dropout_3 (\u001B[38;5;33mDropout\u001B[0m)             │ (\u001B[38;5;45mNone\u001B[0m, \u001B[38;5;34m1024\u001B[0m)           │             \u001B[38;5;34m0\u001B[0m │\n",
       "├─────────────────────────────────┼────────────────────────┼───────────────┤\n",
       "│ dense_5 (\u001B[38;5;33mDense\u001B[0m)                 │ (\u001B[38;5;45mNone\u001B[0m, \u001B[38;5;34m512\u001B[0m)            │       \u001B[38;5;34m524,800\u001B[0m │\n",
       "├─────────────────────────────────┼────────────────────────┼───────────────┤\n",
       "│ dropout_4 (\u001B[38;5;33mDropout\u001B[0m)             │ (\u001B[38;5;45mNone\u001B[0m, \u001B[38;5;34m512\u001B[0m)            │             \u001B[38;5;34m0\u001B[0m │\n",
       "├─────────────────────────────────┼────────────────────────┼───────────────┤\n",
       "│ dense_6 (\u001B[38;5;33mDense\u001B[0m)                 │ (\u001B[38;5;45mNone\u001B[0m, \u001B[38;5;34m2\u001B[0m)              │         \u001B[38;5;34m1,026\u001B[0m │\n",
       "└─────────────────────────────────┴────────────────────────┴───────────────┘\n"
      ]
     },
     "metadata": {},
     "output_type": "display_data"
    },
    {
     "data": {
      "text/html": [
       "<pre style=\"white-space:pre;overflow-x:auto;line-height:normal;font-family:Menlo,'DejaVu Sans Mono',consolas,'Courier New',monospace\"><span style=\"font-weight: bold\"> Total params: </span><span style=\"color: #00af00; text-decoration-color: #00af00\">1,678,850</span> (6.40 MB)\n",
       "</pre>\n"
      ],
      "text/plain": [
       "\u001B[1m Total params: \u001B[0m\u001B[38;5;34m1,678,850\u001B[0m (6.40 MB)\n"
      ]
     },
     "metadata": {},
     "output_type": "display_data"
    },
    {
     "data": {
      "text/html": [
       "<pre style=\"white-space:pre;overflow-x:auto;line-height:normal;font-family:Menlo,'DejaVu Sans Mono',consolas,'Courier New',monospace\"><span style=\"font-weight: bold\"> Trainable params: </span><span style=\"color: #00af00; text-decoration-color: #00af00\">1,678,850</span> (6.40 MB)\n",
       "</pre>\n"
      ],
      "text/plain": [
       "\u001B[1m Trainable params: \u001B[0m\u001B[38;5;34m1,678,850\u001B[0m (6.40 MB)\n"
      ]
     },
     "metadata": {},
     "output_type": "display_data"
    },
    {
     "data": {
      "text/html": [
       "<pre style=\"white-space:pre;overflow-x:auto;line-height:normal;font-family:Menlo,'DejaVu Sans Mono',consolas,'Courier New',monospace\"><span style=\"font-weight: bold\"> Non-trainable params: </span><span style=\"color: #00af00; text-decoration-color: #00af00\">0</span> (0.00 B)\n",
       "</pre>\n"
      ],
      "text/plain": [
       "\u001B[1m Non-trainable params: \u001B[0m\u001B[38;5;34m0\u001B[0m (0.00 B)\n"
      ]
     },
     "metadata": {},
     "output_type": "display_data"
    },
    {
     "name": "stdout",
     "output_type": "stream",
     "text": [
      "None\n",
      "Epoch 1/100\n",
      "\u001B[1m32/32\u001B[0m \u001B[32m━━━━━━━━━━━━━━━━━━━━\u001B[0m\u001B[37m\u001B[0m \u001B[1m0s\u001B[0m 1ms/step  - cate\n",
      " — val_f1: 0.786011 — val_precision: 0.786029 — val_recall: 0.786000\n",
      "\u001B[1m28/28\u001B[0m \u001B[32m━━━━━━━━━━━━━━━━━━━━\u001B[0m\u001B[37m\u001B[0m \u001B[1m1s\u001B[0m 22ms/step - categorical_accuracy: 0.6205 - loss: 0.6381 - val_categorical_accuracy: 0.7860 - val_loss: 0.4841 - val_f1: 0.7860 - val_recall: 0.7860 - val_precision: 0.7860\n",
      "Epoch 2/100\n",
      "\u001B[1m32/32\u001B[0m \u001B[32m━━━━━━━━━━━━━━━━━━━━\u001B[0m\u001B[37m\u001B[0m \u001B[1m0s\u001B[0m 1ms/stepp - categ\n",
      " — val_f1: 0.792981 — val_precision: 0.792976 — val_recall: 0.793000\n",
      "\u001B[1m28/28\u001B[0m \u001B[32m━━━━━━━━━━━━━━━━━━━━\u001B[0m\u001B[37m\u001B[0m \u001B[1m1s\u001B[0m 21ms/step - categorical_accuracy: 0.7638 - loss: 0.4943 - val_categorical_accuracy: 0.7930 - val_loss: 0.4684 - val_f1: 0.7930 - val_recall: 0.7930 - val_precision: 0.7930\n",
      "Epoch 3/100\n",
      "\u001B[1m32/32\u001B[0m \u001B[32m━━━━━━━━━━━━━━━━━━━━\u001B[0m\u001B[37m\u001B[0m \u001B[1m0s\u001B[0m 3ms/step\n",
      " — val_f1: 0.779818 — val_precision: 0.782949 — val_recall: 0.780000\n",
      "\u001B[1m28/28\u001B[0m \u001B[32m━━━━━━━━━━━━━━━━━━━━\u001B[0m\u001B[37m\u001B[0m \u001B[1m1s\u001B[0m 24ms/step - categorical_accuracy: 0.7721 - loss: 0.4745 - val_categorical_accuracy: 0.7800 - val_loss: 0.4716 - val_f1: 0.7798 - val_recall: 0.7800 - val_precision: 0.7829\n",
      "Epoch 4/100\n",
      "\u001B[1m32/32\u001B[0m \u001B[32m━━━━━━━━━━━━━━━━━━━━\u001B[0m\u001B[37m\u001B[0m \u001B[1m0s\u001B[0m 1ms/stepp - categ\n",
      " — val_f1: 0.779845 — val_precision: 0.782720 — val_recall: 0.780000\n",
      "\u001B[1m28/28\u001B[0m \u001B[32m━━━━━━━━━━━━━━━━━━━━\u001B[0m\u001B[37m\u001B[0m \u001B[1m1s\u001B[0m 18ms/step - categorical_accuracy: 0.7872 - loss: 0.4454 - val_categorical_accuracy: 0.7800 - val_loss: 0.4653 - val_f1: 0.7798 - val_recall: 0.7800 - val_precision: 0.7827\n",
      "Epoch 5/100\n",
      "\u001B[1m32/32\u001B[0m \u001B[32m━━━━━━━━━━━━━━━━━━━━\u001B[0m\u001B[37m\u001B[0m \u001B[1m0s\u001B[0m 1ms/stepp - categ\n",
      " — val_f1: 0.784029 — val_precision: 0.784816 — val_recall: 0.784000\n",
      "\u001B[1m28/28\u001B[0m \u001B[32m━━━━━━━━━━━━━━━━━━━━\u001B[0m\u001B[37m\u001B[0m \u001B[1m1s\u001B[0m 18ms/step - categorical_accuracy: 0.7933 - loss: 0.4317 - val_categorical_accuracy: 0.7840 - val_loss: 0.4685 - val_f1: 0.7840 - val_recall: 0.7840 - val_precision: 0.7848\n",
      "Epoch 6/100\n",
      "\u001B[1m32/32\u001B[0m \u001B[32m━━━━━━━━━━━━━━━━━━━━\u001B[0m\u001B[37m\u001B[0m \u001B[1m0s\u001B[0m 1ms/stepp - categ\n",
      " — val_f1: 0.780994 — val_precision: 0.782302 — val_recall: 0.781000\n",
      "\u001B[1m28/28\u001B[0m \u001B[32m━━━━━━━━━━━━━━━━━━━━\u001B[0m\u001B[37m\u001B[0m \u001B[1m1s\u001B[0m 18ms/step - categorical_accuracy: 0.8026 - loss: 0.4130 - val_categorical_accuracy: 0.7810 - val_loss: 0.4681 - val_f1: 0.7810 - val_recall: 0.7810 - val_precision: 0.7823\n",
      "Epoch 7/100\n",
      "\u001B[1m32/32\u001B[0m \u001B[32m━━━━━━━━━━━━━━━━━━━━\u001B[0m\u001B[37m\u001B[0m \u001B[1m0s\u001B[0m 1ms/stepp - categ\n",
      " — val_f1: 0.786000 — val_precision: 0.787233 — val_recall: 0.786000\n",
      "\u001B[1m28/28\u001B[0m \u001B[32m━━━━━━━━━━━━━━━━━━━━\u001B[0m\u001B[37m\u001B[0m \u001B[1m1s\u001B[0m 18ms/step - categorical_accuracy: 0.8118 - loss: 0.4012 - val_categorical_accuracy: 0.7860 - val_loss: 0.4761 - val_f1: 0.7860 - val_recall: 0.7860 - val_precision: 0.7872\n",
      "Epoch 8/100\n",
      "\u001B[1m32/32\u001B[0m \u001B[32m━━━━━━━━━━━━━━━━━━━━\u001B[0m\u001B[37m\u001B[0m \u001B[1m0s\u001B[0m 1ms/stepp - categ\n",
      " — val_f1: 0.791973 — val_precision: 0.791972 — val_recall: 0.792000\n",
      "\u001B[1m28/28\u001B[0m \u001B[32m━━━━━━━━━━━━━━━━━━━━\u001B[0m\u001B[37m\u001B[0m \u001B[1m1s\u001B[0m 19ms/step - categorical_accuracy: 0.8294 - loss: 0.3712 - val_categorical_accuracy: 0.7920 - val_loss: 0.4709 - val_f1: 0.7920 - val_recall: 0.7920 - val_precision: 0.7920\n",
      "Epoch 9/100\n",
      "\u001B[1m32/32\u001B[0m \u001B[32m━━━━━━━━━━━━━━━━━━━━\u001B[0m\u001B[37m\u001B[0m \u001B[1m0s\u001B[0m 1ms/stepp - categ\n",
      " — val_f1: 0.778741 — val_precision: 0.782553 — val_recall: 0.779000\n",
      "\u001B[1m28/28\u001B[0m \u001B[32m━━━━━━━━━━━━━━━━━━━━\u001B[0m\u001B[37m\u001B[0m \u001B[1m1s\u001B[0m 18ms/step - categorical_accuracy: 0.8304 - loss: 0.3716 - val_categorical_accuracy: 0.7790 - val_loss: 0.5105 - val_f1: 0.7787 - val_recall: 0.7790 - val_precision: 0.7826\n",
      "Epoch 10/100\n",
      "\u001B[1m32/32\u001B[0m \u001B[32m━━━━━━━━━━━━━━━━━━━━\u001B[0m\u001B[37m\u001B[0m \u001B[1m0s\u001B[0m 1ms/stepp - categ\n",
      " — val_f1: 0.777651 — val_precision: 0.778527 — val_recall: 0.778000\n",
      "\u001B[1m28/28\u001B[0m \u001B[32m━━━━━━━━━━━━━━━━━━━━\u001B[0m\u001B[37m\u001B[0m \u001B[1m1s\u001B[0m 18ms/step - categorical_accuracy: 0.8388 - loss: 0.3419 - val_categorical_accuracy: 0.7780 - val_loss: 0.5226 - val_f1: 0.7777 - val_recall: 0.7780 - val_precision: 0.7785\n",
      "Epoch 11/100\n",
      "\u001B[1m32/32\u001B[0m \u001B[32m━━━━━━━━━━━━━━━━━━━━\u001B[0m\u001B[37m\u001B[0m \u001B[1m0s\u001B[0m 1ms/stepp - categ\n",
      " — val_f1: 0.797030 — val_precision: 0.797763 — val_recall: 0.797000\n",
      "\u001B[1m28/28\u001B[0m \u001B[32m━━━━━━━━━━━━━━━━━━━━\u001B[0m\u001B[37m\u001B[0m \u001B[1m1s\u001B[0m 18ms/step - categorical_accuracy: 0.8495 - loss: 0.3288 - val_categorical_accuracy: 0.7970 - val_loss: 0.5177 - val_f1: 0.7970 - val_recall: 0.7970 - val_precision: 0.7978\n",
      "Epoch 12/100\n",
      "\u001B[1m32/32\u001B[0m \u001B[32m━━━━━━━━━━━━━━━━━━━━\u001B[0m\u001B[37m\u001B[0m \u001B[1m0s\u001B[0m 1ms/stepp - categ\n",
      " — val_f1: 0.784029 — val_precision: 0.784816 — val_recall: 0.784000\n",
      "\u001B[1m28/28\u001B[0m \u001B[32m━━━━━━━━━━━━━━━━━━━━\u001B[0m\u001B[37m\u001B[0m \u001B[1m1s\u001B[0m 20ms/step - categorical_accuracy: 0.8697 - loss: 0.2938 - val_categorical_accuracy: 0.7840 - val_loss: 0.5547 - val_f1: 0.7840 - val_recall: 0.7840 - val_precision: 0.7848\n",
      "Epoch 13/100\n",
      "\u001B[1m32/32\u001B[0m \u001B[32m━━━━━━━━━━━━━━━━━━━━\u001B[0m\u001B[37m\u001B[0m \u001B[1m0s\u001B[0m 1ms/stepp - categ\n",
      " — val_f1: 0.785025 — val_precision: 0.785089 — val_recall: 0.785000\n",
      "\u001B[1m28/28\u001B[0m \u001B[32m━━━━━━━━━━━━━━━━━━━━\u001B[0m\u001B[37m\u001B[0m \u001B[1m1s\u001B[0m 18ms/step - categorical_accuracy: 0.8735 - loss: 0.2855 - val_categorical_accuracy: 0.7850 - val_loss: 0.5615 - val_f1: 0.7850 - val_recall: 0.7850 - val_precision: 0.7851\n",
      "Epoch 14/100\n",
      "\u001B[1m32/32\u001B[0m \u001B[32m━━━━━━━━━━━━━━━━━━━━\u001B[0m\u001B[37m\u001B[0m \u001B[1m0s\u001B[0m 2ms/stepp - categ\n",
      " — val_f1: 0.783016 — val_precision: 0.783047 — val_recall: 0.783000\n",
      "\u001B[1m28/28\u001B[0m \u001B[32m━━━━━━━━━━━━━━━━━━━━\u001B[0m\u001B[37m\u001B[0m \u001B[1m1s\u001B[0m 19ms/step - categorical_accuracy: 0.8769 - loss: 0.2848 - val_categorical_accuracy: 0.7830 - val_loss: 0.5813 - val_f1: 0.7830 - val_recall: 0.7830 - val_precision: 0.7830\n",
      "Epoch 15/100\n",
      "\u001B[1m32/32\u001B[0m \u001B[32m━━━━━━━━━━━━━━━━━━━━\u001B[0m\u001B[37m\u001B[0m \u001B[1m0s\u001B[0m 1ms/stepp - categ\n",
      " — val_f1: 0.770902 — val_precision: 0.770990 — val_recall: 0.771000\n",
      "\u001B[1m28/28\u001B[0m \u001B[32m━━━━━━━━━━━━━━━━━━━━\u001B[0m\u001B[37m\u001B[0m \u001B[1m1s\u001B[0m 18ms/step - categorical_accuracy: 0.8907 - loss: 0.2540 - val_categorical_accuracy: 0.7710 - val_loss: 0.5977 - val_f1: 0.7709 - val_recall: 0.7710 - val_precision: 0.7710\n",
      "Epoch 16/100\n",
      "\u001B[1m32/32\u001B[0m \u001B[32m━━━━━━━━━━━━━━━━━━━━\u001B[0m\u001B[37m\u001B[0m \u001B[1m0s\u001B[0m 1ms/stepp - categ\n",
      " — val_f1: 0.769986 — val_precision: 0.771360 — val_recall: 0.770000\n",
      "\u001B[1m28/28\u001B[0m \u001B[32m━━━━━━━━━━━━━━━━━━━━\u001B[0m\u001B[37m\u001B[0m \u001B[1m1s\u001B[0m 19ms/step - categorical_accuracy: 0.9030 - loss: 0.2328 - val_categorical_accuracy: 0.7700 - val_loss: 0.6864 - val_f1: 0.7700 - val_recall: 0.7700 - val_precision: 0.7714\n",
      "Epoch 17/100\n",
      "\u001B[1m32/32\u001B[0m \u001B[32m━━━━━━━━━━━━━━━━━━━━\u001B[0m\u001B[37m\u001B[0m \u001B[1m0s\u001B[0m 1ms/stepp - categ\n",
      " — val_f1: 0.782980 — val_precision: 0.784466 — val_recall: 0.783000\n",
      "\u001B[1m28/28\u001B[0m \u001B[32m━━━━━━━━━━━━━━━━━━━━\u001B[0m\u001B[37m\u001B[0m \u001B[1m1s\u001B[0m 20ms/step - categorical_accuracy: 0.9042 - loss: 0.2254 - val_categorical_accuracy: 0.7830 - val_loss: 0.6577 - val_f1: 0.7830 - val_recall: 0.7830 - val_precision: 0.7845\n",
      "Epoch 18/100\n",
      "\u001B[1m32/32\u001B[0m \u001B[32m━━━━━━━━━━━━━━━━━━━━\u001B[0m\u001B[37m\u001B[0m \u001B[1m0s\u001B[0m 2ms/stepp - categ\n",
      " — val_f1: 0.786000 — val_precision: 0.787233 — val_recall: 0.786000\n",
      "\u001B[1m28/28\u001B[0m \u001B[32m━━━━━━━━━━━━━━━━━━━━\u001B[0m\u001B[37m\u001B[0m \u001B[1m1s\u001B[0m 19ms/step - categorical_accuracy: 0.9181 - loss: 0.1980 - val_categorical_accuracy: 0.7860 - val_loss: 0.6929 - val_f1: 0.7860 - val_recall: 0.7860 - val_precision: 0.7872\n",
      "Epoch 19/100\n",
      "\u001B[1m32/32\u001B[0m \u001B[32m━━━━━━━━━━━━━━━━━━━━\u001B[0m\u001B[37m\u001B[0m \u001B[1m0s\u001B[0m 1ms/stepp - categ\n",
      " — val_f1: 0.755707 — val_precision: 0.773041 — val_recall: 0.758000\n",
      "\u001B[1m28/28\u001B[0m \u001B[32m━━━━━━━━━━━━━━━━━━━━\u001B[0m\u001B[37m\u001B[0m \u001B[1m1s\u001B[0m 20ms/step - categorical_accuracy: 0.9133 - loss: 0.2063 - val_categorical_accuracy: 0.7580 - val_loss: 0.7927 - val_f1: 0.7557 - val_recall: 0.7580 - val_precision: 0.7730\n",
      "Epoch 20/100\n",
      "\u001B[1m32/32\u001B[0m \u001B[32m━━━━━━━━━━━━━━━━━━━━\u001B[0m\u001B[37m\u001B[0m \u001B[1m0s\u001B[0m 1ms/stepp - categ\n",
      " — val_f1: 0.773966 — val_precision: 0.777686 — val_recall: 0.775000\n",
      "\u001B[1m28/28\u001B[0m \u001B[32m━━━━━━━━━━━━━━━━━━━━\u001B[0m\u001B[37m\u001B[0m \u001B[1m1s\u001B[0m 19ms/step - categorical_accuracy: 0.9181 - loss: 0.1964 - val_categorical_accuracy: 0.7750 - val_loss: 0.7435 - val_f1: 0.7740 - val_recall: 0.7750 - val_precision: 0.7777\n",
      "Epoch 21/100\n",
      "\u001B[1m32/32\u001B[0m \u001B[32m━━━━━━━━━━━━━━━━━━━━\u001B[0m\u001B[37m\u001B[0m \u001B[1m0s\u001B[0m 2ms/step\n",
      " — val_f1: 0.761130 — val_precision: 0.769177 — val_recall: 0.762000\n",
      "\u001B[1m28/28\u001B[0m \u001B[32m━━━━━━━━━━━━━━━━━━━━\u001B[0m\u001B[37m\u001B[0m \u001B[1m1s\u001B[0m 20ms/step - categorical_accuracy: 0.9143 - loss: 0.2053 - val_categorical_accuracy: 0.7620 - val_loss: 0.7877 - val_f1: 0.7611 - val_recall: 0.7620 - val_precision: 0.7692\n",
      "Epoch 22/100\n",
      "\u001B[1m32/32\u001B[0m \u001B[32m━━━━━━━━━━━━━━━━━━━━\u001B[0m\u001B[37m\u001B[0m \u001B[1m0s\u001B[0m 1ms/stepp - categ\n",
      " — val_f1: 0.773033 — val_precision: 0.773749 — val_recall: 0.773000\n",
      "\u001B[1m28/28\u001B[0m \u001B[32m━━━━━━━━━━━━━━━━━━━━\u001B[0m\u001B[37m\u001B[0m \u001B[1m1s\u001B[0m 23ms/step - categorical_accuracy: 0.9346 - loss: 0.1608 - val_categorical_accuracy: 0.7730 - val_loss: 0.8416 - val_f1: 0.7730 - val_recall: 0.7730 - val_precision: 0.7737\n",
      "Epoch 23/100\n",
      "\u001B[1m32/32\u001B[0m \u001B[32m━━━━━━━━━━━━━━━━━━━━\u001B[0m\u001B[37m\u001B[0m \u001B[1m0s\u001B[0m 1ms/stepp - categ\n",
      " — val_f1: 0.763407 — val_precision: 0.769532 — val_recall: 0.764000\n",
      "\u001B[1m28/28\u001B[0m \u001B[32m━━━━━━━━━━━━━━━━━━━━\u001B[0m\u001B[37m\u001B[0m \u001B[1m1s\u001B[0m 18ms/step - categorical_accuracy: 0.9387 - loss: 0.1579 - val_categorical_accuracy: 0.7640 - val_loss: 0.8216 - val_f1: 0.7634 - val_recall: 0.7640 - val_precision: 0.7695\n",
      "Epoch 24/100\n",
      "\u001B[1m32/32\u001B[0m \u001B[32m━━━━━━━━━━━━━━━━━━━━\u001B[0m\u001B[37m\u001B[0m \u001B[1m0s\u001B[0m 1ms/stepp - categ\n",
      " — val_f1: 0.765046 — val_precision: 0.765350 — val_recall: 0.765000\n",
      "\u001B[1m28/28\u001B[0m \u001B[32m━━━━━━━━━━━━━━━━━━━━\u001B[0m\u001B[37m\u001B[0m \u001B[1m1s\u001B[0m 19ms/step - categorical_accuracy: 0.9425 - loss: 0.1480 - val_categorical_accuracy: 0.7650 - val_loss: 0.8101 - val_f1: 0.7650 - val_recall: 0.7650 - val_precision: 0.7654\n",
      "Epoch 24: early stopping\n",
      "Restoring model weights from the end of the best epoch: 4.\n"
     ]
    }
   ],
   "source": [
    "# Define a new Sequential model\n",
    "model2 = Sequential()\n",
    "\n",
    "# Add the first dense (fully connected) layer with 1024 units and ReLU activation\n",
    "# The input dimension is set to the number of features in the centroid vectors (X_train_centroids)\n",
    "model2.add(Dense(1024, input_dim=X_train_centroids.shape[1], activation=\"relu\"))\n",
    "\n",
    "# Add a Dropout layer to reduce overfitting with a dropout rate of 0.3 (30% of neurons dropped)\n",
    "model2.add(Dropout(0.3))\n",
    "\n",
    "# Add a second dense layer with 1024 units and ReLU activation\n",
    "model2.add(Dense(1024, activation=\"relu\"))\n",
    "\n",
    "# Add another Dropout layer with a 30% dropout rate\n",
    "model2.add(Dropout(0.3))\n",
    "\n",
    "# Add a third dense layer with 512 units and ReLU activation\n",
    "model2.add(Dense(512, activation=\"relu\"))\n",
    "\n",
    "# Add another Dropout layer with a 30% dropout rate\n",
    "model2.add(Dropout(0.3))\n",
    "\n",
    "# Add the output layer with a softmax activation to classify into the number of unique classes\n",
    "# The number of units in the output layer matches the number of unique classes in the target\n",
    "model2.add(Dense(len(y_train_new.unique()), activation=\"softmax\"))\n",
    "\n",
    "# Print the model summary to display the structure and layers of the model\n",
    "print(model2.summary())\n",
    "\n",
    "# Compile the model with categorical cross-entropy as the loss function, Adam optimizer, and categorical accuracy metric\n",
    "model2.compile(\n",
    "    loss=\"categorical_crossentropy\",            # Loss function for multi-class classification\n",
    "    optimizer=Adam(learning_rate=0.001),        # Adam optimizer with a learning rate of 0.001\n",
    "    metrics=[CategoricalAccuracy()],            # Use categorical accuracy as the evaluation metric\n",
    ")\n",
    "\n",
    "# Define an EarlyStopping callback to stop training if the validation loss doesn't improve for 20 epochs\n",
    "early_stopping = EarlyStopping(patience=20, verbose=2, restore_best_weights=True)\n",
    "\n",
    "# Train the model using the training centroid vectors and one-hot encoded labels\n",
    "history2 = model2.fit(\n",
    "    X_train_centroids,               # Training feature set (centroid vectors)\n",
    "    y_train_1_hot,                   # Training labels (one-hot encoded)\n",
    "    validation_data=(X_val_centroids, y_val_1_hot),  # Validation data (centroid vectors and labels)\n",
    "    batch_size=256,                  # Batch size of 256\n",
    "    epochs=100,                      # Maximum number of epochs to train\n",
    "    shuffle=True,                    # Shuffle the training data at the start of each epoch\n",
    "    callbacks=[\n",
    "        Metrics(valid_data=(X_val_centroids, y_val_1_hot)),  # Custom metric callback for monitoring performance\n",
    "        early_stopping,  # Apply early stopping to prevent overfitting and restore the best weights\n",
    "    ],\n",
    ")"
   ]
  },
  {
   "cell_type": "markdown",
   "metadata": {
    "id": "h74dNgiVbQJE"
   },
   "source": [
    "# Visualize Model's Training History"
   ]
  },
  {
   "cell_type": "code",
   "execution_count": 65,
   "metadata": {
    "ExecuteTime": {
     "end_time": "2024-09-06T08:52:23.578247Z",
     "start_time": "2024-09-06T08:52:23.533264Z"
    },
    "collapsed": false
   },
   "outputs": [
    {
     "data": {
      "image/png": "[encoded data removed]",
      "text/plain": [
       "<Figure size 640x480 with 1 Axes>"
      ]
     },
     "metadata": {},
     "output_type": "display_data"
    }
   ],
   "source": [
    "# summarize history for accuracy\n",
    "plt.plot(history2.history[\"categorical_accuracy\"])\n",
    "plt.plot(history2.history[\"val_categorical_accuracy\"])\n",
    "plt.title(\"model accuracy\")\n",
    "plt.ylabel(\"accuracy\")\n",
    "plt.xlabel(\"epoch\")\n",
    "plt.legend([\"train\", \"dev\"], loc=\"upper left\")\n",
    "plt.xticks(range(1, len(history2.history[\"categorical_accuracy\"]) + 1, 4))\n",
    "plt.show()"
   ]
  },
  {
   "cell_type": "code",
   "execution_count": 66,
   "metadata": {
    "ExecuteTime": {
     "end_time": "2024-09-06T08:52:25.873082Z",
     "start_time": "2024-09-06T08:52:25.828211Z"
    },
    "colab": {
     "base_uri": "https://localhost:8080/",
     "height": 927
    },
    "id": "RcYQpGqfZhq-",
    "outputId": "82bd2761-0df4-48bc-b13f-8e4ab80139ae"
   },
   "outputs": [
    {
     "data": {
      "image/png": "[encoded data removed]",
      "text/plain": [
       "<Figure size 640x480 with 1 Axes>"
      ]
     },
     "metadata": {},
     "output_type": "display_data"
    }
   ],
   "source": [
    "# summarize history for loss\n",
    "plt.plot(history2.history[\"loss\"])\n",
    "plt.plot(history2.history[\"val_loss\"])\n",
    "plt.title(\"model loss\")\n",
    "plt.ylabel(\"loss\")\n",
    "plt.xlabel(\"epoch\")\n",
    "plt.legend([\"train\", \"dev\"], loc=\"upper right\")\n",
    "plt.xticks(range(1, len(history2.history[\"loss\"]) + 1, 4))\n",
    "plt.show()"
   ]
  },
  {
   "cell_type": "code",
   "execution_count": 69,
   "metadata": {
    "ExecuteTime": {
     "end_time": "2024-09-06T08:53:13.740712Z",
     "start_time": "2024-09-06T08:53:13.688997Z"
    },
    "id": "a8fuanqDZhtu"
   },
   "outputs": [],
   "source": [
    "# Save model & weights\n",
    "model2.save(\"checkpoints/MLP_centroids.keras\")"
   ]
  },
  {
   "cell_type": "code",
   "execution_count": null,
   "outputs": [],
   "source": [
    "# load weights and model from the saved checkpoint\n",
    "centroids_model = load_model(\"checkpoints/MLP_centroids.keras\")"
   ],
   "metadata": {
    "collapsed": false
   }
  },
  {
   "cell_type": "code",
   "execution_count": 70,
   "metadata": {
    "ExecuteTime": {
     "end_time": "2024-09-06T08:53:14.966489Z",
     "start_time": "2024-09-06T08:53:14.820711Z"
    },
    "colab": {
     "base_uri": "https://localhost:8080/"
    },
    "id": "BMeW09ehZhwQ",
    "outputId": "6fba0092-a7e8-4d03-dca3-e18b88366c37"
   },
   "outputs": [
    {
     "name": "stdout",
     "output_type": "stream",
     "text": [
      "\u001B[1m63/63\u001B[0m \u001B[32m━━━━━━━━━━━━━━━━━━━━\u001B[0m\u001B[37m\u001B[0m \u001B[1m0s\u001B[0m 1ms/step\n",
      "              precision    recall  f1-score   support\n",
      "\n",
      "           0       0.80      0.75      0.77      1007\n",
      "           1       0.76      0.81      0.78       993\n",
      "\n",
      "    accuracy                           0.78      2000\n",
      "   macro avg       0.78      0.78      0.78      2000\n",
      "weighted avg       0.78      0.78      0.78      2000\n",
      "\n"
     ]
    },
    {
     "name": "stderr",
     "output_type": "stream",
     "text": [
      "/Users/antonal/ta2/lib/python3.11/site-packages/keras/src/saving/saving_lib.py:713: UserWarning: Skipping variable loading for optimizer 'rmsprop', because it has 10 variables whereas the saved optimizer has 18 variables. \n",
      "  saveable.load_own_variables(weights_store.get(inner_path))\n"
     ]
    }
   ],
   "source": [
    "# Predict the class labels for the test data using model2 (centroid-based model)\n",
    "predictions = np.argmax(model2.predict(X_test_centroids), -1)\n",
    "\n",
    "# Print a classification report comparing the true labels and predicted labels for the test set\n",
    "print(classification_report(y_test, predictions))"
   ]
  },
  {
   "cell_type": "code",
   "execution_count": 71,
   "metadata": {
    "ExecuteTime": {
     "end_time": "2024-09-06T08:53:31.278007Z",
     "start_time": "2024-09-06T08:53:31.245608Z"
    },
    "colab": {
     "base_uri": "https://localhost:8080/"
    },
    "id": "lldBu57OqQtU",
    "outputId": "e6c49cd3-6959-4d29-f530-6dc7e06e4f58"
   },
   "outputs": [
    {
     "name": "stdout",
     "output_type": "stream",
     "text": [
      "Search space summary\n",
      "Default search space size: 5\n",
      "num_layers (Int)\n",
      "{'default': None, 'conditions': [], 'min_value': 1, 'max_value': 3, 'step': 1, 'sampling': 'linear'}\n",
      "hidden_units_0 (Int)\n",
      "{'default': None, 'conditions': [], 'min_value': 128, 'max_value': 512, 'step': 64, 'sampling': 'linear'}\n",
      "activation_layer0 (Choice)\n",
      "{'default': 'relu', 'conditions': [], 'values': ['relu', 'tanh'], 'ordered': False}\n",
      "dropout_layer_0 (Choice)\n",
      "{'default': 0.1, 'conditions': [], 'values': [0.1, 0.2, 0.3, 0.4, 0.5], 'ordered': True}\n",
      "learning_rate (Choice)\n",
      "{'default': 0.001, 'conditions': [], 'values': [0.001, 0.0001], 'ordered': True}\n"
     ]
    },
    {
     "name": "stderr",
     "output_type": "stream",
     "text": [
      "/Users/antonal/ta2/lib/python3.11/site-packages/keras/src/layers/core/dense.py:87: UserWarning: Do not pass an `input_shape`/`input_dim` argument to a layer. When using Sequential models, prefer using an `Input(shape)` object as the first layer in the model instead.\n",
      "  super().__init__(activity_regularizer=activity_regularizer, **kwargs)\n"
     ]
    }
   ],
   "source": [
    "# Set training data and class labels for hyperparameter tuning\n",
    "xtrain = X_train_centroids\n",
    "classes = y_train_new.unique()\n",
    "\n",
    "# Lambda function to build the model with hyperparameters provided by the tuner\n",
    "build_model_with_params = lambda hp: build_model(hp, xtrain, classes)\n",
    "\n",
    "# Initialize a RandomSearch tuner to find the best hyperparameters for the centroid-based model\n",
    "tuner = kt.RandomSearch(\n",
    "    build_model_with_params,                               # Model-building function\n",
    "    objective=kt.Objective(\"val_categorical_accuracy\", direction=\"max\"),  # Objective to maximize validation accuracy\n",
    "    max_trials=20,                                         # Number of trials to run\n",
    "    directory=\"KT_dir_2\",                                  # Directory to save results\n",
    "    project_name=\"KT_tuning\",                              # Project name for tracking\n",
    ")\n",
    "\n",
    "# Early stopping callback to stop tuning if validation loss doesn't improve for 20 epochs\n",
    "early_stopping = EarlyStopping(monitor=\"val_loss\", patience=20)\n",
    "\n",
    "# Display a summary of the search space (hyperparameters being tuned)\n",
    "tuner.search_space_summary()"
   ]
  },
  {
   "cell_type": "code",
   "execution_count": 72,
   "metadata": {
    "colab": {
     "base_uri": "https://localhost:8080/"
    },
    "id": "Kf8YdiI8r1jj",
    "outputId": "81c41eed-5e87-4ad5-cdd0-87eb8ed28b3a"
   },
   "outputs": [
    {
     "name": "stdout",
     "output_type": "stream",
     "text": [
      "Trial 20 Complete [00h 00m 08s]\n",
      "val_categorical_accuracy: 0.7860000133514404\n",
      "\n",
      "Best val_categorical_accuracy So Far: 0.8009999990463257\n",
      "Total elapsed time: 00h 01m 34s\n"
     ]
    }
   ],
   "source": [
    "# Start the search for the best hyperparameters using the training and validation data\n",
    "tuner.search(\n",
    "    X_train_centroids,                                    # Training feature set (centroids)\n",
    "    y_train_1_hot,                                        # Training labels (one-hot encoded)\n",
    "    validation_data=(X_val_centroids, y_val_1_hot),       # Validation data (centroids and labels)\n",
    "    epochs=50,                                            # Number of epochs to train during search\n",
    "    batch_size=128,                                       # Batch size\n",
    "    callbacks=[early_stopping],                           # Use early stopping\n",
    ")"
   ]
  },
  {
   "cell_type": "code",
   "execution_count": 73,
   "metadata": {
    "ExecuteTime": {
     "end_time": "2024-09-06T08:55:26.294069Z",
     "start_time": "2024-09-06T08:55:26.016414Z"
    },
    "colab": {
     "base_uri": "https://localhost:8080/"
    },
    "id": "mr6oDtz6c7hv",
    "outputId": "4640ee8b-dbd9-48cb-f8c2-9fb4c54e53a8"
   },
   "outputs": [
    {
     "name": "stdout",
     "output_type": "stream",
     "text": [
      "oracle.json \u001B[34mtrial_03\u001B[m\u001B[m    \u001B[34mtrial_07\u001B[m\u001B[m    \u001B[34mtrial_11\u001B[m\u001B[m    \u001B[34mtrial_15\u001B[m\u001B[m    \u001B[34mtrial_19\u001B[m\u001B[m\r\n",
      "\u001B[34mtrial_00\u001B[m\u001B[m    \u001B[34mtrial_04\u001B[m\u001B[m    \u001B[34mtrial_08\u001B[m\u001B[m    \u001B[34mtrial_12\u001B[m\u001B[m    \u001B[34mtrial_16\u001B[m\u001B[m    tuner0.json\r\n",
      "\u001B[34mtrial_01\u001B[m\u001B[m    \u001B[34mtrial_05\u001B[m\u001B[m    \u001B[34mtrial_09\u001B[m\u001B[m    \u001B[34mtrial_13\u001B[m\u001B[m    \u001B[34mtrial_17\u001B[m\u001B[m\r\n",
      "\u001B[34mtrial_02\u001B[m\u001B[m    \u001B[34mtrial_06\u001B[m\u001B[m    \u001B[34mtrial_10\u001B[m\u001B[m    \u001B[34mtrial_14\u001B[m\u001B[m    \u001B[34mtrial_18\u001B[m\u001B[m\r\n",
      "build_config.json     checkpoint.weights.h5 trial.json\r\n"
     ]
    }
   ],
   "source": [
    "# Created checkpoints and configuration files\n",
    "!ls KT_dir_2/KT_tuning\n",
    "!ls KT_dir_2/KT_tuning/trial_00"
   ]
  },
  {
   "cell_type": "code",
   "execution_count": 74,
   "metadata": {
    "ExecuteTime": {
     "end_time": "2024-09-06T08:55:29.644193Z",
     "start_time": "2024-09-06T08:55:29.635300Z"
    },
    "colab": {
     "base_uri": "https://localhost:8080/"
    },
    "id": "Jk8qRjWRc91O",
    "outputId": "aa55539a-cf7a-4009-b3a9-29f1635c03b4"
   },
   "outputs": [
    {
     "name": "stdout",
     "output_type": "stream",
     "text": [
      "Results summary\n",
      "Results in KT_dir_2/KT_tuning\n",
      "Showing 10 best trials\n",
      "Objective(name=\"val_categorical_accuracy\", direction=\"max\")\n",
      "\n",
      "Trial 11 summary\n",
      "Hyperparameters:\n",
      "num_layers: 3\n",
      "hidden_units_0: 128\n",
      "activation_layer0: tanh\n",
      "dropout_layer_0: 0.2\n",
      "learning_rate: 0.001\n",
      "hidden_units_1: 448\n",
      "activation_layer1: relu\n",
      "dropout_layer_1: 0.2\n",
      "hidden_units_2: 448\n",
      "activation_layer2: relu\n",
      "dropout_layer_2: 0.1\n",
      "Score: 0.8009999990463257\n",
      "\n",
      "Trial 04 summary\n",
      "Hyperparameters:\n",
      "num_layers: 2\n",
      "hidden_units_0: 384\n",
      "activation_layer0: relu\n",
      "dropout_layer_0: 0.4\n",
      "learning_rate: 0.001\n",
      "hidden_units_1: 448\n",
      "activation_layer1: relu\n",
      "dropout_layer_1: 0.2\n",
      "hidden_units_2: 256\n",
      "activation_layer2: relu\n",
      "dropout_layer_2: 0.1\n",
      "Score: 0.800000011920929\n",
      "\n",
      "Trial 00 summary\n",
      "Hyperparameters:\n",
      "num_layers: 1\n",
      "hidden_units_0: 128\n",
      "activation_layer0: relu\n",
      "dropout_layer_0: 0.4\n",
      "learning_rate: 0.0001\n",
      "Score: 0.7960000038146973\n",
      "\n",
      "Trial 10 summary\n",
      "Hyperparameters:\n",
      "num_layers: 1\n",
      "hidden_units_0: 192\n",
      "activation_layer0: relu\n",
      "dropout_layer_0: 0.2\n",
      "learning_rate: 0.001\n",
      "hidden_units_1: 448\n",
      "activation_layer1: relu\n",
      "dropout_layer_1: 0.3\n",
      "hidden_units_2: 384\n",
      "activation_layer2: tanh\n",
      "dropout_layer_2: 0.2\n",
      "Score: 0.7940000295639038\n",
      "\n",
      "Trial 14 summary\n",
      "Hyperparameters:\n",
      "num_layers: 3\n",
      "hidden_units_0: 320\n",
      "activation_layer0: tanh\n",
      "dropout_layer_0: 0.2\n",
      "learning_rate: 0.001\n",
      "hidden_units_1: 512\n",
      "activation_layer1: relu\n",
      "dropout_layer_1: 0.4\n",
      "hidden_units_2: 384\n",
      "activation_layer2: tanh\n",
      "dropout_layer_2: 0.4\n",
      "Score: 0.7940000295639038\n",
      "\n",
      "Trial 06 summary\n",
      "Hyperparameters:\n",
      "num_layers: 3\n",
      "hidden_units_0: 320\n",
      "activation_layer0: tanh\n",
      "dropout_layer_0: 0.4\n",
      "learning_rate: 0.0001\n",
      "hidden_units_1: 320\n",
      "activation_layer1: tanh\n",
      "dropout_layer_1: 0.5\n",
      "hidden_units_2: 128\n",
      "activation_layer2: tanh\n",
      "dropout_layer_2: 0.4\n",
      "Score: 0.7919999957084656\n",
      "\n",
      "Trial 03 summary\n",
      "Hyperparameters:\n",
      "num_layers: 3\n",
      "hidden_units_0: 384\n",
      "activation_layer0: tanh\n",
      "dropout_layer_0: 0.1\n",
      "learning_rate: 0.001\n",
      "hidden_units_1: 320\n",
      "activation_layer1: relu\n",
      "dropout_layer_1: 0.1\n",
      "hidden_units_2: 384\n",
      "activation_layer2: tanh\n",
      "dropout_layer_2: 0.3\n",
      "Score: 0.7910000085830688\n",
      "\n",
      "Trial 08 summary\n",
      "Hyperparameters:\n",
      "num_layers: 1\n",
      "hidden_units_0: 384\n",
      "activation_layer0: tanh\n",
      "dropout_layer_0: 0.3\n",
      "learning_rate: 0.0001\n",
      "hidden_units_1: 448\n",
      "activation_layer1: relu\n",
      "dropout_layer_1: 0.4\n",
      "hidden_units_2: 512\n",
      "activation_layer2: tanh\n",
      "dropout_layer_2: 0.3\n",
      "Score: 0.7900000214576721\n",
      "\n",
      "Trial 09 summary\n",
      "Hyperparameters:\n",
      "num_layers: 2\n",
      "hidden_units_0: 512\n",
      "activation_layer0: relu\n",
      "dropout_layer_0: 0.2\n",
      "learning_rate: 0.0001\n",
      "hidden_units_1: 128\n",
      "activation_layer1: relu\n",
      "dropout_layer_1: 0.2\n",
      "hidden_units_2: 320\n",
      "activation_layer2: relu\n",
      "dropout_layer_2: 0.5\n",
      "Score: 0.7900000214576721\n",
      "\n",
      "Trial 16 summary\n",
      "Hyperparameters:\n",
      "num_layers: 2\n",
      "hidden_units_0: 320\n",
      "activation_layer0: tanh\n",
      "dropout_layer_0: 0.1\n",
      "learning_rate: 0.001\n",
      "hidden_units_1: 448\n",
      "activation_layer1: relu\n",
      "dropout_layer_1: 0.2\n",
      "hidden_units_2: 128\n",
      "activation_layer2: relu\n",
      "dropout_layer_2: 0.3\n",
      "Score: 0.7900000214576721\n"
     ]
    }
   ],
   "source": [
    "# Trials summary\n",
    "tuner.results_summary()"
   ]
  },
  {
   "cell_type": "code",
   "execution_count": 75,
   "metadata": {
    "ExecuteTime": {
     "end_time": "2024-09-06T08:55:44.318465Z",
     "start_time": "2024-09-06T08:55:44.305171Z"
    },
    "collapsed": false
   },
   "outputs": [
    {
     "data": {
      "text/plain": [
       "{'num_layers': 3,\n",
       " 'hidden_units_0': 128,\n",
       " 'activation_layer0': 'tanh',\n",
       " 'dropout_layer_0': 0.2,\n",
       " 'learning_rate': 0.001,\n",
       " 'hidden_units_1': 448,\n",
       " 'activation_layer1': 'relu',\n",
       " 'dropout_layer_1': 0.2,\n",
       " 'hidden_units_2': 448,\n",
       " 'activation_layer2': 'relu',\n",
       " 'dropout_layer_2': 0.1}"
      ]
     },
     "execution_count": 75,
     "metadata": {},
     "output_type": "execute_result"
    }
   ],
   "source": [
    "# Get best hyper-parameters setup\n",
    "tuner.get_best_hyperparameters()[0].values"
   ]
  },
  {
   "cell_type": "code",
   "execution_count": 76,
   "metadata": {
    "ExecuteTime": {
     "end_time": "2024-09-06T08:55:54.741120Z",
     "start_time": "2024-09-06T08:55:54.313806Z"
    },
    "colab": {
     "base_uri": "https://localhost:8080/"
    },
    "id": "6eWSRKjFc_gh",
    "outputId": "1d8f30ab-c564-4b2a-b86a-15359d99bedc"
   },
   "outputs": [
    {
     "name": "stderr",
     "output_type": "stream",
     "text": [
      "/Users/antonal/ta2/lib/python3.11/site-packages/keras/src/layers/core/dense.py:87: UserWarning: Do not pass an `input_shape`/`input_dim` argument to a layer. When using Sequential models, prefer using an `Input(shape)` object as the first layer in the model instead.\n",
      "  super().__init__(activity_regularizer=activity_regularizer, **kwargs)\n",
      "/Users/antonal/ta2/lib/python3.11/site-packages/keras/src/saving/saving_lib.py:713: UserWarning: Skipping variable loading for optimizer 'adam', because it has 2 variables whereas the saved optimizer has 18 variables. \n",
      "  saveable.load_own_variables(weights_store.get(inner_path))\n"
     ]
    },
    {
     "data": {
      "text/html": [
       "<pre style=\"white-space:pre;overflow-x:auto;line-height:normal;font-family:Menlo,'DejaVu Sans Mono',consolas,'Courier New',monospace\"><span style=\"font-weight: bold\">Model: \"sequential\"</span>\n",
       "</pre>\n"
      ],
      "text/plain": [
       "\u001B[1mModel: \"sequential\"\u001B[0m\n"
      ]
     },
     "metadata": {},
     "output_type": "display_data"
    },
    {
     "data": {
      "text/html": [
       "<pre style=\"white-space:pre;overflow-x:auto;line-height:normal;font-family:Menlo,'DejaVu Sans Mono',consolas,'Courier New',monospace\">┏━━━━━━━━━━━━━━━━━━━━━━━━━━━━━━━━━┳━━━━━━━━━━━━━━━━━━━━━━━━┳━━━━━━━━━━━━━━━┓\n",
       "┃<span style=\"font-weight: bold\"> Layer (type)                    </span>┃<span style=\"font-weight: bold\"> Output Shape           </span>┃<span style=\"font-weight: bold\">       Param # </span>┃\n",
       "┡━━━━━━━━━━━━━━━━━━━━━━━━━━━━━━━━━╇━━━━━━━━━━━━━━━━━━━━━━━━╇━━━━━━━━━━━━━━━┩\n",
       "│ dense (<span style=\"color: #0087ff; text-decoration-color: #0087ff\">Dense</span>)                   │ (<span style=\"color: #00d7ff; text-decoration-color: #00d7ff\">None</span>, <span style=\"color: #00af00; text-decoration-color: #00af00\">128</span>)            │        <span style=\"color: #00af00; text-decoration-color: #00af00\">12,928</span> │\n",
       "├─────────────────────────────────┼────────────────────────┼───────────────┤\n",
       "│ dropout (<span style=\"color: #0087ff; text-decoration-color: #0087ff\">Dropout</span>)               │ (<span style=\"color: #00d7ff; text-decoration-color: #00d7ff\">None</span>, <span style=\"color: #00af00; text-decoration-color: #00af00\">128</span>)            │             <span style=\"color: #00af00; text-decoration-color: #00af00\">0</span> │\n",
       "├─────────────────────────────────┼────────────────────────┼───────────────┤\n",
       "│ dense_1 (<span style=\"color: #0087ff; text-decoration-color: #0087ff\">Dense</span>)                 │ (<span style=\"color: #00d7ff; text-decoration-color: #00d7ff\">None</span>, <span style=\"color: #00af00; text-decoration-color: #00af00\">448</span>)            │        <span style=\"color: #00af00; text-decoration-color: #00af00\">57,792</span> │\n",
       "├─────────────────────────────────┼────────────────────────┼───────────────┤\n",
       "│ dropout_1 (<span style=\"color: #0087ff; text-decoration-color: #0087ff\">Dropout</span>)             │ (<span style=\"color: #00d7ff; text-decoration-color: #00d7ff\">None</span>, <span style=\"color: #00af00; text-decoration-color: #00af00\">448</span>)            │             <span style=\"color: #00af00; text-decoration-color: #00af00\">0</span> │\n",
       "├─────────────────────────────────┼────────────────────────┼───────────────┤\n",
       "│ dense_2 (<span style=\"color: #0087ff; text-decoration-color: #0087ff\">Dense</span>)                 │ (<span style=\"color: #00d7ff; text-decoration-color: #00d7ff\">None</span>, <span style=\"color: #00af00; text-decoration-color: #00af00\">448</span>)            │       <span style=\"color: #00af00; text-decoration-color: #00af00\">201,152</span> │\n",
       "├─────────────────────────────────┼────────────────────────┼───────────────┤\n",
       "│ dropout_2 (<span style=\"color: #0087ff; text-decoration-color: #0087ff\">Dropout</span>)             │ (<span style=\"color: #00d7ff; text-decoration-color: #00d7ff\">None</span>, <span style=\"color: #00af00; text-decoration-color: #00af00\">448</span>)            │             <span style=\"color: #00af00; text-decoration-color: #00af00\">0</span> │\n",
       "├─────────────────────────────────┼────────────────────────┼───────────────┤\n",
       "│ dense_3 (<span style=\"color: #0087ff; text-decoration-color: #0087ff\">Dense</span>)                 │ (<span style=\"color: #00d7ff; text-decoration-color: #00d7ff\">None</span>, <span style=\"color: #00af00; text-decoration-color: #00af00\">2</span>)              │           <span style=\"color: #00af00; text-decoration-color: #00af00\">898</span> │\n",
       "└─────────────────────────────────┴────────────────────────┴───────────────┘\n",
       "</pre>\n"
      ],
      "text/plain": [
       "┏━━━━━━━━━━━━━━━━━━━━━━━━━━━━━━━━━┳━━━━━━━━━━━━━━━━━━━━━━━━┳━━━━━━━━━━━━━━━┓\n",
       "┃\u001B[1m \u001B[0m\u001B[1mLayer (type)                   \u001B[0m\u001B[1m \u001B[0m┃\u001B[1m \u001B[0m\u001B[1mOutput Shape          \u001B[0m\u001B[1m \u001B[0m┃\u001B[1m \u001B[0m\u001B[1m      Param #\u001B[0m\u001B[1m \u001B[0m┃\n",
       "┡━━━━━━━━━━━━━━━━━━━━━━━━━━━━━━━━━╇━━━━━━━━━━━━━━━━━━━━━━━━╇━━━━━━━━━━━━━━━┩\n",
       "│ dense (\u001B[38;5;33mDense\u001B[0m)                   │ (\u001B[38;5;45mNone\u001B[0m, \u001B[38;5;34m128\u001B[0m)            │        \u001B[38;5;34m12,928\u001B[0m │\n",
       "├─────────────────────────────────┼────────────────────────┼───────────────┤\n",
       "│ dropout (\u001B[38;5;33mDropout\u001B[0m)               │ (\u001B[38;5;45mNone\u001B[0m, \u001B[38;5;34m128\u001B[0m)            │             \u001B[38;5;34m0\u001B[0m │\n",
       "├─────────────────────────────────┼────────────────────────┼───────────────┤\n",
       "│ dense_1 (\u001B[38;5;33mDense\u001B[0m)                 │ (\u001B[38;5;45mNone\u001B[0m, \u001B[38;5;34m448\u001B[0m)            │        \u001B[38;5;34m57,792\u001B[0m │\n",
       "├─────────────────────────────────┼────────────────────────┼───────────────┤\n",
       "│ dropout_1 (\u001B[38;5;33mDropout\u001B[0m)             │ (\u001B[38;5;45mNone\u001B[0m, \u001B[38;5;34m448\u001B[0m)            │             \u001B[38;5;34m0\u001B[0m │\n",
       "├─────────────────────────────────┼────────────────────────┼───────────────┤\n",
       "│ dense_2 (\u001B[38;5;33mDense\u001B[0m)                 │ (\u001B[38;5;45mNone\u001B[0m, \u001B[38;5;34m448\u001B[0m)            │       \u001B[38;5;34m201,152\u001B[0m │\n",
       "├─────────────────────────────────┼────────────────────────┼───────────────┤\n",
       "│ dropout_2 (\u001B[38;5;33mDropout\u001B[0m)             │ (\u001B[38;5;45mNone\u001B[0m, \u001B[38;5;34m448\u001B[0m)            │             \u001B[38;5;34m0\u001B[0m │\n",
       "├─────────────────────────────────┼────────────────────────┼───────────────┤\n",
       "│ dense_3 (\u001B[38;5;33mDense\u001B[0m)                 │ (\u001B[38;5;45mNone\u001B[0m, \u001B[38;5;34m2\u001B[0m)              │           \u001B[38;5;34m898\u001B[0m │\n",
       "└─────────────────────────────────┴────────────────────────┴───────────────┘\n"
      ]
     },
     "metadata": {},
     "output_type": "display_data"
    },
    {
     "data": {
      "text/html": [
       "<pre style=\"white-space:pre;overflow-x:auto;line-height:normal;font-family:Menlo,'DejaVu Sans Mono',consolas,'Courier New',monospace\"><span style=\"font-weight: bold\"> Total params: </span><span style=\"color: #00af00; text-decoration-color: #00af00\">272,770</span> (1.04 MB)\n",
       "</pre>\n"
      ],
      "text/plain": [
       "\u001B[1m Total params: \u001B[0m\u001B[38;5;34m272,770\u001B[0m (1.04 MB)\n"
      ]
     },
     "metadata": {},
     "output_type": "display_data"
    },
    {
     "data": {
      "text/html": [
       "<pre style=\"white-space:pre;overflow-x:auto;line-height:normal;font-family:Menlo,'DejaVu Sans Mono',consolas,'Courier New',monospace\"><span style=\"font-weight: bold\"> Trainable params: </span><span style=\"color: #00af00; text-decoration-color: #00af00\">272,770</span> (1.04 MB)\n",
       "</pre>\n"
      ],
      "text/plain": [
       "\u001B[1m Trainable params: \u001B[0m\u001B[38;5;34m272,770\u001B[0m (1.04 MB)\n"
      ]
     },
     "metadata": {},
     "output_type": "display_data"
    },
    {
     "data": {
      "text/html": [
       "<pre style=\"white-space:pre;overflow-x:auto;line-height:normal;font-family:Menlo,'DejaVu Sans Mono',consolas,'Courier New',monospace\"><span style=\"font-weight: bold\"> Non-trainable params: </span><span style=\"color: #00af00; text-decoration-color: #00af00\">0</span> (0.00 B)\n",
       "</pre>\n"
      ],
      "text/plain": [
       "\u001B[1m Non-trainable params: \u001B[0m\u001B[38;5;34m0\u001B[0m (0.00 B)\n"
      ]
     },
     "metadata": {},
     "output_type": "display_data"
    }
   ],
   "source": [
    "# Retrieve the best model from the hyperparameter search\n",
    "best_model_2 = tuner.get_best_models(num_models=1)[0]\n",
    "\n",
    "# Display a summary of the best model's architecture and layers\n",
    "best_model_2.summary()"
   ]
  },
  {
   "cell_type": "code",
   "execution_count": null,
   "outputs": [],
   "source": [
    "# Predict class labels for the training data using the best model\n",
    "predictions_train_centroid = np.argmax(best_model_2.predict(X_train_centroids), -1)\n",
    "\n",
    "# Predict class labels for the validation data\n",
    "predictions_val_centroid = np.argmax(best_model_2.predict(X_val_centroids), -1)\n",
    "\n",
    "# Predict class labels for the test data\n",
    "predictions_test_centroid = np.argmax(best_model_2.predict(X_test_centroids), -1)"
   ],
   "metadata": {
    "collapsed": false
   }
  },
  {
   "cell_type": "code",
   "execution_count": 77,
   "metadata": {
    "ExecuteTime": {
     "end_time": "2024-09-06T08:56:17.609857Z",
     "start_time": "2024-09-06T08:56:17.263683Z"
    },
    "colab": {
     "base_uri": "https://localhost:8080/"
    },
    "id": "Ev0pU101d6A6",
    "outputId": "3be50fd1-af26-45e0-c0a7-f38a1d5b763d"
   },
   "outputs": [
    {
     "name": "stdout",
     "output_type": "stream",
     "text": [
      "\u001B[1m219/219\u001B[0m \u001B[32m━━━━━━━━━━━━━━━━━━━━\u001B[0m\u001B[37m\u001B[0m \u001B[1m0s\u001B[0m 715us/step\n",
      "\u001B[1m32/32\u001B[0m \u001B[32m━━━━━━━━━━━━━━━━━━━━\u001B[0m\u001B[37m\u001B[0m \u001B[1m0s\u001B[0m 456us/step\n",
      "\u001B[1m63/63\u001B[0m \u001B[32m━━━━━━━━━━━━━━━━━━━━\u001B[0m\u001B[37m\u001B[0m \u001B[1m0s\u001B[0m 444us/step\n",
      "Classification Report for TRAIN data set:\n",
      "              precision    recall  f1-score   support\n",
      "\n",
      "           0       0.86      0.85      0.86      3479\n",
      "           1       0.86      0.87      0.86      3521\n",
      "\n",
      "    accuracy                           0.86      7000\n",
      "   macro avg       0.86      0.86      0.86      7000\n",
      "weighted avg       0.86      0.86      0.86      7000\n",
      "\n"
     ]
    }
   ],
   "source": [
    "print(\"Classification Report for TRAIN data set:\")\n",
    "print(classification_report(y_train_new, predictions_train_centroid))"
   ]
  },
  {
   "cell_type": "code",
   "execution_count": 78,
   "metadata": {
    "ExecuteTime": {
     "end_time": "2024-09-06T08:56:25.938898Z",
     "start_time": "2024-09-06T08:56:25.924832Z"
    },
    "collapsed": false
   },
   "outputs": [
    {
     "name": "stdout",
     "output_type": "stream",
     "text": [
      "Classification Report for Validation data set:\n",
      "              precision    recall  f1-score   support\n",
      "\n",
      "           0       0.81      0.79      0.80       514\n",
      "           1       0.79      0.81      0.80       486\n",
      "\n",
      "    accuracy                           0.80      1000\n",
      "   macro avg       0.80      0.80      0.80      1000\n",
      "weighted avg       0.80      0.80      0.80      1000\n",
      "\n"
     ]
    }
   ],
   "source": [
    "print(\"Classification Report for Validation data set:\")\n",
    "print(classification_report(y_val, predictions_val_centroid))"
   ]
  },
  {
   "cell_type": "code",
   "execution_count": 79,
   "metadata": {
    "ExecuteTime": {
     "end_time": "2024-09-06T08:56:27.853444Z",
     "start_time": "2024-09-06T08:56:27.838493Z"
    },
    "collapsed": false
   },
   "outputs": [
    {
     "name": "stdout",
     "output_type": "stream",
     "text": [
      "Classification Report for TEST data set:\n",
      "              precision    recall  f1-score   support\n",
      "\n",
      "           0       0.78      0.78      0.78      1007\n",
      "           1       0.78      0.78      0.78       993\n",
      "\n",
      "    accuracy                           0.78      2000\n",
      "   macro avg       0.78      0.78      0.78      2000\n",
      "weighted avg       0.78      0.78      0.78      2000\n",
      "\n"
     ]
    }
   ],
   "source": [
    "print(\"Classification Report for TEST data set:\")\n",
    "print(classification_report(y_test, predictions_test_centroid))"
   ]
  },
  {
   "cell_type": "code",
   "execution_count": 80,
   "metadata": {
    "ExecuteTime": {
     "end_time": "2024-09-06T08:56:36.865353Z",
     "start_time": "2024-09-06T08:56:32.906759Z"
    },
    "colab": {
     "base_uri": "https://localhost:8080/"
    },
    "id": "a_Wy7t4xHoRb",
    "outputId": "70ed18a5-8899-48a0-c321-e9fadabe1efe"
   },
   "outputs": [
    {
     "name": "stdout",
     "output_type": "stream",
     "text": [
      "Epoch 1/100\n",
      "\u001B[1m32/32\u001B[0m \u001B[32m━━━━━━━━━━━━━━━━━━━━\u001B[0m\u001B[37m\u001B[0m \u001B[1m0s\u001B[0m 455us/step categ\n",
      " — val_f1: 0.784042 — val_precision: 0.784392 — val_recall: 0.784000\n",
      "\n",
      "Epoch 1: val_f1 improved from 0.74947 to 0.78404, saving model to checkpoints/mlp.weights.h5\n",
      "\u001B[1m28/28\u001B[0m \u001B[32m━━━━━━━━━━━━━━━━━━━━\u001B[0m\u001B[37m\u001B[0m \u001B[1m1s\u001B[0m 8ms/step - categorical_accuracy: 0.8344 - loss: 0.3563 - val_categorical_accuracy: 0.7840 - val_loss: 0.5112 - val_f1: 0.7840 - val_recall: 0.7840 - val_precision: 0.7844\n",
      "Epoch 2/100\n",
      "\u001B[1m32/32\u001B[0m \u001B[32m━━━━━━━━━━━━━━━━━━━━\u001B[0m\u001B[37m\u001B[0m \u001B[1m0s\u001B[0m 476us/step catego\n",
      " — val_f1: 0.778040 — val_precision: 0.778584 — val_recall: 0.778000\n",
      "\n",
      "Epoch 2: val_f1 did not improve from 0.78404\n",
      "\u001B[1m28/28\u001B[0m \u001B[32m━━━━━━━━━━━━━━━━━━━━\u001B[0m\u001B[37m\u001B[0m \u001B[1m0s\u001B[0m 5ms/step - categorical_accuracy: 0.8435 - loss: 0.3510 - val_categorical_accuracy: 0.7780 - val_loss: 0.5137 - val_f1: 0.7780 - val_recall: 0.7780 - val_precision: 0.7786\n",
      "Epoch 3/100\n",
      "\u001B[1m32/32\u001B[0m \u001B[32m━━━━━━━━━━━━━━━━━━━━\u001B[0m\u001B[37m\u001B[0m \u001B[1m0s\u001B[0m 454us/step catego\n",
      " — val_f1: 0.774146 — val_precision: 0.777056 — val_recall: 0.775000\n",
      "\n",
      "Epoch 3: val_f1 did not improve from 0.78404\n",
      "\u001B[1m28/28\u001B[0m \u001B[32m━━━━━━━━━━━━━━━━━━━━\u001B[0m\u001B[37m\u001B[0m \u001B[1m0s\u001B[0m 5ms/step - categorical_accuracy: 0.8484 - loss: 0.3367 - val_categorical_accuracy: 0.7750 - val_loss: 0.5115 - val_f1: 0.7741 - val_recall: 0.7750 - val_precision: 0.7771\n",
      "Epoch 4/100\n",
      "\u001B[1m32/32\u001B[0m \u001B[32m━━━━━━━━━━━━━━━━━━━━\u001B[0m\u001B[37m\u001B[0m \u001B[1m0s\u001B[0m 433us/step catego\n",
      " — val_f1: 0.768042 — val_precision: 0.768581 — val_recall: 0.768000\n",
      "\n",
      "Epoch 4: val_f1 did not improve from 0.78404\n",
      "\u001B[1m28/28\u001B[0m \u001B[32m━━━━━━━━━━━━━━━━━━━━\u001B[0m\u001B[37m\u001B[0m \u001B[1m0s\u001B[0m 5ms/step - categorical_accuracy: 0.8503 - loss: 0.3259 - val_categorical_accuracy: 0.7680 - val_loss: 0.5340 - val_f1: 0.7680 - val_recall: 0.7680 - val_precision: 0.7686\n",
      "Epoch 5/100\n",
      "\u001B[1m32/32\u001B[0m \u001B[32m━━━━━━━━━━━━━━━━━━━━\u001B[0m\u001B[37m\u001B[0m \u001B[1m0s\u001B[0m 473us/step catego\n",
      " — val_f1: 0.769838 — val_precision: 0.772667 — val_recall: 0.770000\n",
      "\n",
      "Epoch 5: val_f1 did not improve from 0.78404\n",
      "\u001B[1m28/28\u001B[0m \u001B[32m━━━━━━━━━━━━━━━━━━━━\u001B[0m\u001B[37m\u001B[0m \u001B[1m0s\u001B[0m 5ms/step - categorical_accuracy: 0.8547 - loss: 0.3301 - val_categorical_accuracy: 0.7700 - val_loss: 0.5445 - val_f1: 0.7698 - val_recall: 0.7700 - val_precision: 0.7727\n",
      "Epoch 6/100\n",
      "\u001B[1m32/32\u001B[0m \u001B[32m━━━━━━━━━━━━━━━━━━━━\u001B[0m\u001B[37m\u001B[0m \u001B[1m0s\u001B[0m 417us/step catego\n",
      " — val_f1: 0.774702 — val_precision: 0.778781 — val_recall: 0.775000\n",
      "\n",
      "Epoch 6: val_f1 did not improve from 0.78404\n",
      "\u001B[1m28/28\u001B[0m \u001B[32m━━━━━━━━━━━━━━━━━━━━\u001B[0m\u001B[37m\u001B[0m \u001B[1m0s\u001B[0m 5ms/step - categorical_accuracy: 0.8632 - loss: 0.3135 - val_categorical_accuracy: 0.7750 - val_loss: 0.5394 - val_f1: 0.7747 - val_recall: 0.7750 - val_precision: 0.7788\n",
      "Epoch 7/100\n",
      "\u001B[1m32/32\u001B[0m \u001B[32m━━━━━━━━━━━━━━━━━━━━\u001B[0m\u001B[37m\u001B[0m \u001B[1m0s\u001B[0m 440us/step catego\n",
      " — val_f1: 0.768851 — val_precision: 0.771554 — val_recall: 0.769000\n",
      "\n",
      "Epoch 7: val_f1 did not improve from 0.78404\n",
      "\u001B[1m28/28\u001B[0m \u001B[32m━━━━━━━━━━━━━━━━━━━━\u001B[0m\u001B[37m\u001B[0m \u001B[1m0s\u001B[0m 5ms/step - categorical_accuracy: 0.8558 - loss: 0.3221 - val_categorical_accuracy: 0.7690 - val_loss: 0.5307 - val_f1: 0.7689 - val_recall: 0.7690 - val_precision: 0.7716\n",
      "Epoch 8/100\n",
      "\u001B[1m32/32\u001B[0m \u001B[32m━━━━━━━━━━━━━━━━━━━━\u001B[0m\u001B[37m\u001B[0m \u001B[1m0s\u001B[0m 496us/step catego\n",
      " — val_f1: 0.772797 — val_precision: 0.776023 — val_recall: 0.773000\n",
      "\n",
      "Epoch 8: val_f1 did not improve from 0.78404\n",
      "\u001B[1m28/28\u001B[0m \u001B[32m━━━━━━━━━━━━━━━━━━━━\u001B[0m\u001B[37m\u001B[0m \u001B[1m0s\u001B[0m 6ms/step - categorical_accuracy: 0.8593 - loss: 0.3082 - val_categorical_accuracy: 0.7730 - val_loss: 0.5860 - val_f1: 0.7728 - val_recall: 0.7730 - val_precision: 0.7760\n",
      "Epoch 9/100\n",
      "\u001B[1m32/32\u001B[0m \u001B[32m━━━━━━━━━━━━━━━━━━━━\u001B[0m\u001B[37m\u001B[0m \u001B[1m0s\u001B[0m 463us/step catego\n",
      " — val_f1: 0.781846 — val_precision: 0.784731 — val_recall: 0.782000\n",
      "\n",
      "Epoch 9: val_f1 did not improve from 0.78404\n",
      "\u001B[1m28/28\u001B[0m \u001B[32m━━━━━━━━━━━━━━━━━━━━\u001B[0m\u001B[37m\u001B[0m \u001B[1m0s\u001B[0m 5ms/step - categorical_accuracy: 0.8656 - loss: 0.3044 - val_categorical_accuracy: 0.7820 - val_loss: 0.5567 - val_f1: 0.7818 - val_recall: 0.7820 - val_precision: 0.7847\n",
      "Epoch 10/100\n",
      "\u001B[1m32/32\u001B[0m \u001B[32m━━━━━━━━━━━━━━━━━━━━\u001B[0m\u001B[37m\u001B[0m \u001B[1m0s\u001B[0m 456us/step catego\n",
      " — val_f1: 0.772306 — val_precision: 0.779492 — val_recall: 0.773000\n",
      "\n",
      "Epoch 10: val_f1 did not improve from 0.78404\n",
      "\u001B[1m28/28\u001B[0m \u001B[32m━━━━━━━━━━━━━━━━━━━━\u001B[0m\u001B[37m\u001B[0m \u001B[1m0s\u001B[0m 5ms/step - categorical_accuracy: 0.8669 - loss: 0.3009 - val_categorical_accuracy: 0.7730 - val_loss: 0.5695 - val_f1: 0.7723 - val_recall: 0.7730 - val_precision: 0.7795\n",
      "Epoch 11/100\n",
      "\u001B[1m32/32\u001B[0m \u001B[32m━━━━━━━━━━━━━━━━━━━━\u001B[0m\u001B[37m\u001B[0m \u001B[1m0s\u001B[0m 539us/step catego\n",
      " — val_f1: 0.776043 — val_precision: 0.776310 — val_recall: 0.776000\n",
      "\n",
      "Epoch 11: val_f1 did not improve from 0.78404\n",
      "\u001B[1m28/28\u001B[0m \u001B[32m━━━━━━━━━━━━━━━━━━━━\u001B[0m\u001B[37m\u001B[0m \u001B[1m0s\u001B[0m 5ms/step - categorical_accuracy: 0.8723 - loss: 0.2938 - val_categorical_accuracy: 0.7760 - val_loss: 0.5678 - val_f1: 0.7760 - val_recall: 0.7760 - val_precision: 0.7763\n",
      "Epoch 12/100\n",
      "\u001B[1m32/32\u001B[0m \u001B[32m━━━━━━━━━━━━━━━━━━━━\u001B[0m\u001B[37m\u001B[0m \u001B[1m0s\u001B[0m 443us/step categ\n",
      " — val_f1: 0.783037 — val_precision: 0.783640 — val_recall: 0.783000\n",
      "\n",
      "Epoch 12: val_f1 did not improve from 0.78404\n",
      "\u001B[1m28/28\u001B[0m \u001B[32m━━━━━━━━━━━━━━━━━━━━\u001B[0m\u001B[37m\u001B[0m \u001B[1m0s\u001B[0m 6ms/step - categorical_accuracy: 0.8782 - loss: 0.2757 - val_categorical_accuracy: 0.7830 - val_loss: 0.5666 - val_f1: 0.7830 - val_recall: 0.7830 - val_precision: 0.7836\n",
      "Epoch 13/100\n",
      "\u001B[1m32/32\u001B[0m \u001B[32m━━━━━━━━━━━━━━━━━━━━\u001B[0m\u001B[37m\u001B[0m \u001B[1m0s\u001B[0m 453us/step catego\n",
      " — val_f1: 0.784965 — val_precision: 0.786641 — val_recall: 0.785000\n",
      "\n",
      "Epoch 13: val_f1 improved from 0.78404 to 0.78496, saving model to checkpoints/mlp.weights.h5\n",
      "\u001B[1m28/28\u001B[0m \u001B[32m━━━━━━━━━━━━━━━━━━━━\u001B[0m\u001B[37m\u001B[0m \u001B[1m0s\u001B[0m 6ms/step - categorical_accuracy: 0.8831 - loss: 0.2657 - val_categorical_accuracy: 0.7850 - val_loss: 0.5748 - val_f1: 0.7850 - val_recall: 0.7850 - val_precision: 0.7866\n",
      "Epoch 14/100\n",
      "\u001B[1m32/32\u001B[0m \u001B[32m━━━━━━━━━━━━━━━━━━━━\u001B[0m\u001B[37m\u001B[0m \u001B[1m0s\u001B[0m 449us/step catego\n",
      " — val_f1: 0.777042 — val_precision: 0.777533 — val_recall: 0.777000\n",
      "\n",
      "Epoch 14: val_f1 did not improve from 0.78496\n",
      "\u001B[1m28/28\u001B[0m \u001B[32m━━━━━━━━━━━━━━━━━━━━\u001B[0m\u001B[37m\u001B[0m \u001B[1m0s\u001B[0m 5ms/step - categorical_accuracy: 0.8868 - loss: 0.2576 - val_categorical_accuracy: 0.7770 - val_loss: 0.5871 - val_f1: 0.7770 - val_recall: 0.7770 - val_precision: 0.7775\n",
      "Epoch 15/100\n",
      "\u001B[1m32/32\u001B[0m \u001B[32m━━━━━━━━━━━━━━━━━━━━\u001B[0m\u001B[37m\u001B[0m \u001B[1m0s\u001B[0m 516us/step categ\n",
      " — val_f1: 0.774903 — val_precision: 0.774994 — val_recall: 0.775000\n",
      "\n",
      "Epoch 15: val_f1 did not improve from 0.78496\n",
      "\u001B[1m28/28\u001B[0m \u001B[32m━━━━━━━━━━━━━━━━━━━━\u001B[0m\u001B[37m\u001B[0m \u001B[1m0s\u001B[0m 6ms/step - categorical_accuracy: 0.8825 - loss: 0.2644 - val_categorical_accuracy: 0.7750 - val_loss: 0.5764 - val_f1: 0.7749 - val_recall: 0.7750 - val_precision: 0.7750\n",
      "Epoch 16/100\n",
      "\u001B[1m32/32\u001B[0m \u001B[32m━━━━━━━━━━━━━━━━━━━━\u001B[0m\u001B[37m\u001B[0m \u001B[1m0s\u001B[0m 410us/step catego\n",
      " — val_f1: 0.779025 — val_precision: 0.779090 — val_recall: 0.779000\n",
      "\n",
      "Epoch 16: val_f1 did not improve from 0.78496\n",
      "\u001B[1m28/28\u001B[0m \u001B[32m━━━━━━━━━━━━━━━━━━━━\u001B[0m\u001B[37m\u001B[0m \u001B[1m0s\u001B[0m 5ms/step - categorical_accuracy: 0.8827 - loss: 0.2631 - val_categorical_accuracy: 0.7790 - val_loss: 0.5993 - val_f1: 0.7790 - val_recall: 0.7790 - val_precision: 0.7791\n",
      "Epoch 17/100\n",
      "\u001B[1m32/32\u001B[0m \u001B[32m━━━━━━━━━━━━━━━━━━━━\u001B[0m\u001B[37m\u001B[0m \u001B[1m0s\u001B[0m 405us/step catego\n",
      " — val_f1: 0.765046 — val_precision: 0.765436 — val_recall: 0.765000\n",
      "\n",
      "Epoch 17: val_f1 did not improve from 0.78496\n",
      "\u001B[1m28/28\u001B[0m \u001B[32m━━━━━━━━━━━━━━━━━━━━\u001B[0m\u001B[37m\u001B[0m \u001B[1m0s\u001B[0m 5ms/step - categorical_accuracy: 0.8928 - loss: 0.2534 - val_categorical_accuracy: 0.7650 - val_loss: 0.6048 - val_f1: 0.7650 - val_recall: 0.7650 - val_precision: 0.7654\n",
      "Epoch 18/100\n",
      "\u001B[1m32/32\u001B[0m \u001B[32m━━━━━━━━━━━━━━━━━━━━\u001B[0m\u001B[37m\u001B[0m \u001B[1m0s\u001B[0m 486us/step catego\n",
      " — val_f1: 0.765933 — val_precision: 0.767854 — val_recall: 0.766000\n",
      "\n",
      "Epoch 18: val_f1 did not improve from 0.78496\n",
      "\u001B[1m28/28\u001B[0m \u001B[32m━━━━━━━━━━━━━━━━━━━━\u001B[0m\u001B[37m\u001B[0m \u001B[1m0s\u001B[0m 6ms/step - categorical_accuracy: 0.9012 - loss: 0.2396 - val_categorical_accuracy: 0.7660 - val_loss: 0.6255 - val_f1: 0.7659 - val_recall: 0.7660 - val_precision: 0.7679\n",
      "Epoch 19/100\n",
      "\u001B[1m32/32\u001B[0m \u001B[32m━━━━━━━━━━━━━━━━━━━━\u001B[0m\u001B[37m\u001B[0m \u001B[1m0s\u001B[0m 451us/step catego\n",
      " — val_f1: 0.779196 — val_precision: 0.787521 — val_recall: 0.780000\n",
      "\n",
      "Epoch 19: val_f1 did not improve from 0.78496\n",
      "\u001B[1m28/28\u001B[0m \u001B[32m━━━━━━━━━━━━━━━━━━━━\u001B[0m\u001B[37m\u001B[0m \u001B[1m0s\u001B[0m 5ms/step - categorical_accuracy: 0.8939 - loss: 0.2510 - val_categorical_accuracy: 0.7800 - val_loss: 0.6411 - val_f1: 0.7792 - val_recall: 0.7800 - val_precision: 0.7875\n",
      "Epoch 20/100\n",
      "\u001B[1m32/32\u001B[0m \u001B[32m━━━━━━━━━━━━━━━━━━━━\u001B[0m\u001B[37m\u001B[0m \u001B[1m0s\u001B[0m 414us/step catego\n",
      " — val_f1: 0.771043 — val_precision: 0.771531 — val_recall: 0.771000\n",
      "\n",
      "Epoch 20: val_f1 did not improve from 0.78496\n",
      "\u001B[1m28/28\u001B[0m \u001B[32m━━━━━━━━━━━━━━━━━━━━\u001B[0m\u001B[37m\u001B[0m \u001B[1m0s\u001B[0m 5ms/step - categorical_accuracy: 0.8943 - loss: 0.2527 - val_categorical_accuracy: 0.7710 - val_loss: 0.6227 - val_f1: 0.7710 - val_recall: 0.7710 - val_precision: 0.7715\n",
      "Epoch 21/100\n",
      "\u001B[1m32/32\u001B[0m \u001B[32m━━━━━━━━━━━━━━━━━━━━\u001B[0m\u001B[37m\u001B[0m \u001B[1m0s\u001B[0m 409us/step catego\n",
      " — val_f1: 0.764334 — val_precision: 0.771028 — val_recall: 0.765000\n",
      "\n",
      "Epoch 21: val_f1 did not improve from 0.78496\n",
      "\u001B[1m28/28\u001B[0m \u001B[32m━━━━━━━━━━━━━━━━━━━━\u001B[0m\u001B[37m\u001B[0m \u001B[1m0s\u001B[0m 5ms/step - categorical_accuracy: 0.9018 - loss: 0.2309 - val_categorical_accuracy: 0.7650 - val_loss: 0.6665 - val_f1: 0.7643 - val_recall: 0.7650 - val_precision: 0.7710\n"
     ]
    }
   ],
   "source": [
    "# Fine-tune the best model using the training centroid vectors and one-hot encoded labels\n",
    "history_val_2 = best_model_2.fit(\n",
    "    X_train_centroids,                                    # Training feature set (centroid vectors)\n",
    "    y_train_1_hot,                                        # Training labels (one-hot encoded)\n",
    "    validation_data=(X_val_centroids, y_val_1_hot),       # Validation data\n",
    "    batch_size=256,                                       # Batch size\n",
    "    epochs=100,                                           # Maximum number of epochs\n",
    "    shuffle=True,                                         # Shuffle the training data at the start of each epoch\n",
    "    callbacks=[\n",
    "        Metrics(valid_data=(X_val_centroids, y_val_1_hot)),  # Custom metric callback for monitoring\n",
    "        checkpoint,                                         # Save the best model\n",
    "        early_stopping,                                     # Early stopping to prevent overfitting\n",
    "    ],\n",
    ")"
   ]
  },
  {
   "cell_type": "code",
   "execution_count": 81,
   "metadata": {
    "ExecuteTime": {
     "end_time": "2024-09-06T08:57:11.475116Z",
     "start_time": "2024-09-06T08:57:11.344743Z"
    },
    "collapsed": false
   },
   "outputs": [
    {
     "data": {
      "image/png": "[encoded data removed]",
      "text/plain": [
       "<Figure size 640x480 with 1 Axes>"
      ]
     },
     "metadata": {},
     "output_type": "display_data"
    }
   ],
   "source": [
    "# summarize history for accuracy\n",
    "plt.plot(history_val_2.history[\"categorical_accuracy\"])\n",
    "plt.plot(history_val_2.history[\"val_categorical_accuracy\"])\n",
    "plt.title(\"model accuracy\")\n",
    "plt.ylabel(\"accuracy\")\n",
    "plt.xlabel(\"epoch\")\n",
    "plt.legend([\"train\", \"dev\"], loc=\"upper left\")\n",
    "plt.show()"
   ]
  },
  {
   "cell_type": "code",
   "execution_count": 82,
   "metadata": {
    "ExecuteTime": {
     "end_time": "2024-09-06T08:57:23.539370Z",
     "start_time": "2024-09-06T08:57:23.479223Z"
    },
    "colab": {
     "base_uri": "https://localhost:8080/",
     "height": 927
    },
    "id": "rLo2ZXfbHoRc",
    "outputId": "3bc49795-495e-4247-ffd2-c91699a81b07"
   },
   "outputs": [
    {
     "data": {
      "image/png": "[encoded data removed]",
      "text/plain": [
       "<Figure size 640x480 with 1 Axes>"
      ]
     },
     "metadata": {},
     "output_type": "display_data"
    }
   ],
   "source": [
    "# summarize history for loss\n",
    "plt.plot(history_val_2.history[\"loss\"])\n",
    "plt.plot(history_val_2.history[\"val_loss\"])\n",
    "plt.title(\"model loss\")\n",
    "plt.ylabel(\"loss\")\n",
    "plt.xlabel(\"epoch\")\n",
    "plt.legend([\"train\", \"dev\"], loc=\"upper right\")\n",
    "plt.show()"
   ]
  },
  {
   "cell_type": "markdown",
   "metadata": {
    "id": "EYEQ2pf6xSf3"
   },
   "source": [
    "# Precision-Recall curves"
   ]
  },
  {
   "cell_type": "code",
   "execution_count": null,
   "outputs": [],
   "source": [
    "# Disable warnings for large floating-point numbers in estimated probabilities\n",
    "np.seterr(all=\"ignore\")"
   ],
   "metadata": {
    "collapsed": false
   }
  },
  {
   "cell_type": "code",
   "execution_count": null,
   "outputs": [],
   "source": [
    "# Precision-Recall curve for Logistic Regression with TF-IDF features\n",
    "name = \"Tuned Logistic Regression Tf-Idf\"\n",
    "model = log_cv  # Use pre-tuned logistic regression model\n",
    "model.fit(x_train_tfidf, y_train)  # Fit the model to the TF-IDF training data\n",
    "pred = model.predict_proba(x_test_tfidf)  # Get predicted probabilities for the test data\n",
    "precision, recall, thresholds = precision_recall_curve(y_test, pred[:, 1])  # Calculate precision and recall\n",
    "area = auc(recall, precision)  # Calculate the area under the precision-recall curve"
   ],
   "metadata": {
    "collapsed": false
   }
  },
  {
   "cell_type": "code",
   "execution_count": 87,
   "metadata": {
    "ExecuteTime": {
     "end_time": "2024-09-06T08:59:30.245817Z",
     "start_time": "2024-09-06T08:59:29.462204Z"
    },
    "colab": {
     "base_uri": "https://localhost:8080/",
     "height": 472
    },
    "id": "4P4T0VrTxVsP",
    "outputId": "3aaa76fa-9d31-4d06-ed11-eda8d1d30453"
   },
   "outputs": [
    {
     "data": {
      "image/png": "[encoded data removed]",
      "text/plain": [
       "<Figure size 640x480 with 1 Axes>"
      ]
     },
     "metadata": {},
     "output_type": "display_data"
    }
   ],
   "source": [
    "plt.plot(recall, precision, label=\"Precision-Recall curve\")\n",
    "plt.xlabel(\"Recall\")\n",
    "plt.ylabel(\"Precision\")\n",
    "plt.ylim([0.0, 1.05])\n",
    "plt.xlim([0.0, 1.0])\n",
    "plt.title(\"Precision-Recall %s: AUC=%0.2f\" % (name, area))\n",
    "plt.legend(loc=\"lower left\")\n",
    "plt.show()"
   ]
  },
  {
   "cell_type": "code",
   "execution_count": null,
   "outputs": [],
   "source": [
    "# Precision-Recall curve for MLP with TF-IDF features\n",
    "name = \"MLP Tf-Idf\"\n",
    "model = best_model  # Use the best MLP model (with TF-IDF features)\n",
    "pred = predictions_test_tf_idf  # Predicted class labels for the test data\n",
    "precision, recall, thresholds = precision_recall_curve(y_test, pred)  # Calculate precision and recall\n",
    "area = auc(recall, precision)  # Calculate the area under the precision-recall curve"
   ],
   "metadata": {
    "collapsed": false
   }
  },
  {
   "cell_type": "code",
   "execution_count": 88,
   "metadata": {
    "ExecuteTime": {
     "end_time": "2024-09-06T08:59:40.096501Z",
     "start_time": "2024-09-06T08:59:40.031423Z"
    },
    "colab": {
     "base_uri": "https://localhost:8080/",
     "height": 472
    },
    "id": "RKiYW9qW7jEo",
    "outputId": "7e384689-2b0b-4f27-ef44-10b6b455dc5a"
   },
   "outputs": [
    {
     "data": {
      "image/png": "[encoded data removed]",
      "text/plain": [
       "<Figure size 640x480 with 1 Axes>"
      ]
     },
     "metadata": {},
     "output_type": "display_data"
    }
   ],
   "source": [
    "plt.plot(recall, precision, label=\"Precision-Recall curve\")\n",
    "plt.xlabel(\"Recall\")\n",
    "plt.ylabel(\"Precision\")\n",
    "plt.ylim([0.0, 1.05])\n",
    "plt.xlim([0.0, 1.0])\n",
    "plt.title(\"Precision-Recall %s: AUC=%0.2f\" % (name, area))\n",
    "plt.legend(loc=\"lower left\")\n",
    "plt.show()"
   ]
  },
  {
   "cell_type": "code",
   "execution_count": null,
   "outputs": [],
   "source": [
    "# Precision-Recall curve for MLP with centroid features\n",
    "name = \"MLP With Centroid\"\n",
    "model = best_model_2  # Use the best MLP model (with centroid features)\n",
    "pred = predictions_test_centroid  # Predicted class labels for the test data\n",
    "precision, recall, thresholds = precision_recall_curve(y_test, pred)  # Calculate precision and recall\n",
    "area = auc(recall, precision)  # Calculate the area under the precision-recall curve"
   ],
   "metadata": {
    "collapsed": false
   }
  },
  {
   "cell_type": "code",
   "execution_count": 89,
   "metadata": {
    "ExecuteTime": {
     "end_time": "2024-09-06T08:59:44.375861Z",
     "start_time": "2024-09-06T08:59:44.333411Z"
    },
    "colab": {
     "base_uri": "https://localhost:8080/",
     "height": 472
    },
    "id": "hy3PfHPP9Byu",
    "outputId": "dad405d3-a6e6-43a0-ea61-2bbce334da3b"
   },
   "outputs": [
    {
     "data": {
      "image/png": "[encoded data removed]",
      "text/plain": [
       "<Figure size 640x480 with 1 Axes>"
      ]
     },
     "metadata": {},
     "output_type": "display_data"
    }
   ],
   "source": [
    "plt.plot(recall, precision, label=\"Precision-Recall curve\")\n",
    "plt.xlabel(\"Recall\")\n",
    "plt.ylabel(\"Precision\")\n",
    "plt.ylim([0.0, 1.05])\n",
    "plt.xlim([0.0, 1.0])\n",
    "plt.title(\"Precision-Recall %s: AUC=%0.2f\" % (name, area))\n",
    "plt.legend(loc=\"lower left\")\n",
    "plt.show()"
   ]
  }
 ],
 "metadata": {
  "colab": {
   "provenance": []
  },
  "kernelspec": {
   "display_name": "Python 3",
   "language": "python",
   "name": "python3"
  },
  "language_info": {
   "name": "python"
  }
 },
 "nbformat": 4,
 "nbformat_minor": 0
}
